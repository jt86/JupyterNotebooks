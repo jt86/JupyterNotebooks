{
 "cells": [
  {
   "cell_type": "code",
   "execution_count": 1,
   "metadata": {},
   "outputs": [],
   "source": [
    "import os, sys\n",
    "# import sklearn as skl \n",
    "import pandas as pd\n",
    "import numpy as np\n",
    "import matplotlib.pyplot as plt\n",
    "from sklearn.datasets import make_classification\n",
    "from sklearn.ensemble import ExtraTreesClassifier"
   ]
  },
  {
   "cell_type": "code",
   "execution_count": 2,
   "metadata": {},
   "outputs": [
    {
     "data": {
      "text/plain": [
       "Index(['name1', 'name2', 'addr1', 'addr2', 'addr3', 'addr4', 'postcode',\n",
       "       'acct_id', 'ck', 'prop', 'rv', 'vo_propdescrip', 'baddr1', 'baddr2',\n",
       "       'baddr3', 'baddr4', 'prop_postcode', 'empty_prop', 'empty_from'],\n",
       "      dtype='object')"
      ]
     },
     "execution_count": 2,
     "metadata": {},
     "output_type": "execute_result"
    }
   ],
   "source": [
    "business_df = pd.read_excel('NNDR_for_Joe.xlsx',sheet_name=0)\n",
    "business_df.keys()"
   ]
  },
  {
   "cell_type": "code",
   "execution_count": 3,
   "metadata": {},
   "outputs": [],
   "source": [
    "business_df=business_df.drop(['addr1','addr2','addr3','addr4','postcode','baddr1', 'baddr2',\n",
    "       'baddr3', 'baddr4','prop_postcode'],axis=1)"
   ]
  },
  {
   "cell_type": "code",
   "execution_count": 4,
   "metadata": {},
   "outputs": [
    {
     "data": {
      "text/plain": [
       "4655103    1\n",
       "2811174    1\n",
       "2637109    1\n",
       "2783042    1\n",
       "2723123    1\n",
       "Name: prop, dtype: int64"
      ]
     },
     "execution_count": 4,
     "metadata": {},
     "output_type": "execute_result"
    }
   ],
   "source": [
    "business_df['prop'].value_counts().head()"
   ]
  },
  {
   "cell_type": "code",
   "execution_count": null,
   "metadata": {},
   "outputs": [],
   "source": []
  },
  {
   "cell_type": "code",
   "execution_count": 5,
   "metadata": {},
   "outputs": [
    {
     "data": {
      "text/html": [
       "<div>\n",
       "<style scoped>\n",
       "    .dataframe tbody tr th:only-of-type {\n",
       "        vertical-align: middle;\n",
       "    }\n",
       "\n",
       "    .dataframe tbody tr th {\n",
       "        vertical-align: top;\n",
       "    }\n",
       "\n",
       "    .dataframe thead th {\n",
       "        text-align: right;\n",
       "    }\n",
       "</style>\n",
       "<table border=\"1\" class=\"dataframe\">\n",
       "  <thead>\n",
       "    <tr style=\"text-align: right;\">\n",
       "      <th></th>\n",
       "      <th>propref</th>\n",
       "      <th>fin_year</th>\n",
       "      <th>status</th>\n",
       "      <th>account_id</th>\n",
       "      <th>check_digit</th>\n",
       "      <th>account_holder1</th>\n",
       "      <th>account_holder2</th>\n",
       "      <th>paymeth_code</th>\n",
       "      <th>trans_code</th>\n",
       "      <th>bill_no</th>\n",
       "      <th>...</th>\n",
       "      <th>last_payment</th>\n",
       "      <th>fullaccountref</th>\n",
       "      <th>account_bal</th>\n",
       "      <th>name1</th>\n",
       "      <th>name2</th>\n",
       "      <th>addr1</th>\n",
       "      <th>addr2</th>\n",
       "      <th>addr3</th>\n",
       "      <th>addr4</th>\n",
       "      <th>postcode</th>\n",
       "    </tr>\n",
       "  </thead>\n",
       "  <tbody>\n",
       "    <tr>\n",
       "      <th>0</th>\n",
       "      <td>1001001</td>\n",
       "      <td>200910</td>\n",
       "      <td>NaN</td>\n",
       "      <td>60105948</td>\n",
       "      <td>X</td>\n",
       "      <td>MR ROYSTON LE COINTE</td>\n",
       "      <td>NaN</td>\n",
       "      <td>DDM01</td>\n",
       "      <td>DD</td>\n",
       "      <td>9</td>\n",
       "      <td>...</td>\n",
       "      <td>2011-10-26</td>\n",
       "      <td>60105948X</td>\n",
       "      <td>2.00</td>\n",
       "      <td>NaN</td>\n",
       "      <td>NaN</td>\n",
       "      <td>2ND FLR UNIT 201 COLOURWORKS</td>\n",
       "      <td>2 ABBOT STREET</td>\n",
       "      <td>LONDON</td>\n",
       "      <td>NaN</td>\n",
       "      <td>E8 3DP</td>\n",
       "    </tr>\n",
       "    <tr>\n",
       "      <th>1</th>\n",
       "      <td>1001001</td>\n",
       "      <td>201718</td>\n",
       "      <td></td>\n",
       "      <td>60179497</td>\n",
       "      <td>5</td>\n",
       "      <td>DMD CAPITAL LIMITED</td>\n",
       "      <td>NaN</td>\n",
       "      <td>CSM01</td>\n",
       "      <td>SORD</td>\n",
       "      <td>1</td>\n",
       "      <td>...</td>\n",
       "      <td>2018-02-14</td>\n",
       "      <td>601794975</td>\n",
       "      <td>-97.01</td>\n",
       "      <td>NaN</td>\n",
       "      <td>NaN</td>\n",
       "      <td>2ND FLR UNIT 201 COLOURWORKS</td>\n",
       "      <td>2 ABBOT STREET</td>\n",
       "      <td>LONDON</td>\n",
       "      <td>NaN</td>\n",
       "      <td>E8 3DP</td>\n",
       "    </tr>\n",
       "  </tbody>\n",
       "</table>\n",
       "<p>2 rows × 21 columns</p>\n",
       "</div>"
      ],
      "text/plain": [
       "   propref  fin_year status  account_id check_digit       account_holder1  \\\n",
       "0  1001001    200910    NaN    60105948           X  MR ROYSTON LE COINTE   \n",
       "1  1001001    201718           60179497           5   DMD CAPITAL LIMITED   \n",
       "\n",
       "  account_holder2 paymeth_code trans_code  bill_no   ...     last_payment  \\\n",
       "0             NaN        DDM01         DD        9   ...       2011-10-26   \n",
       "1             NaN        CSM01       SORD        1   ...       2018-02-14   \n",
       "\n",
       "  fullaccountref account_bal  name1 name2                         addr1  \\\n",
       "0      60105948X        2.00    NaN   NaN  2ND FLR UNIT 201 COLOURWORKS   \n",
       "1      601794975      -97.01    NaN   NaN  2ND FLR UNIT 201 COLOURWORKS   \n",
       "\n",
       "            addr2   addr3 addr4 postcode  \n",
       "0  2 ABBOT STREET  LONDON   NaN   E8 3DP  \n",
       "1  2 ABBOT STREET  LONDON   NaN   E8 3DP  \n",
       "\n",
       "[2 rows x 21 columns]"
      ]
     },
     "execution_count": 5,
     "metadata": {},
     "output_type": "execute_result"
    }
   ],
   "source": [
    "balance_df = pd.read_excel('NNDR_for_Joe.xlsx',sheet_name=1)\n",
    "balance_df.head(2)"
   ]
  },
  {
   "cell_type": "code",
   "execution_count": 6,
   "metadata": {},
   "outputs": [
    {
     "data": {
      "text/plain": [
       "Series([], Name: name2, dtype: int64)"
      ]
     },
     "execution_count": 6,
     "metadata": {},
     "output_type": "execute_result"
    }
   ],
   "source": [
    "balance_df['name2'].value_counts()"
   ]
  },
  {
   "cell_type": "code",
   "execution_count": 7,
   "metadata": {},
   "outputs": [
    {
     "data": {
      "text/plain": [
       "Index(['propref', 'fin_year', 'status', 'account_id', 'check_digit',\n",
       "       'account_holder1', 'account_holder2', 'paymeth_code', 'trans_code',\n",
       "       'bill_no', 'bill_bal', 'last_payment', 'fullaccountref', 'account_bal',\n",
       "       'name1', 'name2', 'addr1', 'addr2', 'addr3', 'addr4', 'postcode'],\n",
       "      dtype='object')"
      ]
     },
     "execution_count": 7,
     "metadata": {},
     "output_type": "execute_result"
    }
   ],
   "source": [
    "balance_df.keys()"
   ]
  },
  {
   "cell_type": "code",
   "execution_count": 8,
   "metadata": {},
   "outputs": [
    {
     "data": {
      "text/html": [
       "<div>\n",
       "<style scoped>\n",
       "    .dataframe tbody tr th:only-of-type {\n",
       "        vertical-align: middle;\n",
       "    }\n",
       "\n",
       "    .dataframe tbody tr th {\n",
       "        vertical-align: top;\n",
       "    }\n",
       "\n",
       "    .dataframe thead th {\n",
       "        text-align: right;\n",
       "    }\n",
       "</style>\n",
       "<table border=\"1\" class=\"dataframe\">\n",
       "  <thead>\n",
       "    <tr style=\"text-align: right;\">\n",
       "      <th></th>\n",
       "      <th>propref</th>\n",
       "      <th>fin_year</th>\n",
       "      <th>status</th>\n",
       "      <th>account_id</th>\n",
       "      <th>check_digit</th>\n",
       "      <th>paymeth_code</th>\n",
       "      <th>trans_code</th>\n",
       "      <th>bill_no</th>\n",
       "      <th>bill_bal</th>\n",
       "      <th>last_payment</th>\n",
       "      <th>fullaccountref</th>\n",
       "      <th>account_bal</th>\n",
       "    </tr>\n",
       "  </thead>\n",
       "  <tbody>\n",
       "    <tr>\n",
       "      <th>0</th>\n",
       "      <td>1001001</td>\n",
       "      <td>200910</td>\n",
       "      <td>NaN</td>\n",
       "      <td>60105948</td>\n",
       "      <td>X</td>\n",
       "      <td>DDM01</td>\n",
       "      <td>DD</td>\n",
       "      <td>9</td>\n",
       "      <td>2.00</td>\n",
       "      <td>2011-10-26</td>\n",
       "      <td>60105948X</td>\n",
       "      <td>2.00</td>\n",
       "    </tr>\n",
       "    <tr>\n",
       "      <th>1</th>\n",
       "      <td>1001001</td>\n",
       "      <td>201718</td>\n",
       "      <td></td>\n",
       "      <td>60179497</td>\n",
       "      <td>5</td>\n",
       "      <td>CSM01</td>\n",
       "      <td>SORD</td>\n",
       "      <td>1</td>\n",
       "      <td>-96.99</td>\n",
       "      <td>2018-02-14</td>\n",
       "      <td>601794975</td>\n",
       "      <td>-97.01</td>\n",
       "    </tr>\n",
       "  </tbody>\n",
       "</table>\n",
       "</div>"
      ],
      "text/plain": [
       "   propref  fin_year status  account_id check_digit paymeth_code trans_code  \\\n",
       "0  1001001    200910    NaN    60105948           X        DDM01         DD   \n",
       "1  1001001    201718           60179497           5        CSM01       SORD   \n",
       "\n",
       "   bill_no  bill_bal last_payment fullaccountref  account_bal  \n",
       "0        9      2.00   2011-10-26      60105948X         2.00  \n",
       "1        1    -96.99   2018-02-14      601794975       -97.01  "
      ]
     },
     "execution_count": 8,
     "metadata": {},
     "output_type": "execute_result"
    }
   ],
   "source": [
    "balance_df=balance_df.drop(['account_holder1','account_holder2','name1', 'name2', 'addr1', 'addr2', 'addr3', 'addr4', 'postcode'],axis=1)\n",
    "balance_df.head(2)"
   ]
  },
  {
   "cell_type": "code",
   "execution_count": 9,
   "metadata": {},
   "outputs": [
    {
     "data": {
      "text/html": [
       "<div>\n",
       "<style scoped>\n",
       "    .dataframe tbody tr th:only-of-type {\n",
       "        vertical-align: middle;\n",
       "    }\n",
       "\n",
       "    .dataframe tbody tr th {\n",
       "        vertical-align: top;\n",
       "    }\n",
       "\n",
       "    .dataframe thead th {\n",
       "        text-align: right;\n",
       "    }\n",
       "</style>\n",
       "<table border=\"1\" class=\"dataframe\">\n",
       "  <thead>\n",
       "    <tr style=\"text-align: right;\">\n",
       "      <th></th>\n",
       "      <th>UPRN</th>\n",
       "      <th>organisation</th>\n",
       "      <th>start_date</th>\n",
       "      <th>entry_date</th>\n",
       "      <th>last_update_date</th>\n",
       "      <th>end_date</th>\n",
       "      <th>address</th>\n",
       "      <th>postcode_master</th>\n",
       "      <th>nndr_prop_ref</th>\n",
       "      <th>llpg_usage</th>\n",
       "      <th>Ward</th>\n",
       "    </tr>\n",
       "  </thead>\n",
       "  <tbody>\n",
       "    <tr>\n",
       "      <th>0</th>\n",
       "      <td>10008223002</td>\n",
       "      <td>GUNNERS NEWSAGENTS</td>\n",
       "      <td>20060214</td>\n",
       "      <td>20060214</td>\n",
       "      <td>20170823</td>\n",
       "      <td>0</td>\n",
       "      <td>GUNNERS NEWSAGENTS, 33 BLACKSTOCK ROAD, HACKNE...</td>\n",
       "      <td>N4 2JF</td>\n",
       "      <td>1329285</td>\n",
       "      <td>Commercial, Retail, Shop / Showroom</td>\n",
       "      <td>BROWNSWOOD</td>\n",
       "    </tr>\n",
       "    <tr>\n",
       "      <th>1</th>\n",
       "      <td>10008223003</td>\n",
       "      <td>NaN</td>\n",
       "      <td>20060214</td>\n",
       "      <td>20060214</td>\n",
       "      <td>20150218</td>\n",
       "      <td>0</td>\n",
       "      <td>127 BLACKSTOCK ROAD, HACKNEY, LONDON, N4 2JW</td>\n",
       "      <td>N4 2JW</td>\n",
       "      <td>1329861</td>\n",
       "      <td>Commercial, Retail, Shop / Showroom</td>\n",
       "      <td>BROWNSWOOD</td>\n",
       "    </tr>\n",
       "  </tbody>\n",
       "</table>\n",
       "</div>"
      ],
      "text/plain": [
       "          UPRN        organisation  start_date  entry_date  last_update_date  \\\n",
       "0  10008223002  GUNNERS NEWSAGENTS    20060214    20060214          20170823   \n",
       "1  10008223003                 NaN    20060214    20060214          20150218   \n",
       "\n",
       "   end_date                                            address  \\\n",
       "0         0  GUNNERS NEWSAGENTS, 33 BLACKSTOCK ROAD, HACKNE...   \n",
       "1         0       127 BLACKSTOCK ROAD, HACKNEY, LONDON, N4 2JW   \n",
       "\n",
       "  postcode_master nndr_prop_ref                           llpg_usage  \\\n",
       "0          N4 2JF       1329285  Commercial, Retail, Shop / Showroom   \n",
       "1          N4 2JW       1329861  Commercial, Retail, Shop / Showroom   \n",
       "\n",
       "         Ward  \n",
       "0  BROWNSWOOD  \n",
       "1  BROWNSWOOD  "
      ]
     },
     "execution_count": 9,
     "metadata": {},
     "output_type": "execute_result"
    }
   ],
   "source": [
    "address_df = pd.read_excel('NNDR_for_Joe.xlsx',sheet_name=2)\n",
    "address_df.head(2)"
   ]
  },
  {
   "cell_type": "code",
   "execution_count": 10,
   "metadata": {},
   "outputs": [
    {
     "data": {
      "text/plain": [
       "Index(['UPRN', 'organisation', 'start_date', 'entry_date', 'last_update_date',\n",
       "       'end_date', 'address', 'postcode_master', 'nndr_prop_ref', 'llpg_usage',\n",
       "       'Ward'],\n",
       "      dtype='object')"
      ]
     },
     "execution_count": 10,
     "metadata": {},
     "output_type": "execute_result"
    }
   ],
   "source": [
    "address_df.keys()"
   ]
  },
  {
   "cell_type": "code",
   "execution_count": 11,
   "metadata": {},
   "outputs": [],
   "source": [
    "address_df = address_df.drop(['organisation', 'address'],axis=1)"
   ]
  },
  {
   "cell_type": "markdown",
   "metadata": {},
   "source": [
    "### Now merging dataframes: making sure the matching key is the same format in both dataframes"
   ]
  },
  {
   "cell_type": "code",
   "execution_count": 12,
   "metadata": {},
   "outputs": [
    {
     "data": {
      "text/plain": [
       "0    4611210\n",
       "1    1515103\n",
       "2    2121408\n",
       "3    4055035\n",
       "4    2759032\n",
       "Name: prop, dtype: object"
      ]
     },
     "execution_count": 12,
     "metadata": {},
     "output_type": "execute_result"
    }
   ],
   "source": [
    "business_df['prop']=business_df['prop'].apply(str)\n",
    "business_df['prop'].head()"
   ]
  },
  {
   "cell_type": "code",
   "execution_count": 13,
   "metadata": {},
   "outputs": [
    {
     "data": {
      "text/plain": [
       "0    1329285\n",
       "1    1329861\n",
       "2    3284130\n",
       "3    1619238\n",
       "4    2447098\n",
       "Name: nndr_prop_ref, dtype: object"
      ]
     },
     "execution_count": 13,
     "metadata": {},
     "output_type": "execute_result"
    }
   ],
   "source": [
    "address_df['nndr_prop_ref']=address_df['nndr_prop_ref'].apply(str)\n",
    "address_df['nndr_prop_ref'].head(5)"
   ]
  },
  {
   "cell_type": "code",
   "execution_count": 14,
   "metadata": {},
   "outputs": [],
   "source": [
    "combined_df = pd.merge(business_df, address_df,  how = 'inner', left_on = 'prop', right_on = 'nndr_prop_ref')"
   ]
  },
  {
   "cell_type": "code",
   "execution_count": 15,
   "metadata": {},
   "outputs": [
    {
     "data": {
      "text/html": [
       "<div>\n",
       "<style scoped>\n",
       "    .dataframe tbody tr th:only-of-type {\n",
       "        vertical-align: middle;\n",
       "    }\n",
       "\n",
       "    .dataframe tbody tr th {\n",
       "        vertical-align: top;\n",
       "    }\n",
       "\n",
       "    .dataframe thead th {\n",
       "        text-align: right;\n",
       "    }\n",
       "</style>\n",
       "<table border=\"1\" class=\"dataframe\">\n",
       "  <thead>\n",
       "    <tr style=\"text-align: right;\">\n",
       "      <th></th>\n",
       "      <th>name1</th>\n",
       "      <th>name2</th>\n",
       "      <th>acct_id</th>\n",
       "      <th>ck</th>\n",
       "      <th>prop</th>\n",
       "      <th>rv</th>\n",
       "      <th>vo_propdescrip</th>\n",
       "      <th>empty_prop</th>\n",
       "      <th>empty_from</th>\n",
       "      <th>UPRN</th>\n",
       "      <th>start_date</th>\n",
       "      <th>entry_date</th>\n",
       "      <th>last_update_date</th>\n",
       "      <th>end_date</th>\n",
       "      <th>postcode_master</th>\n",
       "      <th>nndr_prop_ref</th>\n",
       "      <th>llpg_usage</th>\n",
       "      <th>Ward</th>\n",
       "    </tr>\n",
       "  </thead>\n",
       "  <tbody>\n",
       "    <tr>\n",
       "      <th>0</th>\n",
       "      <td>!K7 RECORDS GMBH</td>\n",
       "      <td>NaN</td>\n",
       "      <td>60161467</td>\n",
       "      <td>8</td>\n",
       "      <td>4611210</td>\n",
       "      <td>11500</td>\n",
       "      <td>WORKSHOP AND PREMISES</td>\n",
       "      <td>NaN</td>\n",
       "      <td>NaT</td>\n",
       "      <td>10008332636</td>\n",
       "      <td>20121001</td>\n",
       "      <td>20121001</td>\n",
       "      <td>20141006</td>\n",
       "      <td>0</td>\n",
       "      <td>E8 3FN</td>\n",
       "      <td>4611210</td>\n",
       "      <td>Commercial, Industrial, Workshop / Light Indus...</td>\n",
       "      <td>LONDON FIELDS</td>\n",
       "    </tr>\n",
       "    <tr>\n",
       "      <th>1</th>\n",
       "      <td>&amp; SMITH LIMITED</td>\n",
       "      <td>NaN</td>\n",
       "      <td>60162485</td>\n",
       "      <td>3</td>\n",
       "      <td>1515103</td>\n",
       "      <td>19500</td>\n",
       "      <td>OFFICES AND PREMISES</td>\n",
       "      <td>Y</td>\n",
       "      <td>2001-09-08</td>\n",
       "      <td>10008241663</td>\n",
       "      <td>20060214</td>\n",
       "      <td>20060214</td>\n",
       "      <td>20121017</td>\n",
       "      <td>0</td>\n",
       "      <td>N16 9AE</td>\n",
       "      <td>1515103</td>\n",
       "      <td>Commercial, Offices, Offices and work studios</td>\n",
       "      <td>CLISSOLD</td>\n",
       "    </tr>\n",
       "  </tbody>\n",
       "</table>\n",
       "</div>"
      ],
      "text/plain": [
       "              name1 name2   acct_id ck     prop     rv         vo_propdescrip  \\\n",
       "0  !K7 RECORDS GMBH   NaN  60161467  8  4611210  11500  WORKSHOP AND PREMISES   \n",
       "1   & SMITH LIMITED   NaN  60162485  3  1515103  19500   OFFICES AND PREMISES   \n",
       "\n",
       "  empty_prop empty_from         UPRN  start_date  entry_date  \\\n",
       "0        NaN        NaT  10008332636    20121001    20121001   \n",
       "1          Y 2001-09-08  10008241663    20060214    20060214   \n",
       "\n",
       "   last_update_date  end_date postcode_master nndr_prop_ref  \\\n",
       "0          20141006         0          E8 3FN       4611210   \n",
       "1          20121017         0         N16 9AE       1515103   \n",
       "\n",
       "                                          llpg_usage           Ward  \n",
       "0  Commercial, Industrial, Workshop / Light Indus...  LONDON FIELDS  \n",
       "1      Commercial, Offices, Offices and work studios       CLISSOLD  "
      ]
     },
     "execution_count": 15,
     "metadata": {},
     "output_type": "execute_result"
    }
   ],
   "source": [
    "combined_df.head(2)"
   ]
  },
  {
   "cell_type": "code",
   "execution_count": 16,
   "metadata": {},
   "outputs": [
    {
     "data": {
      "text/plain": [
       "(10328, 18)"
      ]
     },
     "execution_count": 16,
     "metadata": {},
     "output_type": "execute_result"
    }
   ],
   "source": [
    "combined_df.shape"
   ]
  },
  {
   "cell_type": "code",
   "execution_count": 17,
   "metadata": {},
   "outputs": [
    {
     "data": {
      "text/plain": [
       "((10823, 9), (13126, 9))"
      ]
     },
     "execution_count": 17,
     "metadata": {},
     "output_type": "execute_result"
    }
   ],
   "source": [
    "business_df.shape, address_df.shape"
   ]
  },
  {
   "cell_type": "code",
   "execution_count": 18,
   "metadata": {},
   "outputs": [
    {
     "data": {
      "text/plain": [
       "(26686, 12)"
      ]
     },
     "execution_count": 18,
     "metadata": {},
     "output_type": "execute_result"
    }
   ],
   "source": [
    "balance_df.shape"
   ]
  },
  {
   "cell_type": "code",
   "execution_count": 19,
   "metadata": {},
   "outputs": [
    {
     "data": {
      "text/plain": [
       "(10849, 30)"
      ]
     },
     "execution_count": 19,
     "metadata": {},
     "output_type": "execute_result"
    }
   ],
   "source": [
    "combined_df2 = pd.merge(combined_df, balance_df,  how = 'inner', left_on = 'acct_id', right_on = 'account_id', suffixes =['','_2'])\n",
    "combined_df2.shape"
   ]
  },
  {
   "cell_type": "code",
   "execution_count": 20,
   "metadata": {},
   "outputs": [
    {
     "data": {
      "text/plain": [
       "Index(['name1', 'name2', 'acct_id', 'ck', 'prop', 'rv', 'vo_propdescrip',\n",
       "       'empty_prop', 'empty_from', 'UPRN', 'start_date', 'entry_date',\n",
       "       'last_update_date', 'end_date', 'postcode_master', 'nndr_prop_ref',\n",
       "       'llpg_usage', 'Ward', 'propref', 'fin_year', 'status', 'account_id',\n",
       "       'check_digit', 'paymeth_code', 'trans_code', 'bill_no', 'bill_bal',\n",
       "       'last_payment', 'fullaccountref', 'account_bal'],\n",
       "      dtype='object')"
      ]
     },
     "execution_count": 20,
     "metadata": {},
     "output_type": "execute_result"
    }
   ],
   "source": [
    "combined_df2.columns"
   ]
  },
  {
   "cell_type": "code",
   "execution_count": 21,
   "metadata": {},
   "outputs": [
    {
     "name": "stdout",
     "output_type": "stream",
     "text": [
      "nan        1018\n",
      "4749202       4\n",
      "1943742       3\n",
      "Name: nndr_prop_ref, dtype: int64\n"
     ]
    }
   ],
   "source": [
    "# print(address_df.shape)\n",
    "print(address_df['nndr_prop_ref'].value_counts().head(3))"
   ]
  },
  {
   "cell_type": "code",
   "execution_count": 22,
   "metadata": {},
   "outputs": [
    {
     "data": {
      "text/html": [
       "<div>\n",
       "<style scoped>\n",
       "    .dataframe tbody tr th:only-of-type {\n",
       "        vertical-align: middle;\n",
       "    }\n",
       "\n",
       "    .dataframe tbody tr th {\n",
       "        vertical-align: top;\n",
       "    }\n",
       "\n",
       "    .dataframe thead th {\n",
       "        text-align: right;\n",
       "    }\n",
       "</style>\n",
       "<table border=\"1\" class=\"dataframe\">\n",
       "  <thead>\n",
       "    <tr style=\"text-align: right;\">\n",
       "      <th></th>\n",
       "      <th>UPRN</th>\n",
       "      <th>start_date</th>\n",
       "      <th>entry_date</th>\n",
       "      <th>last_update_date</th>\n",
       "      <th>end_date</th>\n",
       "      <th>postcode_master</th>\n",
       "      <th>nndr_prop_ref</th>\n",
       "      <th>llpg_usage</th>\n",
       "      <th>Ward</th>\n",
       "    </tr>\n",
       "  </thead>\n",
       "  <tbody>\n",
       "    <tr>\n",
       "      <th>3207</th>\n",
       "      <td>10008309586</td>\n",
       "      <td>20070213</td>\n",
       "      <td>20070213</td>\n",
       "      <td>20171002</td>\n",
       "      <td>0</td>\n",
       "      <td>N4 2SH</td>\n",
       "      <td>4749202</td>\n",
       "      <td>Commercial, Education, Primary, Junior, Infant...</td>\n",
       "      <td>WOODBERRY DOWN</td>\n",
       "    </tr>\n",
       "    <tr>\n",
       "      <th>3489</th>\n",
       "      <td>10008313946</td>\n",
       "      <td>20071018</td>\n",
       "      <td>20071018</td>\n",
       "      <td>20121017</td>\n",
       "      <td>0</td>\n",
       "      <td>N4 2TW</td>\n",
       "      <td>4749202</td>\n",
       "      <td>Commercial, Education, Secondary School</td>\n",
       "      <td>WOODBERRY DOWN</td>\n",
       "    </tr>\n",
       "    <tr>\n",
       "      <th>8509</th>\n",
       "      <td>10008463792</td>\n",
       "      <td>20060424</td>\n",
       "      <td>20060424</td>\n",
       "      <td>20121017</td>\n",
       "      <td>0</td>\n",
       "      <td>N4 2TW</td>\n",
       "      <td>4749202</td>\n",
       "      <td>Commercial, Education, Nursery/creche</td>\n",
       "      <td>WOODBERRY DOWN</td>\n",
       "    </tr>\n",
       "    <tr>\n",
       "      <th>11245</th>\n",
       "      <td>100023186270</td>\n",
       "      <td>20060214</td>\n",
       "      <td>20060214</td>\n",
       "      <td>20150218</td>\n",
       "      <td>0</td>\n",
       "      <td>N4 2TW</td>\n",
       "      <td>4749202</td>\n",
       "      <td>Commercial, Education, Primary, Junior, Infant...</td>\n",
       "      <td>WOODBERRY DOWN</td>\n",
       "    </tr>\n",
       "  </tbody>\n",
       "</table>\n",
       "</div>"
      ],
      "text/plain": [
       "               UPRN  start_date  entry_date  last_update_date  end_date  \\\n",
       "3207    10008309586    20070213    20070213          20171002         0   \n",
       "3489    10008313946    20071018    20071018          20121017         0   \n",
       "8509    10008463792    20060424    20060424          20121017         0   \n",
       "11245  100023186270    20060214    20060214          20150218         0   \n",
       "\n",
       "      postcode_master nndr_prop_ref  \\\n",
       "3207           N4 2SH       4749202   \n",
       "3489           N4 2TW       4749202   \n",
       "8509           N4 2TW       4749202   \n",
       "11245          N4 2TW       4749202   \n",
       "\n",
       "                                              llpg_usage            Ward  \n",
       "3207   Commercial, Education, Primary, Junior, Infant...  WOODBERRY DOWN  \n",
       "3489             Commercial, Education, Secondary School  WOODBERRY DOWN  \n",
       "8509               Commercial, Education, Nursery/creche  WOODBERRY DOWN  \n",
       "11245  Commercial, Education, Primary, Junior, Infant...  WOODBERRY DOWN  "
      ]
     },
     "execution_count": 22,
     "metadata": {},
     "output_type": "execute_result"
    }
   ],
   "source": [
    "address_df[address_df['nndr_prop_ref']=='4749202']"
   ]
  },
  {
   "cell_type": "code",
   "execution_count": 23,
   "metadata": {},
   "outputs": [
    {
     "data": {
      "text/html": [
       "<div>\n",
       "<style scoped>\n",
       "    .dataframe tbody tr th:only-of-type {\n",
       "        vertical-align: middle;\n",
       "    }\n",
       "\n",
       "    .dataframe tbody tr th {\n",
       "        vertical-align: top;\n",
       "    }\n",
       "\n",
       "    .dataframe thead th {\n",
       "        text-align: right;\n",
       "    }\n",
       "</style>\n",
       "<table border=\"1\" class=\"dataframe\">\n",
       "  <thead>\n",
       "    <tr style=\"text-align: right;\">\n",
       "      <th></th>\n",
       "      <th>name1</th>\n",
       "      <th>name2</th>\n",
       "      <th>acct_id</th>\n",
       "      <th>ck</th>\n",
       "      <th>prop</th>\n",
       "      <th>rv</th>\n",
       "      <th>vo_propdescrip</th>\n",
       "      <th>empty_prop</th>\n",
       "      <th>empty_from</th>\n",
       "      <th>UPRN</th>\n",
       "      <th>start_date</th>\n",
       "      <th>entry_date</th>\n",
       "      <th>last_update_date</th>\n",
       "      <th>end_date</th>\n",
       "      <th>postcode_master</th>\n",
       "      <th>nndr_prop_ref</th>\n",
       "      <th>llpg_usage</th>\n",
       "      <th>Ward</th>\n",
       "    </tr>\n",
       "  </thead>\n",
       "  <tbody>\n",
       "    <tr>\n",
       "      <th>645</th>\n",
       "      <td>BEIS CHINUCH LEBONOS LIMITED</td>\n",
       "      <td>NaN</td>\n",
       "      <td>60112482</td>\n",
       "      <td>3</td>\n",
       "      <td>4749202</td>\n",
       "      <td>33250</td>\n",
       "      <td>SCHOOL AND PREMISES</td>\n",
       "      <td>Y</td>\n",
       "      <td>1999-04-01</td>\n",
       "      <td>10008309586</td>\n",
       "      <td>20070213</td>\n",
       "      <td>20070213</td>\n",
       "      <td>20171002</td>\n",
       "      <td>0</td>\n",
       "      <td>N4 2SH</td>\n",
       "      <td>4749202</td>\n",
       "      <td>Commercial, Education, Primary, Junior, Infant...</td>\n",
       "      <td>WOODBERRY DOWN</td>\n",
       "    </tr>\n",
       "    <tr>\n",
       "      <th>646</th>\n",
       "      <td>BEIS CHINUCH LEBONOS LIMITED</td>\n",
       "      <td>NaN</td>\n",
       "      <td>60112482</td>\n",
       "      <td>3</td>\n",
       "      <td>4749202</td>\n",
       "      <td>33250</td>\n",
       "      <td>SCHOOL AND PREMISES</td>\n",
       "      <td>Y</td>\n",
       "      <td>1999-04-01</td>\n",
       "      <td>10008313946</td>\n",
       "      <td>20071018</td>\n",
       "      <td>20071018</td>\n",
       "      <td>20121017</td>\n",
       "      <td>0</td>\n",
       "      <td>N4 2TW</td>\n",
       "      <td>4749202</td>\n",
       "      <td>Commercial, Education, Secondary School</td>\n",
       "      <td>WOODBERRY DOWN</td>\n",
       "    </tr>\n",
       "    <tr>\n",
       "      <th>647</th>\n",
       "      <td>BEIS CHINUCH LEBONOS LIMITED</td>\n",
       "      <td>NaN</td>\n",
       "      <td>60112482</td>\n",
       "      <td>3</td>\n",
       "      <td>4749202</td>\n",
       "      <td>33250</td>\n",
       "      <td>SCHOOL AND PREMISES</td>\n",
       "      <td>Y</td>\n",
       "      <td>1999-04-01</td>\n",
       "      <td>10008463792</td>\n",
       "      <td>20060424</td>\n",
       "      <td>20060424</td>\n",
       "      <td>20121017</td>\n",
       "      <td>0</td>\n",
       "      <td>N4 2TW</td>\n",
       "      <td>4749202</td>\n",
       "      <td>Commercial, Education, Nursery/creche</td>\n",
       "      <td>WOODBERRY DOWN</td>\n",
       "    </tr>\n",
       "    <tr>\n",
       "      <th>648</th>\n",
       "      <td>BEIS CHINUCH LEBONOS LIMITED</td>\n",
       "      <td>NaN</td>\n",
       "      <td>60112482</td>\n",
       "      <td>3</td>\n",
       "      <td>4749202</td>\n",
       "      <td>33250</td>\n",
       "      <td>SCHOOL AND PREMISES</td>\n",
       "      <td>Y</td>\n",
       "      <td>1999-04-01</td>\n",
       "      <td>100023186270</td>\n",
       "      <td>20060214</td>\n",
       "      <td>20060214</td>\n",
       "      <td>20150218</td>\n",
       "      <td>0</td>\n",
       "      <td>N4 2TW</td>\n",
       "      <td>4749202</td>\n",
       "      <td>Commercial, Education, Primary, Junior, Infant...</td>\n",
       "      <td>WOODBERRY DOWN</td>\n",
       "    </tr>\n",
       "  </tbody>\n",
       "</table>\n",
       "</div>"
      ],
      "text/plain": [
       "                            name1 name2   acct_id ck     prop     rv  \\\n",
       "645  BEIS CHINUCH LEBONOS LIMITED   NaN  60112482  3  4749202  33250   \n",
       "646  BEIS CHINUCH LEBONOS LIMITED   NaN  60112482  3  4749202  33250   \n",
       "647  BEIS CHINUCH LEBONOS LIMITED   NaN  60112482  3  4749202  33250   \n",
       "648  BEIS CHINUCH LEBONOS LIMITED   NaN  60112482  3  4749202  33250   \n",
       "\n",
       "          vo_propdescrip empty_prop empty_from          UPRN  start_date  \\\n",
       "645  SCHOOL AND PREMISES          Y 1999-04-01   10008309586    20070213   \n",
       "646  SCHOOL AND PREMISES          Y 1999-04-01   10008313946    20071018   \n",
       "647  SCHOOL AND PREMISES          Y 1999-04-01   10008463792    20060424   \n",
       "648  SCHOOL AND PREMISES          Y 1999-04-01  100023186270    20060214   \n",
       "\n",
       "     entry_date  last_update_date  end_date postcode_master nndr_prop_ref  \\\n",
       "645    20070213          20171002         0          N4 2SH       4749202   \n",
       "646    20071018          20121017         0          N4 2TW       4749202   \n",
       "647    20060424          20121017         0          N4 2TW       4749202   \n",
       "648    20060214          20150218         0          N4 2TW       4749202   \n",
       "\n",
       "                                            llpg_usage            Ward  \n",
       "645  Commercial, Education, Primary, Junior, Infant...  WOODBERRY DOWN  \n",
       "646            Commercial, Education, Secondary School  WOODBERRY DOWN  \n",
       "647              Commercial, Education, Nursery/creche  WOODBERRY DOWN  \n",
       "648  Commercial, Education, Primary, Junior, Infant...  WOODBERRY DOWN  "
      ]
     },
     "execution_count": 23,
     "metadata": {},
     "output_type": "execute_result"
    }
   ],
   "source": [
    "combined_df[combined_df['nndr_prop_ref']=='4749202']"
   ]
  },
  {
   "cell_type": "code",
   "execution_count": 24,
   "metadata": {},
   "outputs": [
    {
     "data": {
      "text/html": [
       "<div>\n",
       "<style scoped>\n",
       "    .dataframe tbody tr th:only-of-type {\n",
       "        vertical-align: middle;\n",
       "    }\n",
       "\n",
       "    .dataframe tbody tr th {\n",
       "        vertical-align: top;\n",
       "    }\n",
       "\n",
       "    .dataframe thead th {\n",
       "        text-align: right;\n",
       "    }\n",
       "</style>\n",
       "<table border=\"1\" class=\"dataframe\">\n",
       "  <thead>\n",
       "    <tr style=\"text-align: right;\">\n",
       "      <th></th>\n",
       "      <th>name1</th>\n",
       "      <th>name2</th>\n",
       "      <th>acct_id</th>\n",
       "      <th>ck</th>\n",
       "      <th>prop</th>\n",
       "      <th>rv</th>\n",
       "      <th>vo_propdescrip</th>\n",
       "      <th>empty_prop</th>\n",
       "      <th>empty_from</th>\n",
       "    </tr>\n",
       "  </thead>\n",
       "  <tbody>\n",
       "    <tr>\n",
       "      <th>684</th>\n",
       "      <td>BEIS CHINUCH LEBONOS LIMITED</td>\n",
       "      <td>NaN</td>\n",
       "      <td>60112482</td>\n",
       "      <td>3</td>\n",
       "      <td>4749202</td>\n",
       "      <td>33250</td>\n",
       "      <td>SCHOOL AND PREMISES</td>\n",
       "      <td>Y</td>\n",
       "      <td>1999-04-01</td>\n",
       "    </tr>\n",
       "  </tbody>\n",
       "</table>\n",
       "</div>"
      ],
      "text/plain": [
       "                            name1 name2   acct_id ck     prop     rv  \\\n",
       "684  BEIS CHINUCH LEBONOS LIMITED   NaN  60112482  3  4749202  33250   \n",
       "\n",
       "          vo_propdescrip empty_prop empty_from  \n",
       "684  SCHOOL AND PREMISES          Y 1999-04-01  "
      ]
     },
     "execution_count": 24,
     "metadata": {},
     "output_type": "execute_result"
    }
   ],
   "source": [
    "business_df[business_df['prop']=='4749202']"
   ]
  },
  {
   "cell_type": "code",
   "execution_count": 25,
   "metadata": {},
   "outputs": [
    {
     "data": {
      "text/html": [
       "<div>\n",
       "<style scoped>\n",
       "    .dataframe tbody tr th:only-of-type {\n",
       "        vertical-align: middle;\n",
       "    }\n",
       "\n",
       "    .dataframe tbody tr th {\n",
       "        vertical-align: top;\n",
       "    }\n",
       "\n",
       "    .dataframe thead th {\n",
       "        text-align: right;\n",
       "    }\n",
       "</style>\n",
       "<table border=\"1\" class=\"dataframe\">\n",
       "  <thead>\n",
       "    <tr style=\"text-align: right;\">\n",
       "      <th></th>\n",
       "      <th>UPRN</th>\n",
       "      <th>start_date</th>\n",
       "      <th>entry_date</th>\n",
       "      <th>last_update_date</th>\n",
       "      <th>end_date</th>\n",
       "      <th>postcode_master</th>\n",
       "      <th>nndr_prop_ref</th>\n",
       "      <th>llpg_usage</th>\n",
       "      <th>Ward</th>\n",
       "    </tr>\n",
       "  </thead>\n",
       "  <tbody>\n",
       "    <tr>\n",
       "      <th>8466</th>\n",
       "      <td>10008463072</td>\n",
       "      <td>20060424</td>\n",
       "      <td>20060424</td>\n",
       "      <td>20141117</td>\n",
       "      <td>0</td>\n",
       "      <td>E5 0EG</td>\n",
       "      <td>1943742</td>\n",
       "      <td>Commercial, Education, Primary, Junior, Infant...</td>\n",
       "      <td>KINGS PARK</td>\n",
       "    </tr>\n",
       "    <tr>\n",
       "      <th>8467</th>\n",
       "      <td>10008463073</td>\n",
       "      <td>20060424</td>\n",
       "      <td>20060424</td>\n",
       "      <td>20141117</td>\n",
       "      <td>0</td>\n",
       "      <td>E5 0EG</td>\n",
       "      <td>1943742</td>\n",
       "      <td>Commercial, Education, Primary, Junior, Infant...</td>\n",
       "      <td>KINGS PARK</td>\n",
       "    </tr>\n",
       "    <tr>\n",
       "      <th>8618</th>\n",
       "      <td>100021036411</td>\n",
       "      <td>20060214</td>\n",
       "      <td>20060214</td>\n",
       "      <td>20121017</td>\n",
       "      <td>0</td>\n",
       "      <td>E5 0EG</td>\n",
       "      <td>1943742</td>\n",
       "      <td>Commercial, Education, Primary, Junior, Infant...</td>\n",
       "      <td>KINGS PARK</td>\n",
       "    </tr>\n",
       "  </tbody>\n",
       "</table>\n",
       "</div>"
      ],
      "text/plain": [
       "              UPRN  start_date  entry_date  last_update_date  end_date  \\\n",
       "8466   10008463072    20060424    20060424          20141117         0   \n",
       "8467   10008463073    20060424    20060424          20141117         0   \n",
       "8618  100021036411    20060214    20060214          20121017         0   \n",
       "\n",
       "     postcode_master nndr_prop_ref  \\\n",
       "8466          E5 0EG       1943742   \n",
       "8467          E5 0EG       1943742   \n",
       "8618          E5 0EG       1943742   \n",
       "\n",
       "                                             llpg_usage        Ward  \n",
       "8466  Commercial, Education, Primary, Junior, Infant...  KINGS PARK  \n",
       "8467  Commercial, Education, Primary, Junior, Infant...  KINGS PARK  \n",
       "8618  Commercial, Education, Primary, Junior, Infant...  KINGS PARK  "
      ]
     },
     "execution_count": 25,
     "metadata": {},
     "output_type": "execute_result"
    }
   ],
   "source": [
    "address_df[address_df['nndr_prop_ref']=='1943742']       "
   ]
  },
  {
   "cell_type": "code",
   "execution_count": 26,
   "metadata": {},
   "outputs": [
    {
     "data": {
      "text/html": [
       "<div>\n",
       "<style scoped>\n",
       "    .dataframe tbody tr th:only-of-type {\n",
       "        vertical-align: middle;\n",
       "    }\n",
       "\n",
       "    .dataframe tbody tr th {\n",
       "        vertical-align: top;\n",
       "    }\n",
       "\n",
       "    .dataframe thead th {\n",
       "        text-align: right;\n",
       "    }\n",
       "</style>\n",
       "<table border=\"1\" class=\"dataframe\">\n",
       "  <thead>\n",
       "    <tr style=\"text-align: right;\">\n",
       "      <th></th>\n",
       "      <th>name1</th>\n",
       "      <th>name2</th>\n",
       "      <th>acct_id</th>\n",
       "      <th>ck</th>\n",
       "      <th>prop</th>\n",
       "      <th>rv</th>\n",
       "      <th>vo_propdescrip</th>\n",
       "      <th>empty_prop</th>\n",
       "      <th>empty_from</th>\n",
       "    </tr>\n",
       "  </thead>\n",
       "  <tbody>\n",
       "    <tr>\n",
       "      <th>9708</th>\n",
       "      <td>THE HEAD TEACHER</td>\n",
       "      <td>NaN</td>\n",
       "      <td>60087672</td>\n",
       "      <td>8</td>\n",
       "      <td>1943742</td>\n",
       "      <td>97000</td>\n",
       "      <td>SCHOOL AND PREMISES</td>\n",
       "      <td>NaN</td>\n",
       "      <td>NaT</td>\n",
       "    </tr>\n",
       "  </tbody>\n",
       "</table>\n",
       "</div>"
      ],
      "text/plain": [
       "                 name1 name2   acct_id ck     prop     rv  \\\n",
       "9708  THE HEAD TEACHER   NaN  60087672  8  1943742  97000   \n",
       "\n",
       "           vo_propdescrip empty_prop empty_from  \n",
       "9708  SCHOOL AND PREMISES        NaN        NaT  "
      ]
     },
     "execution_count": 26,
     "metadata": {},
     "output_type": "execute_result"
    }
   ],
   "source": [
    "business_df[business_df['prop']=='1943742']"
   ]
  },
  {
   "cell_type": "code",
   "execution_count": 27,
   "metadata": {},
   "outputs": [
    {
     "data": {
      "text/html": [
       "<div>\n",
       "<style scoped>\n",
       "    .dataframe tbody tr th:only-of-type {\n",
       "        vertical-align: middle;\n",
       "    }\n",
       "\n",
       "    .dataframe tbody tr th {\n",
       "        vertical-align: top;\n",
       "    }\n",
       "\n",
       "    .dataframe thead th {\n",
       "        text-align: right;\n",
       "    }\n",
       "</style>\n",
       "<table border=\"1\" class=\"dataframe\">\n",
       "  <thead>\n",
       "    <tr style=\"text-align: right;\">\n",
       "      <th></th>\n",
       "      <th>name1</th>\n",
       "      <th>name2</th>\n",
       "      <th>acct_id</th>\n",
       "      <th>ck</th>\n",
       "      <th>prop</th>\n",
       "      <th>rv</th>\n",
       "      <th>vo_propdescrip</th>\n",
       "      <th>empty_prop</th>\n",
       "      <th>empty_from</th>\n",
       "      <th>UPRN</th>\n",
       "      <th>start_date</th>\n",
       "      <th>entry_date</th>\n",
       "      <th>last_update_date</th>\n",
       "      <th>end_date</th>\n",
       "      <th>postcode_master</th>\n",
       "      <th>nndr_prop_ref</th>\n",
       "      <th>llpg_usage</th>\n",
       "      <th>Ward</th>\n",
       "    </tr>\n",
       "  </thead>\n",
       "  <tbody>\n",
       "    <tr>\n",
       "      <th>9245</th>\n",
       "      <td>THE HEAD TEACHER</td>\n",
       "      <td>NaN</td>\n",
       "      <td>60087672</td>\n",
       "      <td>8</td>\n",
       "      <td>1943742</td>\n",
       "      <td>97000</td>\n",
       "      <td>SCHOOL AND PREMISES</td>\n",
       "      <td>NaN</td>\n",
       "      <td>NaT</td>\n",
       "      <td>10008463072</td>\n",
       "      <td>20060424</td>\n",
       "      <td>20060424</td>\n",
       "      <td>20141117</td>\n",
       "      <td>0</td>\n",
       "      <td>E5 0EG</td>\n",
       "      <td>1943742</td>\n",
       "      <td>Commercial, Education, Primary, Junior, Infant...</td>\n",
       "      <td>KINGS PARK</td>\n",
       "    </tr>\n",
       "    <tr>\n",
       "      <th>9246</th>\n",
       "      <td>THE HEAD TEACHER</td>\n",
       "      <td>NaN</td>\n",
       "      <td>60087672</td>\n",
       "      <td>8</td>\n",
       "      <td>1943742</td>\n",
       "      <td>97000</td>\n",
       "      <td>SCHOOL AND PREMISES</td>\n",
       "      <td>NaN</td>\n",
       "      <td>NaT</td>\n",
       "      <td>10008463073</td>\n",
       "      <td>20060424</td>\n",
       "      <td>20060424</td>\n",
       "      <td>20141117</td>\n",
       "      <td>0</td>\n",
       "      <td>E5 0EG</td>\n",
       "      <td>1943742</td>\n",
       "      <td>Commercial, Education, Primary, Junior, Infant...</td>\n",
       "      <td>KINGS PARK</td>\n",
       "    </tr>\n",
       "    <tr>\n",
       "      <th>9247</th>\n",
       "      <td>THE HEAD TEACHER</td>\n",
       "      <td>NaN</td>\n",
       "      <td>60087672</td>\n",
       "      <td>8</td>\n",
       "      <td>1943742</td>\n",
       "      <td>97000</td>\n",
       "      <td>SCHOOL AND PREMISES</td>\n",
       "      <td>NaN</td>\n",
       "      <td>NaT</td>\n",
       "      <td>100021036411</td>\n",
       "      <td>20060214</td>\n",
       "      <td>20060214</td>\n",
       "      <td>20121017</td>\n",
       "      <td>0</td>\n",
       "      <td>E5 0EG</td>\n",
       "      <td>1943742</td>\n",
       "      <td>Commercial, Education, Primary, Junior, Infant...</td>\n",
       "      <td>KINGS PARK</td>\n",
       "    </tr>\n",
       "  </tbody>\n",
       "</table>\n",
       "</div>"
      ],
      "text/plain": [
       "                 name1 name2   acct_id ck     prop     rv  \\\n",
       "9245  THE HEAD TEACHER   NaN  60087672  8  1943742  97000   \n",
       "9246  THE HEAD TEACHER   NaN  60087672  8  1943742  97000   \n",
       "9247  THE HEAD TEACHER   NaN  60087672  8  1943742  97000   \n",
       "\n",
       "           vo_propdescrip empty_prop empty_from          UPRN  start_date  \\\n",
       "9245  SCHOOL AND PREMISES        NaN        NaT   10008463072    20060424   \n",
       "9246  SCHOOL AND PREMISES        NaN        NaT   10008463073    20060424   \n",
       "9247  SCHOOL AND PREMISES        NaN        NaT  100021036411    20060214   \n",
       "\n",
       "      entry_date  last_update_date  end_date postcode_master nndr_prop_ref  \\\n",
       "9245    20060424          20141117         0          E5 0EG       1943742   \n",
       "9246    20060424          20141117         0          E5 0EG       1943742   \n",
       "9247    20060214          20121017         0          E5 0EG       1943742   \n",
       "\n",
       "                                             llpg_usage        Ward  \n",
       "9245  Commercial, Education, Primary, Junior, Infant...  KINGS PARK  \n",
       "9246  Commercial, Education, Primary, Junior, Infant...  KINGS PARK  \n",
       "9247  Commercial, Education, Primary, Junior, Infant...  KINGS PARK  "
      ]
     },
     "execution_count": 27,
     "metadata": {},
     "output_type": "execute_result"
    }
   ],
   "source": [
    "combined_df[combined_df['nndr_prop_ref']=='1943742']"
   ]
  },
  {
   "cell_type": "code",
   "execution_count": 28,
   "metadata": {},
   "outputs": [
    {
     "data": {
      "text/plain": [
       "Index(['name1', 'name2', 'acct_id', 'ck', 'prop', 'rv', 'vo_propdescrip',\n",
       "       'empty_prop', 'empty_from', 'UPRN', 'start_date', 'entry_date',\n",
       "       'last_update_date', 'end_date', 'postcode_master', 'nndr_prop_ref',\n",
       "       'llpg_usage', 'Ward', 'propref', 'fin_year', 'status', 'account_id',\n",
       "       'check_digit', 'paymeth_code', 'trans_code', 'bill_no', 'bill_bal',\n",
       "       'last_payment', 'fullaccountref', 'account_bal'],\n",
       "      dtype='object')"
      ]
     },
     "execution_count": 28,
     "metadata": {},
     "output_type": "execute_result"
    }
   ],
   "source": [
    "combined_df2.keys()"
   ]
  },
  {
   "cell_type": "code",
   "execution_count": 29,
   "metadata": {},
   "outputs": [
    {
     "data": {
      "text/plain": [
       "201819    7391\n",
       "201718    1209\n",
       "201617     680\n",
       "201516     356\n",
       "201415     249\n",
       "201011     207\n",
       "201112     195\n",
       "201314     156\n",
       "201213     155\n",
       "200910      64\n",
       "200809      45\n",
       "200708      41\n",
       "200607      34\n",
       "200102      11\n",
       "199798      10\n",
       "199697       9\n",
       "200203       7\n",
       "199899       7\n",
       "199596       6\n",
       "200304       5\n",
       "200506       5\n",
       "200001       4\n",
       "199900       2\n",
       "200405       1\n",
       "Name: fin_year, dtype: int64"
      ]
     },
     "execution_count": 29,
     "metadata": {},
     "output_type": "execute_result"
    }
   ],
   "source": [
    "combined_df2.fin_year.value_counts()"
   ]
  },
  {
   "cell_type": "code",
   "execution_count": 30,
   "metadata": {},
   "outputs": [],
   "source": [
    "combined_df3=combined_df2[combined_df2['fin_year']==201819.0]"
   ]
  },
  {
   "cell_type": "code",
   "execution_count": 31,
   "metadata": {},
   "outputs": [
    {
     "data": {
      "text/plain": [
       "(7391, 30)"
      ]
     },
     "execution_count": 31,
     "metadata": {},
     "output_type": "execute_result"
    }
   ],
   "source": [
    "combined_df3.shape"
   ]
  },
  {
   "cell_type": "code",
   "execution_count": 32,
   "metadata": {},
   "outputs": [
    {
     "data": {
      "text/plain": [
       "Index(['name1', 'name2', 'acct_id', 'ck', 'prop', 'rv', 'vo_propdescrip',\n",
       "       'empty_prop', 'empty_from', 'UPRN', 'start_date', 'entry_date',\n",
       "       'last_update_date', 'end_date', 'postcode_master', 'nndr_prop_ref',\n",
       "       'llpg_usage', 'Ward', 'propref', 'fin_year', 'status', 'account_id',\n",
       "       'check_digit', 'paymeth_code', 'trans_code', 'bill_no', 'bill_bal',\n",
       "       'last_payment', 'fullaccountref', 'account_bal'],\n",
       "      dtype='object')"
      ]
     },
     "execution_count": 32,
     "metadata": {},
     "output_type": "execute_result"
    }
   ],
   "source": [
    "combined_df3.keys()"
   ]
  },
  {
   "cell_type": "code",
   "execution_count": 33,
   "metadata": {},
   "outputs": [],
   "source": [
    "combined_df3['vo_propdescrip'].str.upper();"
   ]
  },
  {
   "cell_type": "code",
   "execution_count": 34,
   "metadata": {},
   "outputs": [
    {
     "data": {
      "text/plain": [
       "HOXTON EAST AND SHOREDITCH    2219\n",
       "HOXTON WEST                    772\n",
       "LONDON FIELDS                  552\n",
       "DALSTON                        471\n",
       "STOKE NEWINGTON                375\n",
       "HOMERTON                       329\n",
       "HAGGERSTON                     317\n",
       "HACKNEY CENTRAL                297\n",
       "HACKNEY WICK                   245\n",
       "LEA BRIDGE                     244\n",
       "SPRINGFIELD                    225\n",
       "DE BEAUVOIR                    200\n",
       "SHACKLEWELL                    199\n",
       "CLISSOLD                       187\n",
       "VICTORIA                       148\n",
       "CAZENOVE                       145\n",
       "HACKNEY DOWNS                  135\n",
       "BROWNSWOOD                      92\n",
       "WOODBERRY DOWN                  85\n",
       "STAMFORD HILL WEST              80\n",
       "KINGS PARK                      74\n",
       "Name: Ward, dtype: int64"
      ]
     },
     "execution_count": 34,
     "metadata": {},
     "output_type": "execute_result"
    }
   ],
   "source": [
    "combined_df3.Ward.value_counts()"
   ]
  },
  {
   "cell_type": "code",
   "execution_count": 35,
   "metadata": {},
   "outputs": [],
   "source": [
    "#'start_date', 'entry_date', 'last_update_date',"
   ]
  },
  {
   "cell_type": "code",
   "execution_count": 36,
   "metadata": {},
   "outputs": [],
   "source": [
    "# categorical: vo_propdescrip, empty_prop, 'llpg_usage', 'Ward','paymeth_code', \n",
    "# real-valued: .rv,  'bill_no',\n",
    "\n",
    "#  real-valued: RV = rates value in GBP, number of bill (ie how long renting)\n",
    "#  categorical: property description, whether its empty, how its used, ward its in, payment method \n",
    "\n",
    "combined_df4 = combined_df3[['rv','vo_propdescrip','empty_prop', \n",
    "                   'llpg_usage', 'Ward', 'paymeth_code','bill_no', 'account_bal']]"
   ]
  },
  {
   "cell_type": "code",
   "execution_count": 37,
   "metadata": {},
   "outputs": [
    {
     "data": {
      "text/plain": [
       "Index(['rv', 'vo_propdescrip', 'empty_prop', 'llpg_usage', 'Ward',\n",
       "       'paymeth_code', 'bill_no', 'account_bal'],\n",
       "      dtype='object')"
      ]
     },
     "execution_count": 37,
     "metadata": {},
     "output_type": "execute_result"
    }
   ],
   "source": [
    "combined_df4.keys()"
   ]
  },
  {
   "cell_type": "code",
   "execution_count": 38,
   "metadata": {},
   "outputs": [
    {
     "name": "stderr",
     "output_type": "stream",
     "text": [
      "C:\\Users\\jotaylor\\AppData\\Local\\Continuum\\anaconda3\\lib\\site-packages\\ipykernel_launcher.py:1: SettingWithCopyWarning: \n",
      "A value is trying to be set on a copy of a slice from a DataFrame.\n",
      "Try using .loc[row_indexer,col_indexer] = value instead\n",
      "\n",
      "See the caveats in the documentation: http://pandas.pydata.org/pandas-docs/stable/indexing.html#indexing-view-versus-copy\n",
      "  \"\"\"Entry point for launching an IPython kernel.\n",
      "C:\\Users\\jotaylor\\AppData\\Local\\Continuum\\anaconda3\\lib\\site-packages\\ipykernel_launcher.py:2: SettingWithCopyWarning: \n",
      "A value is trying to be set on a copy of a slice from a DataFrame.\n",
      "Try using .loc[row_indexer,col_indexer] = value instead\n",
      "\n",
      "See the caveats in the documentation: http://pandas.pydata.org/pandas-docs/stable/indexing.html#indexing-view-versus-copy\n",
      "  \n"
     ]
    },
    {
     "data": {
      "text/html": [
       "<div>\n",
       "<style scoped>\n",
       "    .dataframe tbody tr th:only-of-type {\n",
       "        vertical-align: middle;\n",
       "    }\n",
       "\n",
       "    .dataframe tbody tr th {\n",
       "        vertical-align: top;\n",
       "    }\n",
       "\n",
       "    .dataframe thead th {\n",
       "        text-align: right;\n",
       "    }\n",
       "</style>\n",
       "<table border=\"1\" class=\"dataframe\">\n",
       "  <thead>\n",
       "    <tr style=\"text-align: right;\">\n",
       "      <th></th>\n",
       "      <th>rv</th>\n",
       "      <th>vo_propdescrip</th>\n",
       "      <th>empty_prop</th>\n",
       "      <th>llpg_usage</th>\n",
       "      <th>Ward</th>\n",
       "      <th>paymeth_code</th>\n",
       "      <th>bill_no</th>\n",
       "      <th>account_bal</th>\n",
       "    </tr>\n",
       "  </thead>\n",
       "  <tbody>\n",
       "    <tr>\n",
       "      <th>0</th>\n",
       "      <td>19500</td>\n",
       "      <td>OFFICES AND PREMISES</td>\n",
       "      <td>1</td>\n",
       "      <td>Commercial, Offices, Offices and work studios</td>\n",
       "      <td>CLISSOLD</td>\n",
       "      <td>DDM01</td>\n",
       "      <td>6</td>\n",
       "      <td>5124.0</td>\n",
       "    </tr>\n",
       "    <tr>\n",
       "      <th>10</th>\n",
       "      <td>11500</td>\n",
       "      <td>CLUB AND PREMISES</td>\n",
       "      <td>0</td>\n",
       "      <td>Commercial, Leisure, Licensed private members’...</td>\n",
       "      <td>HACKNEY WICK</td>\n",
       "      <td>CSM01</td>\n",
       "      <td>23</td>\n",
       "      <td>10111.2</td>\n",
       "    </tr>\n",
       "    <tr>\n",
       "      <th>11</th>\n",
       "      <td>16000</td>\n",
       "      <td>COMMUNICATION STATION AND PREMISES</td>\n",
       "      <td>0</td>\n",
       "      <td>Commercial, Utilities, Telecommunications masts</td>\n",
       "      <td>HAGGERSTON</td>\n",
       "      <td>CSH12</td>\n",
       "      <td>10</td>\n",
       "      <td>5760.0</td>\n",
       "    </tr>\n",
       "    <tr>\n",
       "      <th>12</th>\n",
       "      <td>16000</td>\n",
       "      <td>COMMUNICATION STATION AND PREMISES</td>\n",
       "      <td>0</td>\n",
       "      <td>Commercial, Utilities, Telecommunications masts</td>\n",
       "      <td>HACKNEY WICK</td>\n",
       "      <td>CSH12</td>\n",
       "      <td>10</td>\n",
       "      <td>5760.0</td>\n",
       "    </tr>\n",
       "    <tr>\n",
       "      <th>13</th>\n",
       "      <td>16000</td>\n",
       "      <td>COMMUNICATION STATION AND PREMISES</td>\n",
       "      <td>0</td>\n",
       "      <td>Commercial, Utilities, Telecommunications masts</td>\n",
       "      <td>STOKE NEWINGTON</td>\n",
       "      <td>CSH12</td>\n",
       "      <td>10</td>\n",
       "      <td>5760.0</td>\n",
       "    </tr>\n",
       "  </tbody>\n",
       "</table>\n",
       "</div>"
      ],
      "text/plain": [
       "       rv                      vo_propdescrip  empty_prop  \\\n",
       "0   19500                OFFICES AND PREMISES           1   \n",
       "10  11500                   CLUB AND PREMISES           0   \n",
       "11  16000  COMMUNICATION STATION AND PREMISES           0   \n",
       "12  16000  COMMUNICATION STATION AND PREMISES           0   \n",
       "13  16000  COMMUNICATION STATION AND PREMISES           0   \n",
       "\n",
       "                                           llpg_usage             Ward  \\\n",
       "0       Commercial, Offices, Offices and work studios         CLISSOLD   \n",
       "10  Commercial, Leisure, Licensed private members’...     HACKNEY WICK   \n",
       "11    Commercial, Utilities, Telecommunications masts       HAGGERSTON   \n",
       "12    Commercial, Utilities, Telecommunications masts     HACKNEY WICK   \n",
       "13    Commercial, Utilities, Telecommunications masts  STOKE NEWINGTON   \n",
       "\n",
       "   paymeth_code  bill_no  account_bal  \n",
       "0         DDM01        6       5124.0  \n",
       "10        CSM01       23      10111.2  \n",
       "11        CSH12       10       5760.0  \n",
       "12        CSH12       10       5760.0  \n",
       "13        CSH12       10       5760.0  "
      ]
     },
     "execution_count": 38,
     "metadata": {},
     "output_type": "execute_result"
    }
   ],
   "source": [
    "combined_df4['empty_prop']=combined_df4['empty_prop'].fillna(0)\n",
    "combined_df4['empty_prop']=combined_df4['empty_prop'].replace(['Y','V'],1)\n",
    "combined_df4.head()"
   ]
  },
  {
   "cell_type": "code",
   "execution_count": 39,
   "metadata": {},
   "outputs": [
    {
     "name": "stderr",
     "output_type": "stream",
     "text": [
      "C:\\Users\\jotaylor\\AppData\\Local\\Continuum\\anaconda3\\lib\\site-packages\\ipykernel_launcher.py:1: SettingWithCopyWarning: \n",
      "A value is trying to be set on a copy of a slice from a DataFrame.\n",
      "Try using .loc[row_indexer,col_indexer] = value instead\n",
      "\n",
      "See the caveats in the documentation: http://pandas.pydata.org/pandas-docs/stable/indexing.html#indexing-view-versus-copy\n",
      "  \"\"\"Entry point for launching an IPython kernel.\n"
     ]
    },
    {
     "data": {
      "text/plain": [
       "0    7203\n",
       "1     188\n",
       "Name: bin_label, dtype: int64"
      ]
     },
     "execution_count": 39,
     "metadata": {},
     "output_type": "execute_result"
    }
   ],
   "source": [
    "combined_df4['bin_label']=combined_df4['account_bal'].apply(lambda x: 1 if float(x)<0 else 0)\n",
    "combined_df4['bin_label'].value_counts()"
   ]
  },
  {
   "cell_type": "markdown",
   "metadata": {},
   "source": [
    "#### Dealing with too many different values in categorical data: llpg_usage and vo_propdescrip"
   ]
  },
  {
   "cell_type": "code",
   "execution_count": 40,
   "metadata": {},
   "outputs": [],
   "source": [
    "combined_df5 = combined_df4.copy()\n",
    "threshold=20\n",
    "\n",
    "counts = combined_df5['llpg_usage'].value_counts()\n",
    "repl = counts[counts <= threshold].index\n",
    "# list of uncommon values to be created, taken by indexing the value_counts where count is sub-threshold\n",
    "combined_df5['llpg_usage']=combined_df5['llpg_usage'].replace(repl, 'Other')\n",
    "# combined_df5"
   ]
  },
  {
   "cell_type": "code",
   "execution_count": 41,
   "metadata": {},
   "outputs": [],
   "source": [
    "counts = combined_df5['vo_propdescrip'].value_counts()\n",
    "repl = counts[counts <= threshold].index\n",
    "combined_df5['vo_propdescrip']=combined_df5['vo_propdescrip'].replace(repl, 'Other')\n",
    "# combined_df5"
   ]
  },
  {
   "cell_type": "code",
   "execution_count": null,
   "metadata": {},
   "outputs": [],
   "source": []
  },
  {
   "cell_type": "code",
   "execution_count": 42,
   "metadata": {},
   "outputs": [
    {
     "data": {
      "text/html": [
       "<div>\n",
       "<style scoped>\n",
       "    .dataframe tbody tr th:only-of-type {\n",
       "        vertical-align: middle;\n",
       "    }\n",
       "\n",
       "    .dataframe tbody tr th {\n",
       "        vertical-align: top;\n",
       "    }\n",
       "\n",
       "    .dataframe thead th {\n",
       "        text-align: right;\n",
       "    }\n",
       "</style>\n",
       "<table border=\"1\" class=\"dataframe\">\n",
       "  <thead>\n",
       "    <tr style=\"text-align: right;\">\n",
       "      <th>bin_label</th>\n",
       "      <th>0</th>\n",
       "      <th>1</th>\n",
       "      <th>neg_pctg</th>\n",
       "    </tr>\n",
       "    <tr>\n",
       "      <th>Ward</th>\n",
       "      <th></th>\n",
       "      <th></th>\n",
       "      <th></th>\n",
       "    </tr>\n",
       "  </thead>\n",
       "  <tbody>\n",
       "    <tr>\n",
       "      <th>HOXTON WEST</th>\n",
       "      <td>720</td>\n",
       "      <td>52</td>\n",
       "      <td>7.222222</td>\n",
       "    </tr>\n",
       "    <tr>\n",
       "      <th>HACKNEY DOWNS</th>\n",
       "      <td>128</td>\n",
       "      <td>7</td>\n",
       "      <td>5.468750</td>\n",
       "    </tr>\n",
       "    <tr>\n",
       "      <th>DE BEAUVOIR</th>\n",
       "      <td>192</td>\n",
       "      <td>8</td>\n",
       "      <td>4.166667</td>\n",
       "    </tr>\n",
       "    <tr>\n",
       "      <th>CAZENOVE</th>\n",
       "      <td>140</td>\n",
       "      <td>5</td>\n",
       "      <td>3.571429</td>\n",
       "    </tr>\n",
       "    <tr>\n",
       "      <th>SHACKLEWELL</th>\n",
       "      <td>193</td>\n",
       "      <td>6</td>\n",
       "      <td>3.108808</td>\n",
       "    </tr>\n",
       "    <tr>\n",
       "      <th>HACKNEY WICK</th>\n",
       "      <td>238</td>\n",
       "      <td>7</td>\n",
       "      <td>2.941176</td>\n",
       "    </tr>\n",
       "    <tr>\n",
       "      <th>CLISSOLD</th>\n",
       "      <td>182</td>\n",
       "      <td>5</td>\n",
       "      <td>2.747253</td>\n",
       "    </tr>\n",
       "    <tr>\n",
       "      <th>DALSTON</th>\n",
       "      <td>459</td>\n",
       "      <td>12</td>\n",
       "      <td>2.614379</td>\n",
       "    </tr>\n",
       "    <tr>\n",
       "      <th>HOMERTON</th>\n",
       "      <td>321</td>\n",
       "      <td>8</td>\n",
       "      <td>2.492212</td>\n",
       "    </tr>\n",
       "    <tr>\n",
       "      <th>HACKNEY CENTRAL</th>\n",
       "      <td>290</td>\n",
       "      <td>7</td>\n",
       "      <td>2.413793</td>\n",
       "    </tr>\n",
       "    <tr>\n",
       "      <th>HAGGERSTON</th>\n",
       "      <td>310</td>\n",
       "      <td>7</td>\n",
       "      <td>2.258065</td>\n",
       "    </tr>\n",
       "    <tr>\n",
       "      <th>LONDON FIELDS</th>\n",
       "      <td>540</td>\n",
       "      <td>12</td>\n",
       "      <td>2.222222</td>\n",
       "    </tr>\n",
       "    <tr>\n",
       "      <th>SPRINGFIELD</th>\n",
       "      <td>221</td>\n",
       "      <td>4</td>\n",
       "      <td>1.809955</td>\n",
       "    </tr>\n",
       "    <tr>\n",
       "      <th>STOKE NEWINGTON</th>\n",
       "      <td>369</td>\n",
       "      <td>6</td>\n",
       "      <td>1.626016</td>\n",
       "    </tr>\n",
       "    <tr>\n",
       "      <th>HOXTON EAST AND SHOREDITCH</th>\n",
       "      <td>2191</td>\n",
       "      <td>28</td>\n",
       "      <td>1.277955</td>\n",
       "    </tr>\n",
       "  </tbody>\n",
       "</table>\n",
       "</div>"
      ],
      "text/plain": [
       "bin_label                      0   1  neg_pctg\n",
       "Ward                                          \n",
       "HOXTON WEST                  720  52  7.222222\n",
       "HACKNEY DOWNS                128   7  5.468750\n",
       "DE BEAUVOIR                  192   8  4.166667\n",
       "CAZENOVE                     140   5  3.571429\n",
       "SHACKLEWELL                  193   6  3.108808\n",
       "HACKNEY WICK                 238   7  2.941176\n",
       "CLISSOLD                     182   5  2.747253\n",
       "DALSTON                      459  12  2.614379\n",
       "HOMERTON                     321   8  2.492212\n",
       "HACKNEY CENTRAL              290   7  2.413793\n",
       "HAGGERSTON                   310   7  2.258065\n",
       "LONDON FIELDS                540  12  2.222222\n",
       "SPRINGFIELD                  221   4  1.809955\n",
       "STOKE NEWINGTON              369   6  1.626016\n",
       "HOXTON EAST AND SHOREDITCH  2191  28  1.277955"
      ]
     },
     "execution_count": 42,
     "metadata": {},
     "output_type": "execute_result"
    }
   ],
   "source": [
    "ward_crosstab = pd.crosstab(combined_df4['Ward'],combined_df4['bin_label'])\n",
    "ward_crosstab['neg_pctg']=ward_crosstab[1]/ward_crosstab[0]*100\n",
    "ward_crosstab[ward_crosstab[1]>3].sort_values('neg_pctg',ascending=False)"
   ]
  },
  {
   "cell_type": "code",
   "execution_count": 43,
   "metadata": {},
   "outputs": [
    {
     "data": {
      "text/html": [
       "<div>\n",
       "<style scoped>\n",
       "    .dataframe tbody tr th:only-of-type {\n",
       "        vertical-align: middle;\n",
       "    }\n",
       "\n",
       "    .dataframe tbody tr th {\n",
       "        vertical-align: top;\n",
       "    }\n",
       "\n",
       "    .dataframe thead th {\n",
       "        text-align: right;\n",
       "    }\n",
       "</style>\n",
       "<table border=\"1\" class=\"dataframe\">\n",
       "  <thead>\n",
       "    <tr style=\"text-align: right;\">\n",
       "      <th>bin_label</th>\n",
       "      <th>0</th>\n",
       "      <th>1</th>\n",
       "      <th>neg_pctg</th>\n",
       "    </tr>\n",
       "    <tr>\n",
       "      <th>llpg_usage</th>\n",
       "      <th></th>\n",
       "      <th></th>\n",
       "      <th></th>\n",
       "    </tr>\n",
       "  </thead>\n",
       "  <tbody>\n",
       "    <tr>\n",
       "      <th>Commercial, Education, Primary, Junior, Infants or Middle School</th>\n",
       "      <td>61</td>\n",
       "      <td>14</td>\n",
       "      <td>22.950820</td>\n",
       "    </tr>\n",
       "    <tr>\n",
       "      <th>Commercial, Medical, General Practice Surgery / Clinic</th>\n",
       "      <td>37</td>\n",
       "      <td>7</td>\n",
       "      <td>18.918919</td>\n",
       "    </tr>\n",
       "    <tr>\n",
       "      <th>Commercial, Community Services, Public / Village Hall / Other Community Facility</th>\n",
       "      <td>107</td>\n",
       "      <td>7</td>\n",
       "      <td>6.542056</td>\n",
       "    </tr>\n",
       "    <tr>\n",
       "      <th>Commercial, Education, Nursery/creche</th>\n",
       "      <td>52</td>\n",
       "      <td>3</td>\n",
       "      <td>5.769231</td>\n",
       "    </tr>\n",
       "    <tr>\n",
       "      <th>Commercial, Leisure, Indoor / Outdoor Leisure / Sporting Activity/ Centre</th>\n",
       "      <td>44</td>\n",
       "      <td>2</td>\n",
       "      <td>4.545455</td>\n",
       "    </tr>\n",
       "    <tr>\n",
       "      <th>Commercial, Industrial, Warehouse / Store / Storage Depot</th>\n",
       "      <td>358</td>\n",
       "      <td>14</td>\n",
       "      <td>3.910615</td>\n",
       "    </tr>\n",
       "    <tr>\n",
       "      <th>Commercial, Offices, Offices and work studios</th>\n",
       "      <td>2718</td>\n",
       "      <td>98</td>\n",
       "      <td>3.605592</td>\n",
       "    </tr>\n",
       "    <tr>\n",
       "      <th>Commercial, Industrial, Workshop / Light Industrial</th>\n",
       "      <td>624</td>\n",
       "      <td>16</td>\n",
       "      <td>2.564103</td>\n",
       "    </tr>\n",
       "    <tr>\n",
       "      <th>Other</th>\n",
       "      <td>249</td>\n",
       "      <td>6</td>\n",
       "      <td>2.409639</td>\n",
       "    </tr>\n",
       "    <tr>\n",
       "      <th>Commercial, Industrial, Factory / Manufacturing</th>\n",
       "      <td>53</td>\n",
       "      <td>1</td>\n",
       "      <td>1.886792</td>\n",
       "    </tr>\n",
       "    <tr>\n",
       "      <th>Commercial, Retail, Public House / Bar / Nightclub</th>\n",
       "      <td>107</td>\n",
       "      <td>2</td>\n",
       "      <td>1.869159</td>\n",
       "    </tr>\n",
       "    <tr>\n",
       "      <th>Commercial, Transport, Car Parking / Park And Ride Site</th>\n",
       "      <td>122</td>\n",
       "      <td>2</td>\n",
       "      <td>1.639344</td>\n",
       "    </tr>\n",
       "    <tr>\n",
       "      <th>Commercial, Retail, Shop / Showroom</th>\n",
       "      <td>1660</td>\n",
       "      <td>14</td>\n",
       "      <td>0.843373</td>\n",
       "    </tr>\n",
       "    <tr>\n",
       "      <th>Commercial, Retail, Restaurant / Cafeteria</th>\n",
       "      <td>314</td>\n",
       "      <td>2</td>\n",
       "      <td>0.636943</td>\n",
       "    </tr>\n",
       "    <tr>\n",
       "      <th>Commercial, Retail, Retail Service Agent</th>\n",
       "      <td>37</td>\n",
       "      <td>0</td>\n",
       "      <td>0.000000</td>\n",
       "    </tr>\n",
       "    <tr>\n",
       "      <th>Commercial, Utilities, Telecommunication</th>\n",
       "      <td>75</td>\n",
       "      <td>0</td>\n",
       "      <td>0.000000</td>\n",
       "    </tr>\n",
       "    <tr>\n",
       "      <th>Commercial, Utilities, Telecommunications masts</th>\n",
       "      <td>49</td>\n",
       "      <td>0</td>\n",
       "      <td>0.000000</td>\n",
       "    </tr>\n",
       "    <tr>\n",
       "      <th>Commercial, Utilities, Telephone boxes</th>\n",
       "      <td>49</td>\n",
       "      <td>0</td>\n",
       "      <td>0.000000</td>\n",
       "    </tr>\n",
       "    <tr>\n",
       "      <th>Commercial, Transport, Vehicle storage</th>\n",
       "      <td>53</td>\n",
       "      <td>0</td>\n",
       "      <td>0.000000</td>\n",
       "    </tr>\n",
       "    <tr>\n",
       "      <th>Commercial, Ancillary buildings</th>\n",
       "      <td>23</td>\n",
       "      <td>0</td>\n",
       "      <td>0.000000</td>\n",
       "    </tr>\n",
       "    <tr>\n",
       "      <th>Commercial, Retail, Public houses and bars</th>\n",
       "      <td>36</td>\n",
       "      <td>0</td>\n",
       "      <td>0.000000</td>\n",
       "    </tr>\n",
       "    <tr>\n",
       "      <th>Commercial, Retail, Other Licensed Premise / Vendor</th>\n",
       "      <td>53</td>\n",
       "      <td>0</td>\n",
       "      <td>0.000000</td>\n",
       "    </tr>\n",
       "    <tr>\n",
       "      <th>Commercial, Retail, Fast food outlets / takeaways (hot and cold)</th>\n",
       "      <td>30</td>\n",
       "      <td>0</td>\n",
       "      <td>0.000000</td>\n",
       "    </tr>\n",
       "    <tr>\n",
       "      <th>Commercial, Leisure, Licensed private members’ clubs</th>\n",
       "      <td>27</td>\n",
       "      <td>0</td>\n",
       "      <td>0.000000</td>\n",
       "    </tr>\n",
       "    <tr>\n",
       "      <th>Commercial, Information, Advertising Hoardings</th>\n",
       "      <td>171</td>\n",
       "      <td>0</td>\n",
       "      <td>0.000000</td>\n",
       "    </tr>\n",
       "    <tr>\n",
       "      <th>Commercial, Education, Other educational establishments</th>\n",
       "      <td>21</td>\n",
       "      <td>0</td>\n",
       "      <td>0.000000</td>\n",
       "    </tr>\n",
       "    <tr>\n",
       "      <th>Commercial, Retail, Automated Teller Machines (ATMs)</th>\n",
       "      <td>73</td>\n",
       "      <td>0</td>\n",
       "      <td>0.000000</td>\n",
       "    </tr>\n",
       "  </tbody>\n",
       "</table>\n",
       "</div>"
      ],
      "text/plain": [
       "bin_label                                              0   1   neg_pctg\n",
       "llpg_usage                                                             \n",
       "Commercial, Education, Primary, Junior, Infants...    61  14  22.950820\n",
       "Commercial, Medical, General Practice Surgery /...    37   7  18.918919\n",
       "Commercial, Community Services, Public / Villag...   107   7   6.542056\n",
       "Commercial, Education, Nursery/creche                 52   3   5.769231\n",
       "Commercial, Leisure, Indoor / Outdoor Leisure /...    44   2   4.545455\n",
       "Commercial, Industrial, Warehouse / Store / Sto...   358  14   3.910615\n",
       "Commercial, Offices, Offices and work studios       2718  98   3.605592\n",
       "Commercial, Industrial, Workshop / Light Indust...   624  16   2.564103\n",
       "Other                                                249   6   2.409639\n",
       "Commercial, Industrial, Factory / Manufacturing       53   1   1.886792\n",
       "Commercial, Retail, Public House / Bar / Nightclub   107   2   1.869159\n",
       "Commercial, Transport, Car Parking / Park And R...   122   2   1.639344\n",
       "Commercial, Retail, Shop / Showroom                 1660  14   0.843373\n",
       "Commercial, Retail, Restaurant / Cafeteria           314   2   0.636943\n",
       "Commercial, Retail, Retail Service Agent              37   0   0.000000\n",
       "Commercial, Utilities, Telecommunication              75   0   0.000000\n",
       "Commercial, Utilities, Telecommunications masts       49   0   0.000000\n",
       "Commercial, Utilities, Telephone boxes                49   0   0.000000\n",
       "Commercial, Transport, Vehicle storage                53   0   0.000000\n",
       "Commercial, Ancillary buildings                       23   0   0.000000\n",
       "Commercial, Retail, Public houses and bars            36   0   0.000000\n",
       "Commercial, Retail, Other Licensed Premise / Ve...    53   0   0.000000\n",
       "Commercial, Retail, Fast food outlets / takeawa...    30   0   0.000000\n",
       "Commercial, Leisure, Licensed private members’ ...    27   0   0.000000\n",
       "Commercial, Information, Advertising Hoardings       171   0   0.000000\n",
       "Commercial, Education, Other educational establ...    21   0   0.000000\n",
       "Commercial, Retail, Automated Teller Machines (...    73   0   0.000000"
      ]
     },
     "execution_count": 43,
     "metadata": {},
     "output_type": "execute_result"
    }
   ],
   "source": [
    "usage_ct = pd.crosstab(combined_df5['llpg_usage'],combined_df5['bin_label'])\n",
    "usage_ct['neg_pctg']=usage_ct[1]/usage_ct[0]*100\n",
    "usage_ct.sort_values('neg_pctg',ascending=False)"
   ]
  },
  {
   "cell_type": "code",
   "execution_count": 46,
   "metadata": {},
   "outputs": [
    {
     "data": {
      "text/html": [
       "<div>\n",
       "<style scoped>\n",
       "    .dataframe tbody tr th:only-of-type {\n",
       "        vertical-align: middle;\n",
       "    }\n",
       "\n",
       "    .dataframe tbody tr th {\n",
       "        vertical-align: top;\n",
       "    }\n",
       "\n",
       "    .dataframe thead th {\n",
       "        text-align: right;\n",
       "    }\n",
       "</style>\n",
       "<table border=\"1\" class=\"dataframe\">\n",
       "  <thead>\n",
       "    <tr style=\"text-align: right;\">\n",
       "      <th>bin_label</th>\n",
       "      <th>0</th>\n",
       "      <th>1</th>\n",
       "      <th>neg_pctg</th>\n",
       "    </tr>\n",
       "    <tr>\n",
       "      <th>vo_propdescrip</th>\n",
       "      <th></th>\n",
       "      <th></th>\n",
       "      <th></th>\n",
       "    </tr>\n",
       "  </thead>\n",
       "  <tbody>\n",
       "    <tr>\n",
       "      <th>SURGERY AND PREMISES</th>\n",
       "      <td>29</td>\n",
       "      <td>7</td>\n",
       "      <td>19.444444</td>\n",
       "    </tr>\n",
       "    <tr>\n",
       "      <th>SCHOOL AND PREMISES</th>\n",
       "      <td>64</td>\n",
       "      <td>13</td>\n",
       "      <td>16.883117</td>\n",
       "    </tr>\n",
       "    <tr>\n",
       "      <th>HEALTH CENTRE AND PREMISES</th>\n",
       "      <td>20</td>\n",
       "      <td>2</td>\n",
       "      <td>9.090909</td>\n",
       "    </tr>\n",
       "    <tr>\n",
       "      <th>Offices and Premises</th>\n",
       "      <td>616</td>\n",
       "      <td>57</td>\n",
       "      <td>8.469539</td>\n",
       "    </tr>\n",
       "    <tr>\n",
       "      <th>DAY NURSERY AND PREMISES</th>\n",
       "      <td>39</td>\n",
       "      <td>3</td>\n",
       "      <td>7.142857</td>\n",
       "    </tr>\n",
       "    <tr>\n",
       "      <th>COMMUNITY CENTRE AND PREMISES</th>\n",
       "      <td>104</td>\n",
       "      <td>7</td>\n",
       "      <td>6.306306</td>\n",
       "    </tr>\n",
       "    <tr>\n",
       "      <th>STORE AND PREMISES</th>\n",
       "      <td>175</td>\n",
       "      <td>8</td>\n",
       "      <td>4.371585</td>\n",
       "    </tr>\n",
       "    <tr>\n",
       "      <th>Workshop and Premises</th>\n",
       "      <td>27</td>\n",
       "      <td>1</td>\n",
       "      <td>3.571429</td>\n",
       "    </tr>\n",
       "    <tr>\n",
       "      <th>BUSINESS UNIT AND PREMISES</th>\n",
       "      <td>299</td>\n",
       "      <td>10</td>\n",
       "      <td>3.236246</td>\n",
       "    </tr>\n",
       "    <tr>\n",
       "      <th>WORKSHOP AND PREMISES</th>\n",
       "      <td>506</td>\n",
       "      <td>16</td>\n",
       "      <td>3.065134</td>\n",
       "    </tr>\n",
       "    <tr>\n",
       "      <th>CAR PARK AND PREMISES</th>\n",
       "      <td>33</td>\n",
       "      <td>1</td>\n",
       "      <td>2.941176</td>\n",
       "    </tr>\n",
       "    <tr>\n",
       "      <th>STUDIO AND PREMISES</th>\n",
       "      <td>36</td>\n",
       "      <td>1</td>\n",
       "      <td>2.702703</td>\n",
       "    </tr>\n",
       "    <tr>\n",
       "      <th>FACTORY AND PREMISES</th>\n",
       "      <td>47</td>\n",
       "      <td>1</td>\n",
       "      <td>2.083333</td>\n",
       "    </tr>\n",
       "    <tr>\n",
       "      <th>Other</th>\n",
       "      <td>808</td>\n",
       "      <td>16</td>\n",
       "      <td>1.941748</td>\n",
       "    </tr>\n",
       "    <tr>\n",
       "      <th>PUBLIC HOUSE AND PREMISES</th>\n",
       "      <td>107</td>\n",
       "      <td>2</td>\n",
       "      <td>1.834862</td>\n",
       "    </tr>\n",
       "    <tr>\n",
       "      <th>CAR PARKING SPACE AND PREMISES</th>\n",
       "      <td>56</td>\n",
       "      <td>1</td>\n",
       "      <td>1.754386</td>\n",
       "    </tr>\n",
       "    <tr>\n",
       "      <th>OFFICES AND PREMISES</th>\n",
       "      <td>1663</td>\n",
       "      <td>27</td>\n",
       "      <td>1.597633</td>\n",
       "    </tr>\n",
       "    <tr>\n",
       "      <th>CAFE AND PREMISES</th>\n",
       "      <td>63</td>\n",
       "      <td>1</td>\n",
       "      <td>1.562500</td>\n",
       "    </tr>\n",
       "    <tr>\n",
       "      <th>Shop and Premises</th>\n",
       "      <td>66</td>\n",
       "      <td>1</td>\n",
       "      <td>1.492537</td>\n",
       "    </tr>\n",
       "    <tr>\n",
       "      <th>SHOP AND PREMISES</th>\n",
       "      <td>1499</td>\n",
       "      <td>11</td>\n",
       "      <td>0.728477</td>\n",
       "    </tr>\n",
       "    <tr>\n",
       "      <th>WAREHOUSE AND PREMISES</th>\n",
       "      <td>140</td>\n",
       "      <td>1</td>\n",
       "      <td>0.709220</td>\n",
       "    </tr>\n",
       "    <tr>\n",
       "      <th>RESTAURANT AND PREMISES</th>\n",
       "      <td>187</td>\n",
       "      <td>1</td>\n",
       "      <td>0.531915</td>\n",
       "    </tr>\n",
       "    <tr>\n",
       "      <th>Business Unit and Premises</th>\n",
       "      <td>24</td>\n",
       "      <td>0</td>\n",
       "      <td>0.000000</td>\n",
       "    </tr>\n",
       "    <tr>\n",
       "      <th>SITE FOR ATM</th>\n",
       "      <td>27</td>\n",
       "      <td>0</td>\n",
       "      <td>0.000000</td>\n",
       "    </tr>\n",
       "    <tr>\n",
       "      <th>SITE OF ATM</th>\n",
       "      <td>36</td>\n",
       "      <td>0</td>\n",
       "      <td>0.000000</td>\n",
       "    </tr>\n",
       "    <tr>\n",
       "      <th>COMMUNICATION STATION AND PREMISES</th>\n",
       "      <td>121</td>\n",
       "      <td>0</td>\n",
       "      <td>0.000000</td>\n",
       "    </tr>\n",
       "    <tr>\n",
       "      <th>SHOWROOM AND PREMISES</th>\n",
       "      <td>24</td>\n",
       "      <td>0</td>\n",
       "      <td>0.000000</td>\n",
       "    </tr>\n",
       "    <tr>\n",
       "      <th>PUBLIC TELEPHONE KIOSK AND PREMISES</th>\n",
       "      <td>39</td>\n",
       "      <td>0</td>\n",
       "      <td>0.000000</td>\n",
       "    </tr>\n",
       "    <tr>\n",
       "      <th>BETTING SHOP AND PREMISES</th>\n",
       "      <td>45</td>\n",
       "      <td>0</td>\n",
       "      <td>0.000000</td>\n",
       "    </tr>\n",
       "    <tr>\n",
       "      <th>Office</th>\n",
       "      <td>60</td>\n",
       "      <td>0</td>\n",
       "      <td>0.000000</td>\n",
       "    </tr>\n",
       "    <tr>\n",
       "      <th>GARAGE AND PREMISES</th>\n",
       "      <td>35</td>\n",
       "      <td>0</td>\n",
       "      <td>0.000000</td>\n",
       "    </tr>\n",
       "    <tr>\n",
       "      <th>CAR PARKING SPACE</th>\n",
       "      <td>45</td>\n",
       "      <td>0</td>\n",
       "      <td>0.000000</td>\n",
       "    </tr>\n",
       "    <tr>\n",
       "      <th>Car Parking Space and Premises</th>\n",
       "      <td>24</td>\n",
       "      <td>0</td>\n",
       "      <td>0.000000</td>\n",
       "    </tr>\n",
       "    <tr>\n",
       "      <th>ADVERTISING RIGHT AND PREMISES</th>\n",
       "      <td>139</td>\n",
       "      <td>0</td>\n",
       "      <td>0.000000</td>\n",
       "    </tr>\n",
       "  </tbody>\n",
       "</table>\n",
       "</div>"
      ],
      "text/plain": [
       "bin_label                               0   1   neg_pctg\n",
       "vo_propdescrip                                          \n",
       "SURGERY AND PREMISES                   29   7  19.444444\n",
       "SCHOOL AND PREMISES                    64  13  16.883117\n",
       "HEALTH CENTRE AND PREMISES             20   2   9.090909\n",
       "Offices and Premises                  616  57   8.469539\n",
       "DAY NURSERY AND PREMISES               39   3   7.142857\n",
       "COMMUNITY CENTRE AND PREMISES         104   7   6.306306\n",
       "STORE AND PREMISES                    175   8   4.371585\n",
       "Workshop and Premises                  27   1   3.571429\n",
       "BUSINESS UNIT AND PREMISES            299  10   3.236246\n",
       "WORKSHOP AND PREMISES                 506  16   3.065134\n",
       "CAR PARK AND PREMISES                  33   1   2.941176\n",
       "STUDIO AND PREMISES                    36   1   2.702703\n",
       "FACTORY AND PREMISES                   47   1   2.083333\n",
       "Other                                 808  16   1.941748\n",
       "PUBLIC HOUSE AND PREMISES             107   2   1.834862\n",
       "CAR PARKING SPACE AND PREMISES         56   1   1.754386\n",
       "OFFICES AND PREMISES                 1663  27   1.597633\n",
       "CAFE AND PREMISES                      63   1   1.562500\n",
       "Shop and Premises                      66   1   1.492537\n",
       "SHOP AND PREMISES                    1499  11   0.728477\n",
       "WAREHOUSE AND PREMISES                140   1   0.709220\n",
       "RESTAURANT AND PREMISES               187   1   0.531915\n",
       "Business Unit and Premises             24   0   0.000000\n",
       "SITE FOR ATM                           27   0   0.000000\n",
       "SITE OF ATM                            36   0   0.000000\n",
       "COMMUNICATION STATION AND PREMISES    121   0   0.000000\n",
       "SHOWROOM AND PREMISES                  24   0   0.000000\n",
       "PUBLIC TELEPHONE KIOSK AND PREMISES    39   0   0.000000\n",
       "BETTING SHOP AND PREMISES              45   0   0.000000\n",
       "Office                                 60   0   0.000000\n",
       "GARAGE AND PREMISES                    35   0   0.000000\n",
       "CAR PARKING SPACE                      45   0   0.000000\n",
       "Car Parking Space and Premises         24   0   0.000000\n",
       "ADVERTISING RIGHT AND PREMISES        139   0   0.000000"
      ]
     },
     "execution_count": 46,
     "metadata": {},
     "output_type": "execute_result"
    }
   ],
   "source": [
    "descrip_ct =  pd.crosstab(combined_df5['vo_propdescrip'],combined_df5['bin_label'])\n",
    "descrip_ct['neg_pctg']=descrip_ct[1]/(descrip_ct[0]+descrip_ct[1])*100\n",
    "descrip_ct.sort_values('neg_pctg',ascending=False)"
   ]
  },
  {
   "cell_type": "markdown",
   "metadata": {},
   "source": [
    "\n",
    "\n",
    "Let's see how many different features are required for each feature that we want to one-hot encode"
   ]
  },
  {
   "cell_type": "code",
   "execution_count": 47,
   "metadata": {},
   "outputs": [
    {
     "name": "stdout",
     "output_type": "stream",
     "text": [
      "vo_propdescrip (7391, 361)\n",
      "empty_prop (7391, 10)\n",
      "llpg_usage (7391, 91)\n",
      "Ward (7391, 29)\n",
      "paymeth_code (7391, 18)\n"
     ]
    }
   ],
   "source": [
    "for i in ['vo_propdescrip','empty_prop', \n",
    "                   'llpg_usage', 'Ward', 'paymeth_code']:\n",
    "    print(i,(pd.get_dummies(combined_df4, columns=[i])).shape)"
   ]
  },
  {
   "cell_type": "markdown",
   "metadata": {},
   "source": [
    "Too many dummy variables are required for prop description and usage - ie too many diff values. So don't use these"
   ]
  },
  {
   "cell_type": "code",
   "execution_count": 48,
   "metadata": {},
   "outputs": [],
   "source": [
    "dummies_df = pd.get_dummies(combined_df4, columns=['Ward', 'paymeth_code'])\n",
    "dummies_df = dummies_df.drop(['vo_propdescrip','llpg_usage'],axis=1)"
   ]
  },
  {
   "cell_type": "code",
   "execution_count": 49,
   "metadata": {},
   "outputs": [
    {
     "data": {
      "text/plain": [
       "Index(['rv', 'empty_prop', 'bill_no', 'account_bal', 'bin_label',\n",
       "       'Ward_BROWNSWOOD', 'Ward_CAZENOVE', 'Ward_CLISSOLD', 'Ward_DALSTON',\n",
       "       'Ward_DE BEAUVOIR', 'Ward_HACKNEY CENTRAL', 'Ward_HACKNEY DOWNS',\n",
       "       'Ward_HACKNEY WICK', 'Ward_HAGGERSTON', 'Ward_HOMERTON',\n",
       "       'Ward_HOXTON EAST AND SHOREDITCH', 'Ward_HOXTON WEST',\n",
       "       'Ward_KINGS PARK', 'Ward_LEA BRIDGE', 'Ward_LONDON FIELDS',\n",
       "       'Ward_SHACKLEWELL', 'Ward_SPRINGFIELD', 'Ward_STAMFORD HILL WEST',\n",
       "       'Ward_STOKE NEWINGTON', 'Ward_VICTORIA', 'Ward_WOODBERRY DOWN',\n",
       "       'paymeth_code_CSH12', 'paymeth_code_CSHY', 'paymeth_code_CSM01',\n",
       "       'paymeth_code_CSQ01', 'paymeth_code_DD12', 'paymeth_code_DD14',\n",
       "       'paymeth_code_DDD14', 'paymeth_code_DDHY', 'paymeth_code_DDM01',\n",
       "       'paymeth_code_DDQ01'],\n",
       "      dtype='object')"
      ]
     },
     "execution_count": 49,
     "metadata": {},
     "output_type": "execute_result"
    }
   ],
   "source": [
    "(dummies_df.keys())"
   ]
  },
  {
   "cell_type": "markdown",
   "metadata": {},
   "source": [
    "Make a dictionary to store names of variables with their indices"
   ]
  },
  {
   "cell_type": "code",
   "execution_count": 50,
   "metadata": {},
   "outputs": [],
   "source": [
    "feats_dict = dict()\n",
    "for i, name in enumerate(dummies_df.keys()):\n",
    "    feats_dict[i] = name \n",
    "# feats_dict"
   ]
  },
  {
   "cell_type": "code",
   "execution_count": 52,
   "metadata": {},
   "outputs": [],
   "source": [
    "y = combined_df4[['bin_label']].copy()\n",
    "X = dummies_df.drop(['bin_label','account_bal'], axis=1)"
   ]
  },
  {
   "cell_type": "code",
   "execution_count": 54,
   "metadata": {},
   "outputs": [
    {
     "name": "stdout",
     "output_type": "stream",
     "text": [
      "Feature ranking:\n",
      "1. \t rv                              (0.699114)\n",
      "2. \t bill_no                         (0.213590)\n",
      "3. \t empty_prop                      (0.017797)\n",
      "4. \t Ward_HOMERTON                   (0.014335)\n",
      "5. \t paymeth_code_DDD14              (0.006120)\n",
      "6. \t paymeth_code_CSH12              (0.005711)\n",
      "7. \t Ward_VICTORIA                   (0.003819)\n",
      "8. \t Ward_DALSTON                    (0.002922)\n",
      "9. \t Ward_HAGGERSTON                 (0.002562)\n",
      "10. \t Ward_CAZENOVE                   (0.002433)\n",
      "11. \t Ward_CLISSOLD                   (0.002353)\n",
      "12. \t Ward_LONDON FIELDS              (0.002318)\n",
      "13. \t Ward_HACKNEY CENTRAL            (0.002215)\n",
      "14. \t Ward_HACKNEY DOWNS              (0.002157)\n",
      "15. \t Ward_KINGS PARK                 (0.002048)\n",
      "16. \t Ward_SHACKLEWELL                (0.001972)\n",
      "17. \t bin_label                       (0.001870)\n",
      "18. \t Ward_STOKE NEWINGTON            (0.001764)\n",
      "19. \t Ward_SPRINGFIELD                (0.001682)\n",
      "20. \t Ward_HOXTON WEST                (0.001607)\n",
      "21. \t Ward_DE BEAUVOIR                (0.001597)\n",
      "22. \t Ward_HACKNEY WICK               (0.001539)\n",
      "23. \t Ward_STAMFORD HILL WEST         (0.001507)\n",
      "24. \t paymeth_code_CSHY               (0.001459)\n",
      "25. \t Ward_LEA BRIDGE                 (0.001347)\n",
      "26. \t paymeth_code_CSM01              (0.001234)\n",
      "27. \t Ward_BROWNSWOOD                 (0.001060)\n",
      "28. \t Ward_HOXTON EAST AND SHOREDITCH  (0.001016)\n",
      "29. \t account_bal                     (0.000555)\n",
      "30. \t paymeth_code_DD12               (0.000138)\n",
      "31. \t paymeth_code_DDHY               (0.000065)\n",
      "32. \t paymeth_code_CSQ01              (0.000055)\n",
      "33. \t Ward_WOODBERRY DOWN             (0.000034)\n",
      "34. \t paymeth_code_DD14               (0.000005)\n"
     ]
    },
    {
     "data": {
      "image/png": "[encoded data removed]",
      "text/plain": [
       "<Figure size 432x288 with 1 Axes>"
      ]
     },
     "metadata": {},
     "output_type": "display_data"
    }
   ],
   "source": [
    "forest = ExtraTreesClassifier(n_estimators=250,\n",
    "                              random_state=0)\n",
    "forest.fit(X, y['bin_label'])\n",
    "importances = forest.feature_importances_\n",
    "std = np.std([tree.feature_importances_ for tree in forest.estimators_],\n",
    "             axis=0)\n",
    "indices = np.argsort(importances)[::-1]\n",
    "\n",
    "# Print the feature ranking\n",
    "print(\"Feature ranking:\")\n",
    "\n",
    "for f in range(X.shape[1]):\n",
    "    print(\"{}. \\t {} {} ({:3f})\".format(f + 1, feats_dict[indices[f]], ' '*(30-len(feats_dict[indices[f]])),  importances[indices[f]]))\n",
    "\n",
    "# Plot the feature importances of the forest\n",
    "plt.figure()\n",
    "plt.title(\"Feature importances\")\n",
    "plt.bar(range(X.shape[1]), importances[indices],\n",
    "       color=\"r\", yerr=std[indices], align=\"center\")\n",
    "plt.xticks(range(X.shape[1]), indices)\n",
    "plt.xlim([-1, X.shape[1]])\n",
    "plt.show()"
   ]
  },
  {
   "cell_type": "markdown",
   "metadata": {},
   "source": [
    "Looking at following features:\n",
    "- continuous/binary: rates value, bill number, whether the property is empty\n",
    "- categorical (one-hot encoded): ward, payment code\n",
    "\n",
    "The categorical features have so many diff values that they are less impactful compared to others.\n",
    "\n",
    "To deal with this: let's combine types of usage. \n"
   ]
  },
  {
   "cell_type": "code",
   "execution_count": 55,
   "metadata": {},
   "outputs": [
    {
     "name": "stderr",
     "output_type": "stream",
     "text": [
      "C:\\Users\\jotaylor\\AppData\\Local\\Continuum\\anaconda3\\lib\\site-packages\\ipykernel_launcher.py:2: SettingWithCopyWarning: \n",
      "A value is trying to be set on a copy of a slice from a DataFrame.\n",
      "Try using .loc[row_indexer,col_indexer] = value instead\n",
      "\n",
      "See the caveats in the documentation: http://pandas.pydata.org/pandas-docs/stable/indexing.html#indexing-view-versus-copy\n",
      "  \n",
      "C:\\Users\\jotaylor\\AppData\\Local\\Continuum\\anaconda3\\lib\\site-packages\\ipykernel_launcher.py:3: SettingWithCopyWarning: \n",
      "A value is trying to be set on a copy of a slice from a DataFrame.\n",
      "Try using .loc[row_indexer,col_indexer] = value instead\n",
      "\n",
      "See the caveats in the documentation: http://pandas.pydata.org/pandas-docs/stable/indexing.html#indexing-view-versus-copy\n",
      "  This is separate from the ipykernel package so we can avoid doing imports until\n"
     ]
    },
    {
     "data": {
      "text/html": [
       "<div>\n",
       "<style scoped>\n",
       "    .dataframe tbody tr th:only-of-type {\n",
       "        vertical-align: middle;\n",
       "    }\n",
       "\n",
       "    .dataframe tbody tr th {\n",
       "        vertical-align: top;\n",
       "    }\n",
       "\n",
       "    .dataframe thead th {\n",
       "        text-align: right;\n",
       "    }\n",
       "</style>\n",
       "<table border=\"1\" class=\"dataframe\">\n",
       "  <thead>\n",
       "    <tr style=\"text-align: right;\">\n",
       "      <th></th>\n",
       "      <th>rv</th>\n",
       "      <th>vo_propdescrip</th>\n",
       "      <th>empty_prop</th>\n",
       "      <th>llpg_usage</th>\n",
       "      <th>Ward</th>\n",
       "      <th>paymeth_code</th>\n",
       "      <th>bill_no</th>\n",
       "      <th>account_bal</th>\n",
       "      <th>bin_label</th>\n",
       "      <th>split_llpg1</th>\n",
       "      <th>split_llpg2</th>\n",
       "    </tr>\n",
       "  </thead>\n",
       "  <tbody>\n",
       "    <tr>\n",
       "      <th>0</th>\n",
       "      <td>19500</td>\n",
       "      <td>OFFICES AND PREMISES</td>\n",
       "      <td>1</td>\n",
       "      <td>Commercial, Offices, Offices and work studios</td>\n",
       "      <td>CLISSOLD</td>\n",
       "      <td>DDM01</td>\n",
       "      <td>6</td>\n",
       "      <td>5124.0</td>\n",
       "      <td>0</td>\n",
       "      <td>Offices</td>\n",
       "      <td>Offices- Offices and work studios</td>\n",
       "    </tr>\n",
       "    <tr>\n",
       "      <th>10</th>\n",
       "      <td>11500</td>\n",
       "      <td>CLUB AND PREMISES</td>\n",
       "      <td>0</td>\n",
       "      <td>Commercial, Leisure, Licensed private members’...</td>\n",
       "      <td>HACKNEY WICK</td>\n",
       "      <td>CSM01</td>\n",
       "      <td>23</td>\n",
       "      <td>10111.2</td>\n",
       "      <td>0</td>\n",
       "      <td>Leisure</td>\n",
       "      <td>Leisure- Licensed private members’ clubs</td>\n",
       "    </tr>\n",
       "    <tr>\n",
       "      <th>11</th>\n",
       "      <td>16000</td>\n",
       "      <td>COMMUNICATION STATION AND PREMISES</td>\n",
       "      <td>0</td>\n",
       "      <td>Commercial, Utilities, Telecommunications masts</td>\n",
       "      <td>HAGGERSTON</td>\n",
       "      <td>CSH12</td>\n",
       "      <td>10</td>\n",
       "      <td>5760.0</td>\n",
       "      <td>0</td>\n",
       "      <td>Utilities</td>\n",
       "      <td>Utilities- Telecommunications masts</td>\n",
       "    </tr>\n",
       "    <tr>\n",
       "      <th>12</th>\n",
       "      <td>16000</td>\n",
       "      <td>COMMUNICATION STATION AND PREMISES</td>\n",
       "      <td>0</td>\n",
       "      <td>Commercial, Utilities, Telecommunications masts</td>\n",
       "      <td>HACKNEY WICK</td>\n",
       "      <td>CSH12</td>\n",
       "      <td>10</td>\n",
       "      <td>5760.0</td>\n",
       "      <td>0</td>\n",
       "      <td>Utilities</td>\n",
       "      <td>Utilities- Telecommunications masts</td>\n",
       "    </tr>\n",
       "    <tr>\n",
       "      <th>13</th>\n",
       "      <td>16000</td>\n",
       "      <td>COMMUNICATION STATION AND PREMISES</td>\n",
       "      <td>0</td>\n",
       "      <td>Commercial, Utilities, Telecommunications masts</td>\n",
       "      <td>STOKE NEWINGTON</td>\n",
       "      <td>CSH12</td>\n",
       "      <td>10</td>\n",
       "      <td>5760.0</td>\n",
       "      <td>0</td>\n",
       "      <td>Utilities</td>\n",
       "      <td>Utilities- Telecommunications masts</td>\n",
       "    </tr>\n",
       "  </tbody>\n",
       "</table>\n",
       "</div>"
      ],
      "text/plain": [
       "       rv                      vo_propdescrip  empty_prop  \\\n",
       "0   19500                OFFICES AND PREMISES           1   \n",
       "10  11500                   CLUB AND PREMISES           0   \n",
       "11  16000  COMMUNICATION STATION AND PREMISES           0   \n",
       "12  16000  COMMUNICATION STATION AND PREMISES           0   \n",
       "13  16000  COMMUNICATION STATION AND PREMISES           0   \n",
       "\n",
       "                                           llpg_usage             Ward  \\\n",
       "0       Commercial, Offices, Offices and work studios         CLISSOLD   \n",
       "10  Commercial, Leisure, Licensed private members’...     HACKNEY WICK   \n",
       "11    Commercial, Utilities, Telecommunications masts       HAGGERSTON   \n",
       "12    Commercial, Utilities, Telecommunications masts     HACKNEY WICK   \n",
       "13    Commercial, Utilities, Telecommunications masts  STOKE NEWINGTON   \n",
       "\n",
       "   paymeth_code  bill_no  account_bal  bin_label split_llpg1  \\\n",
       "0         DDM01        6       5124.0          0     Offices   \n",
       "10        CSM01       23      10111.2          0     Leisure   \n",
       "11        CSH12       10       5760.0          0   Utilities   \n",
       "12        CSH12       10       5760.0          0   Utilities   \n",
       "13        CSH12       10       5760.0          0   Utilities   \n",
       "\n",
       "                                  split_llpg2  \n",
       "0           Offices- Offices and work studios  \n",
       "10   Leisure- Licensed private members’ clubs  \n",
       "11        Utilities- Telecommunications masts  \n",
       "12        Utilities- Telecommunications masts  \n",
       "13        Utilities- Telecommunications masts  "
      ]
     },
     "execution_count": 55,
     "metadata": {},
     "output_type": "execute_result"
    }
   ],
   "source": [
    "# combined_df5 merged all uncommon values into a single 'other' var; this is an alternative strategy\n",
    "combined_df4['split_llpg1']=combined_df4['llpg_usage'].apply(lambda x: '-'.join(x.split(',')[1:2]))\n",
    "combined_df4['split_llpg2']=combined_df4['llpg_usage'].apply(lambda x: '-'.join(x.split(',')[1:3]))\n",
    "combined_df4.head()"
   ]
  },
  {
   "cell_type": "markdown",
   "metadata": {},
   "source": [
    "Now we can do crosstab on the more general version of llpg (ie more limited number of options)"
   ]
  },
  {
   "cell_type": "code",
   "execution_count": 142,
   "metadata": {},
   "outputs": [
    {
     "name": "stdout",
     "output_type": "stream",
     "text": [
      "bin_label    0   1    neg_pc\n",
      "bill_no                     \n",
      "1          146  15  9.316770\n",
      "21          60   6  9.090909\n",
      "17          71   5  6.578947\n",
      "18          85   5  5.555556\n",
      "24         274  14  4.861111\n"
     ]
    },
    {
     "data": {
      "image/png": "[encoded data removed]",
      "text/plain": [
       "<Figure size 432x288 with 1 Axes>"
      ]
     },
     "metadata": {},
     "output_type": "display_data"
    }
   ],
   "source": [
    "def show_crosstab(feat):\n",
    "    ct = pd.crosstab(combined_df4[feat], combined_df4.bin_label)\n",
    "    ct['neg_pc']=ct[1]/(ct[0]+ct[1])*100\n",
    "    sorted_df = ct.sort_values('neg_pc',ascending=False)\n",
    "    print(sorted_df.head())  \n",
    "    plt.bar(range(len(ct)),(sorted_df['neg_pc']))\n",
    "    plt.xticks(range(len(ct)),sorted_df.index,rotation=90)\n",
    "    plt.ylabel('% of businesses in debt')\n",
    "    plt.xlabel(feat)\n",
    "show_crosstab('bill_no')"
   ]
  },
  {
   "cell_type": "code",
   "execution_count": 143,
   "metadata": {},
   "outputs": [
    {
     "name": "stdout",
     "output_type": "stream",
     "text": [
      "bin_label               0   1     neg_pc\n",
      "split_llpg1                             \n",
      " Medical               47   8  14.545455\n",
      " Education            147  17  10.365854\n",
      " Hotels                25   2   7.407407\n",
      " Community Services   137   7   4.861111\n",
      " Offices             2735  98   3.459230\n"
     ]
    },
    {
     "data": {
      "image/png": "[encoded data removed]",
      "text/plain": [
       "<Figure size 432x288 with 1 Axes>"
      ]
     },
     "metadata": {},
     "output_type": "display_data"
    }
   ],
   "source": [
    "show_crosstab('split_llpg1')"
   ]
  },
  {
   "cell_type": "markdown",
   "metadata": {},
   "source": [
    "Now doing the same, but for second level of usage. Need to get rid of rarely-occuring ones now"
   ]
  },
  {
   "cell_type": "code",
   "execution_count": 144,
   "metadata": {},
   "outputs": [
    {
     "name": "stderr",
     "output_type": "stream",
     "text": [
      "C:\\Users\\jotaylor\\AppData\\Local\\Continuum\\anaconda3\\lib\\site-packages\\ipykernel_launcher.py:5: SettingWithCopyWarning: \n",
      "A value is trying to be set on a copy of a slice from a DataFrame.\n",
      "Try using .loc[row_indexer,col_indexer] = value instead\n",
      "\n",
      "See the caveats in the documentation: http://pandas.pydata.org/pandas-docs/stable/indexing.html#indexing-view-versus-copy\n",
      "  \"\"\"\n"
     ]
    }
   ],
   "source": [
    "threshold=20\n",
    "counts = combined_df4['split_llpg2'].value_counts()\n",
    "repl = counts[counts <= threshold].index\n",
    "# list of uncommon values to be created, taken by indexing the value_counts where count is sub-threshold\n",
    "combined_df4['split_llpg2_edited']=combined_df4['split_llpg2'].replace(repl, 'Other')\n",
    "# combined_df5"
   ]
  },
  {
   "cell_type": "code",
   "execution_count": 145,
   "metadata": {},
   "outputs": [
    {
     "name": "stdout",
     "output_type": "stream",
     "text": [
      "bin_label                                             0   1     neg_pc\n",
      "split_llpg2_edited                                                    \n",
      " Education- Primary                                  61  14  18.666667\n",
      " Medical- General Practice Surgery / Clinic          37   7  15.909091\n",
      " Hotels- Boarding and Guest Houses                   25   2   7.407407\n",
      " Community Services- Public / Village Hall / Ot...  107   7   6.140351\n",
      " Education- Nursery/creche                           52   3   5.454545\n"
     ]
    },
    {
     "data": {
      "image/png": "[encoded data removed]",
      "text/plain": [
       "<Figure size 432x288 with 1 Axes>"
      ]
     },
     "metadata": {},
     "output_type": "display_data"
    }
   ],
   "source": [
    "show_crosstab('split_llpg2_edited')"
   ]
  },
  {
   "cell_type": "code",
   "execution_count": 146,
   "metadata": {},
   "outputs": [
    {
     "name": "stdout",
     "output_type": "stream",
     "text": [
      "bin_label      0    1    neg_pc\n",
      "empty_prop                     \n",
      "1           1171   35  2.902156\n",
      "0           6032  153  2.473727\n"
     ]
    },
    {
     "data": {
      "image/png": "[encoded data removed]",
      "text/plain": [
       "<Figure size 432x288 with 1 Axes>"
      ]
     },
     "metadata": {},
     "output_type": "display_data"
    }
   ],
   "source": [
    "show_crosstab('empty_prop')"
   ]
  },
  {
   "cell_type": "code",
   "execution_count": 147,
   "metadata": {},
   "outputs": [
    {
     "name": "stdout",
     "output_type": "stream",
     "text": [
      "bin_label         0   1    neg_pc\n",
      "Ward                             \n",
      "HOXTON WEST     720  52  6.735751\n",
      "HACKNEY DOWNS   128   7  5.185185\n",
      "DE BEAUVOIR     192   8  4.000000\n",
      "WOODBERRY DOWN   82   3  3.529412\n",
      "CAZENOVE        140   5  3.448276\n"
     ]
    },
    {
     "data": {
      "image/png": "[encoded data removed]",
      "text/plain": [
       "<Figure size 432x288 with 1 Axes>"
      ]
     },
     "metadata": {},
     "output_type": "display_data"
    }
   ],
   "source": [
    "show_crosstab('Ward')"
   ]
  },
  {
   "cell_type": "code",
   "execution_count": 148,
   "metadata": {},
   "outputs": [
    {
     "name": "stdout",
     "output_type": "stream",
     "text": [
      "bin_label        0    1    neg_pc\n",
      "paymeth_code                     \n",
      "CSQ01           15    1  6.250000\n",
      "CSH12          787   31  3.789731\n",
      "CSM01         3139  119  3.652548\n",
      "DDM01         2995   36  1.187727\n",
      "DD12           207    1  0.480769\n"
     ]
    },
    {
     "data": {
      "image/png": "[encoded data removed]",
      "text/plain": [
       "<Figure size 432x288 with 1 Axes>"
      ]
     },
     "metadata": {},
     "output_type": "display_data"
    }
   ],
   "source": [
    "show_crosstab('paymeth_code')"
   ]
  },
  {
   "cell_type": "markdown",
   "metadata": {},
   "source": [
    "Too many different values for RV (rates value) so need to discretise it"
   ]
  },
  {
   "cell_type": "code",
   "execution_count": 219,
   "metadata": {},
   "outputs": [
    {
     "name": "stdout",
     "output_type": "stream",
     "text": [
      "['rv', 'vo_propdescrip', 'empty_prop', 'llpg_usage', 'Ward', 'paymeth_code', 'bill_no', 'account_bal', 'bin_label', 'split_llpg1', 'split_llpg2', 'split_llpg2-edited', 'split_llpg2_edited', 'discrete_rv']\n"
     ]
    },
    {
     "name": "stderr",
     "output_type": "stream",
     "text": [
      "C:\\Users\\jotaylor\\AppData\\Local\\Continuum\\anaconda3\\lib\\site-packages\\ipykernel_launcher.py:1: SettingWithCopyWarning: \n",
      "A value is trying to be set on a copy of a slice from a DataFrame.\n",
      "Try using .loc[row_indexer,col_indexer] = value instead\n",
      "\n",
      "See the caveats in the documentation: http://pandas.pydata.org/pandas-docs/stable/indexing.html#indexing-view-versus-copy\n",
      "  \"\"\"Entry point for launching an IPython kernel.\n"
     ]
    },
    {
     "data": {
      "text/plain": [
       "<matplotlib.axes._subplots.AxesSubplot at 0xbd39b00>"
      ]
     },
     "execution_count": 219,
     "metadata": {},
     "output_type": "execute_result"
    },
    {
     "data": {
      "image/png": "[encoded data removed]",
      "text/plain": [
       "<Figure size 432x288 with 1 Axes>"
      ]
     },
     "metadata": {},
     "output_type": "display_data"
    }
   ],
   "source": [
    "combined_df4['discrete_rv']=pd.cut(combined_df4['rv'],bins=range(0,2000000,10000),labels=False)\n",
    "combined_df4[['rv','discrete_rv']]\n",
    "# print(combined_df4['rv'].max())\n",
    "# print(combined_df4['rv'].min())\n",
    "# print(combined_df4['discrete_rv'].max())\n",
    "# print(combined_df4['discrete_rv'].min())\n",
    "combined_df4['discrete_rv'].index[combined_df4['rv'].apply(np.isnan)]\n",
    "# list_of_nans=list((pd.isnull(combined_df4).any(1).nonzero()[0]))\n",
    "list_of_nans=list((pd.isnull(combined_df4)))\n",
    "print(list_of_nans)\n",
    "combined_df4['discrete_rv'].hist(bins=100)\n",
    "# plt.hist(combined_df4['discrete_rv'])\n",
    "# print(combined_df4.loc[list_of_nans])#[['rv','discrete_rv']])"
   ]
  },
  {
   "cell_type": "code",
   "execution_count": null,
   "metadata": {},
   "outputs": [],
   "source": [
    "forest = ExtraTreesClassifier(n_estimators=250,\n",
    "                              random_state=0)\n",
    "forest.fit(X, y['bin_label'])\n",
    "importances = forest.feature_importances_\n",
    "std = np.std([tree.feature_importances_ for tree in forest.estimators_],\n",
    "             axis=0)\n",
    "indices = np.argsort(importances)[::-1]\n",
    "\n",
    "# Print the feature ranking\n",
    "print(\"Feature ranking:\")\n",
    "\n",
    "for f in range(X.shape[1]):\n",
    "    print(\"{}. \\t {} {} ({:3f})\".format(f + 1, feats_dict[indices[f]], ' '*(30-len(feats_dict[indices[f]])),  importances[indices[f]]))\n",
    "\n",
    "# Plot the feature importances of the forest\n",
    "plt.figure()\n",
    "plt.title(\"Feature importances\")\n",
    "plt.bar(range(X.shape[1]), importances[indices],\n",
    "       color=\"r\", yerr=std[indices], align=\"center\")\n",
    "plt.xticks(range(X.shape[1]), indices)\n",
    "plt.xlim([-1, X.shape[1]])\n",
    "plt.show()"
   ]
  },
  {
   "cell_type": "code",
   "execution_count": null,
   "metadata": {},
   "outputs": [],
   "source": []
  }
 ],
 "metadata": {
  "kernelspec": {
   "display_name": "Python 3",
   "language": "python",
   "name": "python3"
  },
  "language_info": {
   "codemirror_mode": {
    "name": "ipython",
    "version": 3
   },
   "file_extension": ".py",
   "mimetype": "text/x-python",
   "name": "python",
   "nbconvert_exporter": "python",
   "pygments_lexer": "ipython3",
   "version": "3.6.5"
  }
 },
 "nbformat": 4,
 "nbformat_minor": 2
}
