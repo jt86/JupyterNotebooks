{
 "cells": [
  {
   "cell_type": "code",
   "execution_count": 1,
   "metadata": {},
   "outputs": [],
   "source": [
    "import os, sys\n",
    "# import sklearn as skl \n",
    "import pandas as pd\n",
    "import numpy as np\n",
    "import matplotlib.pyplot as plt\n",
    "from sklearn.datasets import make_classification\n",
    "from sklearn.ensemble import ExtraTreesClassifier"
   ]
  },
  {
   "cell_type": "code",
   "execution_count": 2,
   "metadata": {},
   "outputs": [
    {
     "data": {
      "text/plain": [
       "Index(['name1', 'name2', 'addr1', 'addr2', 'addr3', 'addr4', 'postcode',\n",
       "       'acct_id', 'ck', 'prop', 'rv', 'vo_propdescrip', 'baddr1', 'baddr2',\n",
       "       'baddr3', 'baddr4', 'prop_postcode', 'empty_prop', 'empty_from'],\n",
       "      dtype='object')"
      ]
     },
     "execution_count": 2,
     "metadata": {},
     "output_type": "execute_result"
    }
   ],
   "source": [
    "business_df = pd.read_excel('NNDR_for_Joe.xlsx',sheet_name=0)\n",
    "business_df.keys()"
   ]
  },
  {
   "cell_type": "code",
   "execution_count": 3,
   "metadata": {},
   "outputs": [],
   "source": [
    "business_df=business_df.drop(['addr1','addr2','addr3','addr4','postcode','baddr1', 'baddr2',\n",
    "       'baddr3', 'baddr4','prop_postcode'],axis=1)"
   ]
  },
  {
   "cell_type": "code",
   "execution_count": 4,
   "metadata": {},
   "outputs": [
    {
     "data": {
      "text/plain": [
       "4655103    1\n",
       "2811174    1\n",
       "2637109    1\n",
       "2783042    1\n",
       "2723123    1\n",
       "Name: prop, dtype: int64"
      ]
     },
     "execution_count": 4,
     "metadata": {},
     "output_type": "execute_result"
    }
   ],
   "source": [
    "business_df['prop'].value_counts().head()"
   ]
  },
  {
   "cell_type": "code",
   "execution_count": null,
   "metadata": {},
   "outputs": [],
   "source": []
  },
  {
   "cell_type": "code",
   "execution_count": 5,
   "metadata": {},
   "outputs": [
    {
     "data": {
      "text/html": [
       "<div>\n",
       "<style scoped>\n",
       "    .dataframe tbody tr th:only-of-type {\n",
       "        vertical-align: middle;\n",
       "    }\n",
       "\n",
       "    .dataframe tbody tr th {\n",
       "        vertical-align: top;\n",
       "    }\n",
       "\n",
       "    .dataframe thead th {\n",
       "        text-align: right;\n",
       "    }\n",
       "</style>\n",
       "<table border=\"1\" class=\"dataframe\">\n",
       "  <thead>\n",
       "    <tr style=\"text-align: right;\">\n",
       "      <th></th>\n",
       "      <th>propref</th>\n",
       "      <th>fin_year</th>\n",
       "      <th>status</th>\n",
       "      <th>account_id</th>\n",
       "      <th>check_digit</th>\n",
       "      <th>account_holder1</th>\n",
       "      <th>account_holder2</th>\n",
       "      <th>paymeth_code</th>\n",
       "      <th>trans_code</th>\n",
       "      <th>bill_no</th>\n",
       "      <th>...</th>\n",
       "      <th>last_payment</th>\n",
       "      <th>fullaccountref</th>\n",
       "      <th>account_bal</th>\n",
       "      <th>name1</th>\n",
       "      <th>name2</th>\n",
       "      <th>addr1</th>\n",
       "      <th>addr2</th>\n",
       "      <th>addr3</th>\n",
       "      <th>addr4</th>\n",
       "      <th>postcode</th>\n",
       "    </tr>\n",
       "  </thead>\n",
       "  <tbody>\n",
       "    <tr>\n",
       "      <th>0</th>\n",
       "      <td>1001001</td>\n",
       "      <td>200910</td>\n",
       "      <td>NaN</td>\n",
       "      <td>60105948</td>\n",
       "      <td>X</td>\n",
       "      <td>MR ROYSTON LE COINTE</td>\n",
       "      <td>NaN</td>\n",
       "      <td>DDM01</td>\n",
       "      <td>DD</td>\n",
       "      <td>9</td>\n",
       "      <td>...</td>\n",
       "      <td>2011-10-26</td>\n",
       "      <td>60105948X</td>\n",
       "      <td>2.00</td>\n",
       "      <td>NaN</td>\n",
       "      <td>NaN</td>\n",
       "      <td>2ND FLR UNIT 201 COLOURWORKS</td>\n",
       "      <td>2 ABBOT STREET</td>\n",
       "      <td>LONDON</td>\n",
       "      <td>NaN</td>\n",
       "      <td>E8 3DP</td>\n",
       "    </tr>\n",
       "    <tr>\n",
       "      <th>1</th>\n",
       "      <td>1001001</td>\n",
       "      <td>201718</td>\n",
       "      <td></td>\n",
       "      <td>60179497</td>\n",
       "      <td>5</td>\n",
       "      <td>DMD CAPITAL LIMITED</td>\n",
       "      <td>NaN</td>\n",
       "      <td>CSM01</td>\n",
       "      <td>SORD</td>\n",
       "      <td>1</td>\n",
       "      <td>...</td>\n",
       "      <td>2018-02-14</td>\n",
       "      <td>601794975</td>\n",
       "      <td>-97.01</td>\n",
       "      <td>NaN</td>\n",
       "      <td>NaN</td>\n",
       "      <td>2ND FLR UNIT 201 COLOURWORKS</td>\n",
       "      <td>2 ABBOT STREET</td>\n",
       "      <td>LONDON</td>\n",
       "      <td>NaN</td>\n",
       "      <td>E8 3DP</td>\n",
       "    </tr>\n",
       "  </tbody>\n",
       "</table>\n",
       "<p>2 rows × 21 columns</p>\n",
       "</div>"
      ],
      "text/plain": [
       "   propref  fin_year status  account_id check_digit       account_holder1  \\\n",
       "0  1001001    200910    NaN    60105948           X  MR ROYSTON LE COINTE   \n",
       "1  1001001    201718           60179497           5   DMD CAPITAL LIMITED   \n",
       "\n",
       "  account_holder2 paymeth_code trans_code  bill_no   ...     last_payment  \\\n",
       "0             NaN        DDM01         DD        9   ...       2011-10-26   \n",
       "1             NaN        CSM01       SORD        1   ...       2018-02-14   \n",
       "\n",
       "  fullaccountref account_bal  name1 name2                         addr1  \\\n",
       "0      60105948X        2.00    NaN   NaN  2ND FLR UNIT 201 COLOURWORKS   \n",
       "1      601794975      -97.01    NaN   NaN  2ND FLR UNIT 201 COLOURWORKS   \n",
       "\n",
       "            addr2   addr3 addr4 postcode  \n",
       "0  2 ABBOT STREET  LONDON   NaN   E8 3DP  \n",
       "1  2 ABBOT STREET  LONDON   NaN   E8 3DP  \n",
       "\n",
       "[2 rows x 21 columns]"
      ]
     },
     "execution_count": 5,
     "metadata": {},
     "output_type": "execute_result"
    }
   ],
   "source": [
    "balance_df = pd.read_excel('NNDR_for_Joe.xlsx',sheet_name=1)\n",
    "balance_df.head(2)"
   ]
  },
  {
   "cell_type": "code",
   "execution_count": 6,
   "metadata": {},
   "outputs": [
    {
     "data": {
      "text/plain": [
       "Series([], Name: name2, dtype: int64)"
      ]
     },
     "execution_count": 6,
     "metadata": {},
     "output_type": "execute_result"
    }
   ],
   "source": [
    "balance_df['name2'].value_counts()"
   ]
  },
  {
   "cell_type": "code",
   "execution_count": 7,
   "metadata": {},
   "outputs": [
    {
     "data": {
      "text/plain": [
       "Index(['propref', 'fin_year', 'status', 'account_id', 'check_digit',\n",
       "       'account_holder1', 'account_holder2', 'paymeth_code', 'trans_code',\n",
       "       'bill_no', 'bill_bal', 'last_payment', 'fullaccountref', 'account_bal',\n",
       "       'name1', 'name2', 'addr1', 'addr2', 'addr3', 'addr4', 'postcode'],\n",
       "      dtype='object')"
      ]
     },
     "execution_count": 7,
     "metadata": {},
     "output_type": "execute_result"
    }
   ],
   "source": [
    "balance_df.keys()"
   ]
  },
  {
   "cell_type": "code",
   "execution_count": 8,
   "metadata": {
    "scrolled": true
   },
   "outputs": [
    {
     "data": {
      "text/html": [
       "<div>\n",
       "<style scoped>\n",
       "    .dataframe tbody tr th:only-of-type {\n",
       "        vertical-align: middle;\n",
       "    }\n",
       "\n",
       "    .dataframe tbody tr th {\n",
       "        vertical-align: top;\n",
       "    }\n",
       "\n",
       "    .dataframe thead th {\n",
       "        text-align: right;\n",
       "    }\n",
       "</style>\n",
       "<table border=\"1\" class=\"dataframe\">\n",
       "  <thead>\n",
       "    <tr style=\"text-align: right;\">\n",
       "      <th></th>\n",
       "      <th>propref</th>\n",
       "      <th>fin_year</th>\n",
       "      <th>status</th>\n",
       "      <th>account_id</th>\n",
       "      <th>check_digit</th>\n",
       "      <th>paymeth_code</th>\n",
       "      <th>trans_code</th>\n",
       "      <th>bill_no</th>\n",
       "      <th>bill_bal</th>\n",
       "      <th>last_payment</th>\n",
       "      <th>fullaccountref</th>\n",
       "      <th>account_bal</th>\n",
       "    </tr>\n",
       "  </thead>\n",
       "  <tbody>\n",
       "    <tr>\n",
       "      <th>0</th>\n",
       "      <td>1001001</td>\n",
       "      <td>200910</td>\n",
       "      <td>NaN</td>\n",
       "      <td>60105948</td>\n",
       "      <td>X</td>\n",
       "      <td>DDM01</td>\n",
       "      <td>DD</td>\n",
       "      <td>9</td>\n",
       "      <td>2.00</td>\n",
       "      <td>2011-10-26</td>\n",
       "      <td>60105948X</td>\n",
       "      <td>2.00</td>\n",
       "    </tr>\n",
       "    <tr>\n",
       "      <th>1</th>\n",
       "      <td>1001001</td>\n",
       "      <td>201718</td>\n",
       "      <td></td>\n",
       "      <td>60179497</td>\n",
       "      <td>5</td>\n",
       "      <td>CSM01</td>\n",
       "      <td>SORD</td>\n",
       "      <td>1</td>\n",
       "      <td>-96.99</td>\n",
       "      <td>2018-02-14</td>\n",
       "      <td>601794975</td>\n",
       "      <td>-97.01</td>\n",
       "    </tr>\n",
       "  </tbody>\n",
       "</table>\n",
       "</div>"
      ],
      "text/plain": [
       "   propref  fin_year status  account_id check_digit paymeth_code trans_code  \\\n",
       "0  1001001    200910    NaN    60105948           X        DDM01         DD   \n",
       "1  1001001    201718           60179497           5        CSM01       SORD   \n",
       "\n",
       "   bill_no  bill_bal last_payment fullaccountref  account_bal  \n",
       "0        9      2.00   2011-10-26      60105948X         2.00  \n",
       "1        1    -96.99   2018-02-14      601794975       -97.01  "
      ]
     },
     "execution_count": 8,
     "metadata": {},
     "output_type": "execute_result"
    }
   ],
   "source": [
    "balance_df=balance_df.drop(['account_holder1','account_holder2','name1', 'name2', 'addr1', 'addr2', 'addr3', 'addr4', 'postcode'],axis=1)\n",
    "balance_df.head(2)"
   ]
  },
  {
   "cell_type": "code",
   "execution_count": 9,
   "metadata": {
    "scrolled": true
   },
   "outputs": [
    {
     "data": {
      "text/html": [
       "<div>\n",
       "<style scoped>\n",
       "    .dataframe tbody tr th:only-of-type {\n",
       "        vertical-align: middle;\n",
       "    }\n",
       "\n",
       "    .dataframe tbody tr th {\n",
       "        vertical-align: top;\n",
       "    }\n",
       "\n",
       "    .dataframe thead th {\n",
       "        text-align: right;\n",
       "    }\n",
       "</style>\n",
       "<table border=\"1\" class=\"dataframe\">\n",
       "  <thead>\n",
       "    <tr style=\"text-align: right;\">\n",
       "      <th></th>\n",
       "      <th>UPRN</th>\n",
       "      <th>organisation</th>\n",
       "      <th>start_date</th>\n",
       "      <th>entry_date</th>\n",
       "      <th>last_update_date</th>\n",
       "      <th>end_date</th>\n",
       "      <th>address</th>\n",
       "      <th>postcode_master</th>\n",
       "      <th>nndr_prop_ref</th>\n",
       "      <th>llpg_usage</th>\n",
       "      <th>Ward</th>\n",
       "    </tr>\n",
       "  </thead>\n",
       "  <tbody>\n",
       "    <tr>\n",
       "      <th>0</th>\n",
       "      <td>10008223002</td>\n",
       "      <td>GUNNERS NEWSAGENTS</td>\n",
       "      <td>20060214</td>\n",
       "      <td>20060214</td>\n",
       "      <td>20170823</td>\n",
       "      <td>0</td>\n",
       "      <td>GUNNERS NEWSAGENTS, 33 BLACKSTOCK ROAD, HACKNE...</td>\n",
       "      <td>N4 2JF</td>\n",
       "      <td>1329285</td>\n",
       "      <td>Commercial, Retail, Shop / Showroom</td>\n",
       "      <td>BROWNSWOOD</td>\n",
       "    </tr>\n",
       "    <tr>\n",
       "      <th>1</th>\n",
       "      <td>10008223003</td>\n",
       "      <td>NaN</td>\n",
       "      <td>20060214</td>\n",
       "      <td>20060214</td>\n",
       "      <td>20150218</td>\n",
       "      <td>0</td>\n",
       "      <td>127 BLACKSTOCK ROAD, HACKNEY, LONDON, N4 2JW</td>\n",
       "      <td>N4 2JW</td>\n",
       "      <td>1329861</td>\n",
       "      <td>Commercial, Retail, Shop / Showroom</td>\n",
       "      <td>BROWNSWOOD</td>\n",
       "    </tr>\n",
       "  </tbody>\n",
       "</table>\n",
       "</div>"
      ],
      "text/plain": [
       "          UPRN        organisation  start_date  entry_date  last_update_date  \\\n",
       "0  10008223002  GUNNERS NEWSAGENTS    20060214    20060214          20170823   \n",
       "1  10008223003                 NaN    20060214    20060214          20150218   \n",
       "\n",
       "   end_date                                            address  \\\n",
       "0         0  GUNNERS NEWSAGENTS, 33 BLACKSTOCK ROAD, HACKNE...   \n",
       "1         0       127 BLACKSTOCK ROAD, HACKNEY, LONDON, N4 2JW   \n",
       "\n",
       "  postcode_master nndr_prop_ref                           llpg_usage  \\\n",
       "0          N4 2JF       1329285  Commercial, Retail, Shop / Showroom   \n",
       "1          N4 2JW       1329861  Commercial, Retail, Shop / Showroom   \n",
       "\n",
       "         Ward  \n",
       "0  BROWNSWOOD  \n",
       "1  BROWNSWOOD  "
      ]
     },
     "execution_count": 9,
     "metadata": {},
     "output_type": "execute_result"
    }
   ],
   "source": [
    "address_df = pd.read_excel('NNDR_for_Joe.xlsx',sheet_name=2)\n",
    "address_df.head(2)"
   ]
  },
  {
   "cell_type": "code",
   "execution_count": 10,
   "metadata": {},
   "outputs": [
    {
     "data": {
      "text/plain": [
       "Index(['UPRN', 'organisation', 'start_date', 'entry_date', 'last_update_date',\n",
       "       'end_date', 'address', 'postcode_master', 'nndr_prop_ref', 'llpg_usage',\n",
       "       'Ward'],\n",
       "      dtype='object')"
      ]
     },
     "execution_count": 10,
     "metadata": {},
     "output_type": "execute_result"
    }
   ],
   "source": [
    "address_df.keys()"
   ]
  },
  {
   "cell_type": "code",
   "execution_count": 11,
   "metadata": {},
   "outputs": [],
   "source": [
    "address_df = address_df.drop(['organisation', 'address'],axis=1)"
   ]
  },
  {
   "cell_type": "markdown",
   "metadata": {},
   "source": [
    "### Now merging dataframes: making sure the matching key is the same format in both dataframes"
   ]
  },
  {
   "cell_type": "code",
   "execution_count": 12,
   "metadata": {},
   "outputs": [
    {
     "data": {
      "text/plain": [
       "0    4611210\n",
       "1    1515103\n",
       "2    2121408\n",
       "3    4055035\n",
       "4    2759032\n",
       "Name: prop, dtype: object"
      ]
     },
     "execution_count": 12,
     "metadata": {},
     "output_type": "execute_result"
    }
   ],
   "source": [
    "business_df['prop']=business_df['prop'].apply(str)\n",
    "business_df['prop'].head()"
   ]
  },
  {
   "cell_type": "code",
   "execution_count": 13,
   "metadata": {},
   "outputs": [
    {
     "data": {
      "text/plain": [
       "0    1329285\n",
       "1    1329861\n",
       "2    3284130\n",
       "3    1619238\n",
       "4    2447098\n",
       "Name: nndr_prop_ref, dtype: object"
      ]
     },
     "execution_count": 13,
     "metadata": {},
     "output_type": "execute_result"
    }
   ],
   "source": [
    "address_df['nndr_prop_ref']=address_df['nndr_prop_ref'].apply(str)\n",
    "address_df['nndr_prop_ref'].head(5)"
   ]
  },
  {
   "cell_type": "code",
   "execution_count": 14,
   "metadata": {},
   "outputs": [],
   "source": [
    "combined_df = pd.merge(business_df, address_df,  how = 'left', left_on = 'prop', right_on = 'nndr_prop_ref')"
   ]
  },
  {
   "cell_type": "code",
   "execution_count": 15,
   "metadata": {},
   "outputs": [
    {
     "data": {
      "text/html": [
       "<div>\n",
       "<style scoped>\n",
       "    .dataframe tbody tr th:only-of-type {\n",
       "        vertical-align: middle;\n",
       "    }\n",
       "\n",
       "    .dataframe tbody tr th {\n",
       "        vertical-align: top;\n",
       "    }\n",
       "\n",
       "    .dataframe thead th {\n",
       "        text-align: right;\n",
       "    }\n",
       "</style>\n",
       "<table border=\"1\" class=\"dataframe\">\n",
       "  <thead>\n",
       "    <tr style=\"text-align: right;\">\n",
       "      <th></th>\n",
       "      <th>name1</th>\n",
       "      <th>name2</th>\n",
       "      <th>acct_id</th>\n",
       "      <th>ck</th>\n",
       "      <th>prop</th>\n",
       "      <th>rv</th>\n",
       "      <th>vo_propdescrip</th>\n",
       "      <th>empty_prop</th>\n",
       "      <th>empty_from</th>\n",
       "      <th>UPRN</th>\n",
       "      <th>start_date</th>\n",
       "      <th>entry_date</th>\n",
       "      <th>last_update_date</th>\n",
       "      <th>end_date</th>\n",
       "      <th>postcode_master</th>\n",
       "      <th>nndr_prop_ref</th>\n",
       "      <th>llpg_usage</th>\n",
       "      <th>Ward</th>\n",
       "    </tr>\n",
       "  </thead>\n",
       "  <tbody>\n",
       "    <tr>\n",
       "      <th>0</th>\n",
       "      <td>!K7 RECORDS GMBH</td>\n",
       "      <td>NaN</td>\n",
       "      <td>60161467</td>\n",
       "      <td>8</td>\n",
       "      <td>4611210</td>\n",
       "      <td>11500</td>\n",
       "      <td>WORKSHOP AND PREMISES</td>\n",
       "      <td>NaN</td>\n",
       "      <td>NaT</td>\n",
       "      <td>1.000833e+10</td>\n",
       "      <td>20121001.0</td>\n",
       "      <td>20121001.0</td>\n",
       "      <td>20141006.0</td>\n",
       "      <td>0.0</td>\n",
       "      <td>E8 3FN</td>\n",
       "      <td>4611210</td>\n",
       "      <td>Commercial, Industrial, Workshop / Light Indus...</td>\n",
       "      <td>LONDON FIELDS</td>\n",
       "    </tr>\n",
       "    <tr>\n",
       "      <th>1</th>\n",
       "      <td>&amp; SMITH LIMITED</td>\n",
       "      <td>NaN</td>\n",
       "      <td>60162485</td>\n",
       "      <td>3</td>\n",
       "      <td>1515103</td>\n",
       "      <td>19500</td>\n",
       "      <td>OFFICES AND PREMISES</td>\n",
       "      <td>Y</td>\n",
       "      <td>2001-09-08</td>\n",
       "      <td>1.000824e+10</td>\n",
       "      <td>20060214.0</td>\n",
       "      <td>20060214.0</td>\n",
       "      <td>20121017.0</td>\n",
       "      <td>0.0</td>\n",
       "      <td>N16 9AE</td>\n",
       "      <td>1515103</td>\n",
       "      <td>Commercial, Offices, Offices and work studios</td>\n",
       "      <td>CLISSOLD</td>\n",
       "    </tr>\n",
       "  </tbody>\n",
       "</table>\n",
       "</div>"
      ],
      "text/plain": [
       "              name1 name2   acct_id ck     prop     rv         vo_propdescrip  \\\n",
       "0  !K7 RECORDS GMBH   NaN  60161467  8  4611210  11500  WORKSHOP AND PREMISES   \n",
       "1   & SMITH LIMITED   NaN  60162485  3  1515103  19500   OFFICES AND PREMISES   \n",
       "\n",
       "  empty_prop empty_from          UPRN  start_date  entry_date  \\\n",
       "0        NaN        NaT  1.000833e+10  20121001.0  20121001.0   \n",
       "1          Y 2001-09-08  1.000824e+10  20060214.0  20060214.0   \n",
       "\n",
       "   last_update_date  end_date postcode_master nndr_prop_ref  \\\n",
       "0        20141006.0       0.0          E8 3FN       4611210   \n",
       "1        20121017.0       0.0         N16 9AE       1515103   \n",
       "\n",
       "                                          llpg_usage           Ward  \n",
       "0  Commercial, Industrial, Workshop / Light Indus...  LONDON FIELDS  \n",
       "1      Commercial, Offices, Offices and work studios       CLISSOLD  "
      ]
     },
     "execution_count": 15,
     "metadata": {},
     "output_type": "execute_result"
    }
   ],
   "source": [
    "combined_df.head(2)"
   ]
  },
  {
   "cell_type": "code",
   "execution_count": 16,
   "metadata": {},
   "outputs": [
    {
     "data": {
      "text/plain": [
       "(10861, 18)"
      ]
     },
     "execution_count": 16,
     "metadata": {},
     "output_type": "execute_result"
    }
   ],
   "source": [
    "combined_df.shape"
   ]
  },
  {
   "cell_type": "code",
   "execution_count": 17,
   "metadata": {},
   "outputs": [
    {
     "data": {
      "text/plain": [
       "((10823, 9), (13126, 9))"
      ]
     },
     "execution_count": 17,
     "metadata": {},
     "output_type": "execute_result"
    }
   ],
   "source": [
    "business_df.shape, address_df.shape"
   ]
  },
  {
   "cell_type": "code",
   "execution_count": 18,
   "metadata": {},
   "outputs": [
    {
     "data": {
      "text/plain": [
       "(26686, 12)"
      ]
     },
     "execution_count": 18,
     "metadata": {},
     "output_type": "execute_result"
    }
   ],
   "source": [
    "balance_df.shape"
   ]
  },
  {
   "cell_type": "code",
   "execution_count": 19,
   "metadata": {},
   "outputs": [
    {
     "data": {
      "text/plain": [
       "(14179, 30)"
      ]
     },
     "execution_count": 19,
     "metadata": {},
     "output_type": "execute_result"
    }
   ],
   "source": [
    "combined_df2 = pd.merge(combined_df, balance_df,  how = 'left', left_on = 'acct_id', right_on = 'account_id', suffixes =['','_2'])\n",
    "combined_df2.shape"
   ]
  },
  {
   "cell_type": "code",
   "execution_count": 20,
   "metadata": {},
   "outputs": [
    {
     "data": {
      "text/plain": [
       "Index(['name1', 'name2', 'acct_id', 'ck', 'prop', 'rv', 'vo_propdescrip',\n",
       "       'empty_prop', 'empty_from', 'UPRN', 'start_date', 'entry_date',\n",
       "       'last_update_date', 'end_date', 'postcode_master', 'nndr_prop_ref',\n",
       "       'llpg_usage', 'Ward', 'propref', 'fin_year', 'status', 'account_id',\n",
       "       'check_digit', 'paymeth_code', 'trans_code', 'bill_no', 'bill_bal',\n",
       "       'last_payment', 'fullaccountref', 'account_bal'],\n",
       "      dtype='object')"
      ]
     },
     "execution_count": 20,
     "metadata": {},
     "output_type": "execute_result"
    }
   ],
   "source": [
    "combined_df2.columns"
   ]
  },
  {
   "cell_type": "code",
   "execution_count": 21,
   "metadata": {},
   "outputs": [
    {
     "name": "stdout",
     "output_type": "stream",
     "text": [
      "nan        1018\n",
      "4749202       4\n",
      "1943742       3\n",
      "Name: nndr_prop_ref, dtype: int64\n"
     ]
    }
   ],
   "source": [
    "# print(address_df.shape)\n",
    "print(address_df['nndr_prop_ref'].value_counts().head(3))"
   ]
  },
  {
   "cell_type": "code",
   "execution_count": 22,
   "metadata": {},
   "outputs": [
    {
     "data": {
      "text/html": [
       "<div>\n",
       "<style scoped>\n",
       "    .dataframe tbody tr th:only-of-type {\n",
       "        vertical-align: middle;\n",
       "    }\n",
       "\n",
       "    .dataframe tbody tr th {\n",
       "        vertical-align: top;\n",
       "    }\n",
       "\n",
       "    .dataframe thead th {\n",
       "        text-align: right;\n",
       "    }\n",
       "</style>\n",
       "<table border=\"1\" class=\"dataframe\">\n",
       "  <thead>\n",
       "    <tr style=\"text-align: right;\">\n",
       "      <th></th>\n",
       "      <th>UPRN</th>\n",
       "      <th>start_date</th>\n",
       "      <th>entry_date</th>\n",
       "      <th>last_update_date</th>\n",
       "      <th>end_date</th>\n",
       "      <th>postcode_master</th>\n",
       "      <th>nndr_prop_ref</th>\n",
       "      <th>llpg_usage</th>\n",
       "      <th>Ward</th>\n",
       "    </tr>\n",
       "  </thead>\n",
       "  <tbody>\n",
       "    <tr>\n",
       "      <th>3207</th>\n",
       "      <td>10008309586</td>\n",
       "      <td>20070213</td>\n",
       "      <td>20070213</td>\n",
       "      <td>20171002</td>\n",
       "      <td>0</td>\n",
       "      <td>N4 2SH</td>\n",
       "      <td>4749202</td>\n",
       "      <td>Commercial, Education, Primary, Junior, Infant...</td>\n",
       "      <td>WOODBERRY DOWN</td>\n",
       "    </tr>\n",
       "    <tr>\n",
       "      <th>3489</th>\n",
       "      <td>10008313946</td>\n",
       "      <td>20071018</td>\n",
       "      <td>20071018</td>\n",
       "      <td>20121017</td>\n",
       "      <td>0</td>\n",
       "      <td>N4 2TW</td>\n",
       "      <td>4749202</td>\n",
       "      <td>Commercial, Education, Secondary School</td>\n",
       "      <td>WOODBERRY DOWN</td>\n",
       "    </tr>\n",
       "    <tr>\n",
       "      <th>8509</th>\n",
       "      <td>10008463792</td>\n",
       "      <td>20060424</td>\n",
       "      <td>20060424</td>\n",
       "      <td>20121017</td>\n",
       "      <td>0</td>\n",
       "      <td>N4 2TW</td>\n",
       "      <td>4749202</td>\n",
       "      <td>Commercial, Education, Nursery/creche</td>\n",
       "      <td>WOODBERRY DOWN</td>\n",
       "    </tr>\n",
       "    <tr>\n",
       "      <th>11245</th>\n",
       "      <td>100023186270</td>\n",
       "      <td>20060214</td>\n",
       "      <td>20060214</td>\n",
       "      <td>20150218</td>\n",
       "      <td>0</td>\n",
       "      <td>N4 2TW</td>\n",
       "      <td>4749202</td>\n",
       "      <td>Commercial, Education, Primary, Junior, Infant...</td>\n",
       "      <td>WOODBERRY DOWN</td>\n",
       "    </tr>\n",
       "  </tbody>\n",
       "</table>\n",
       "</div>"
      ],
      "text/plain": [
       "               UPRN  start_date  entry_date  last_update_date  end_date  \\\n",
       "3207    10008309586    20070213    20070213          20171002         0   \n",
       "3489    10008313946    20071018    20071018          20121017         0   \n",
       "8509    10008463792    20060424    20060424          20121017         0   \n",
       "11245  100023186270    20060214    20060214          20150218         0   \n",
       "\n",
       "      postcode_master nndr_prop_ref  \\\n",
       "3207           N4 2SH       4749202   \n",
       "3489           N4 2TW       4749202   \n",
       "8509           N4 2TW       4749202   \n",
       "11245          N4 2TW       4749202   \n",
       "\n",
       "                                              llpg_usage            Ward  \n",
       "3207   Commercial, Education, Primary, Junior, Infant...  WOODBERRY DOWN  \n",
       "3489             Commercial, Education, Secondary School  WOODBERRY DOWN  \n",
       "8509               Commercial, Education, Nursery/creche  WOODBERRY DOWN  \n",
       "11245  Commercial, Education, Primary, Junior, Infant...  WOODBERRY DOWN  "
      ]
     },
     "execution_count": 22,
     "metadata": {},
     "output_type": "execute_result"
    }
   ],
   "source": [
    "address_df[address_df['nndr_prop_ref']=='4749202']"
   ]
  },
  {
   "cell_type": "code",
   "execution_count": 23,
   "metadata": {},
   "outputs": [
    {
     "data": {
      "text/html": [
       "<div>\n",
       "<style scoped>\n",
       "    .dataframe tbody tr th:only-of-type {\n",
       "        vertical-align: middle;\n",
       "    }\n",
       "\n",
       "    .dataframe tbody tr th {\n",
       "        vertical-align: top;\n",
       "    }\n",
       "\n",
       "    .dataframe thead th {\n",
       "        text-align: right;\n",
       "    }\n",
       "</style>\n",
       "<table border=\"1\" class=\"dataframe\">\n",
       "  <thead>\n",
       "    <tr style=\"text-align: right;\">\n",
       "      <th></th>\n",
       "      <th>name1</th>\n",
       "      <th>name2</th>\n",
       "      <th>acct_id</th>\n",
       "      <th>ck</th>\n",
       "      <th>prop</th>\n",
       "      <th>rv</th>\n",
       "      <th>vo_propdescrip</th>\n",
       "      <th>empty_prop</th>\n",
       "      <th>empty_from</th>\n",
       "      <th>UPRN</th>\n",
       "      <th>start_date</th>\n",
       "      <th>entry_date</th>\n",
       "      <th>last_update_date</th>\n",
       "      <th>end_date</th>\n",
       "      <th>postcode_master</th>\n",
       "      <th>nndr_prop_ref</th>\n",
       "      <th>llpg_usage</th>\n",
       "      <th>Ward</th>\n",
       "    </tr>\n",
       "  </thead>\n",
       "  <tbody>\n",
       "    <tr>\n",
       "      <th>688</th>\n",
       "      <td>BEIS CHINUCH LEBONOS LIMITED</td>\n",
       "      <td>NaN</td>\n",
       "      <td>60112482</td>\n",
       "      <td>3</td>\n",
       "      <td>4749202</td>\n",
       "      <td>33250</td>\n",
       "      <td>SCHOOL AND PREMISES</td>\n",
       "      <td>Y</td>\n",
       "      <td>1999-04-01</td>\n",
       "      <td>1.000831e+10</td>\n",
       "      <td>20070213.0</td>\n",
       "      <td>20070213.0</td>\n",
       "      <td>20171002.0</td>\n",
       "      <td>0.0</td>\n",
       "      <td>N4 2SH</td>\n",
       "      <td>4749202</td>\n",
       "      <td>Commercial, Education, Primary, Junior, Infant...</td>\n",
       "      <td>WOODBERRY DOWN</td>\n",
       "    </tr>\n",
       "    <tr>\n",
       "      <th>689</th>\n",
       "      <td>BEIS CHINUCH LEBONOS LIMITED</td>\n",
       "      <td>NaN</td>\n",
       "      <td>60112482</td>\n",
       "      <td>3</td>\n",
       "      <td>4749202</td>\n",
       "      <td>33250</td>\n",
       "      <td>SCHOOL AND PREMISES</td>\n",
       "      <td>Y</td>\n",
       "      <td>1999-04-01</td>\n",
       "      <td>1.000831e+10</td>\n",
       "      <td>20071018.0</td>\n",
       "      <td>20071018.0</td>\n",
       "      <td>20121017.0</td>\n",
       "      <td>0.0</td>\n",
       "      <td>N4 2TW</td>\n",
       "      <td>4749202</td>\n",
       "      <td>Commercial, Education, Secondary School</td>\n",
       "      <td>WOODBERRY DOWN</td>\n",
       "    </tr>\n",
       "    <tr>\n",
       "      <th>690</th>\n",
       "      <td>BEIS CHINUCH LEBONOS LIMITED</td>\n",
       "      <td>NaN</td>\n",
       "      <td>60112482</td>\n",
       "      <td>3</td>\n",
       "      <td>4749202</td>\n",
       "      <td>33250</td>\n",
       "      <td>SCHOOL AND PREMISES</td>\n",
       "      <td>Y</td>\n",
       "      <td>1999-04-01</td>\n",
       "      <td>1.000846e+10</td>\n",
       "      <td>20060424.0</td>\n",
       "      <td>20060424.0</td>\n",
       "      <td>20121017.0</td>\n",
       "      <td>0.0</td>\n",
       "      <td>N4 2TW</td>\n",
       "      <td>4749202</td>\n",
       "      <td>Commercial, Education, Nursery/creche</td>\n",
       "      <td>WOODBERRY DOWN</td>\n",
       "    </tr>\n",
       "    <tr>\n",
       "      <th>691</th>\n",
       "      <td>BEIS CHINUCH LEBONOS LIMITED</td>\n",
       "      <td>NaN</td>\n",
       "      <td>60112482</td>\n",
       "      <td>3</td>\n",
       "      <td>4749202</td>\n",
       "      <td>33250</td>\n",
       "      <td>SCHOOL AND PREMISES</td>\n",
       "      <td>Y</td>\n",
       "      <td>1999-04-01</td>\n",
       "      <td>1.000232e+11</td>\n",
       "      <td>20060214.0</td>\n",
       "      <td>20060214.0</td>\n",
       "      <td>20150218.0</td>\n",
       "      <td>0.0</td>\n",
       "      <td>N4 2TW</td>\n",
       "      <td>4749202</td>\n",
       "      <td>Commercial, Education, Primary, Junior, Infant...</td>\n",
       "      <td>WOODBERRY DOWN</td>\n",
       "    </tr>\n",
       "  </tbody>\n",
       "</table>\n",
       "</div>"
      ],
      "text/plain": [
       "                            name1 name2   acct_id ck     prop     rv  \\\n",
       "688  BEIS CHINUCH LEBONOS LIMITED   NaN  60112482  3  4749202  33250   \n",
       "689  BEIS CHINUCH LEBONOS LIMITED   NaN  60112482  3  4749202  33250   \n",
       "690  BEIS CHINUCH LEBONOS LIMITED   NaN  60112482  3  4749202  33250   \n",
       "691  BEIS CHINUCH LEBONOS LIMITED   NaN  60112482  3  4749202  33250   \n",
       "\n",
       "          vo_propdescrip empty_prop empty_from          UPRN  start_date  \\\n",
       "688  SCHOOL AND PREMISES          Y 1999-04-01  1.000831e+10  20070213.0   \n",
       "689  SCHOOL AND PREMISES          Y 1999-04-01  1.000831e+10  20071018.0   \n",
       "690  SCHOOL AND PREMISES          Y 1999-04-01  1.000846e+10  20060424.0   \n",
       "691  SCHOOL AND PREMISES          Y 1999-04-01  1.000232e+11  20060214.0   \n",
       "\n",
       "     entry_date  last_update_date  end_date postcode_master nndr_prop_ref  \\\n",
       "688  20070213.0        20171002.0       0.0          N4 2SH       4749202   \n",
       "689  20071018.0        20121017.0       0.0          N4 2TW       4749202   \n",
       "690  20060424.0        20121017.0       0.0          N4 2TW       4749202   \n",
       "691  20060214.0        20150218.0       0.0          N4 2TW       4749202   \n",
       "\n",
       "                                            llpg_usage            Ward  \n",
       "688  Commercial, Education, Primary, Junior, Infant...  WOODBERRY DOWN  \n",
       "689            Commercial, Education, Secondary School  WOODBERRY DOWN  \n",
       "690              Commercial, Education, Nursery/creche  WOODBERRY DOWN  \n",
       "691  Commercial, Education, Primary, Junior, Infant...  WOODBERRY DOWN  "
      ]
     },
     "execution_count": 23,
     "metadata": {},
     "output_type": "execute_result"
    }
   ],
   "source": [
    "combined_df[combined_df['nndr_prop_ref']=='4749202']"
   ]
  },
  {
   "cell_type": "code",
   "execution_count": 24,
   "metadata": {},
   "outputs": [
    {
     "data": {
      "text/html": [
       "<div>\n",
       "<style scoped>\n",
       "    .dataframe tbody tr th:only-of-type {\n",
       "        vertical-align: middle;\n",
       "    }\n",
       "\n",
       "    .dataframe tbody tr th {\n",
       "        vertical-align: top;\n",
       "    }\n",
       "\n",
       "    .dataframe thead th {\n",
       "        text-align: right;\n",
       "    }\n",
       "</style>\n",
       "<table border=\"1\" class=\"dataframe\">\n",
       "  <thead>\n",
       "    <tr style=\"text-align: right;\">\n",
       "      <th></th>\n",
       "      <th>name1</th>\n",
       "      <th>name2</th>\n",
       "      <th>acct_id</th>\n",
       "      <th>ck</th>\n",
       "      <th>prop</th>\n",
       "      <th>rv</th>\n",
       "      <th>vo_propdescrip</th>\n",
       "      <th>empty_prop</th>\n",
       "      <th>empty_from</th>\n",
       "    </tr>\n",
       "  </thead>\n",
       "  <tbody>\n",
       "    <tr>\n",
       "      <th>684</th>\n",
       "      <td>BEIS CHINUCH LEBONOS LIMITED</td>\n",
       "      <td>NaN</td>\n",
       "      <td>60112482</td>\n",
       "      <td>3</td>\n",
       "      <td>4749202</td>\n",
       "      <td>33250</td>\n",
       "      <td>SCHOOL AND PREMISES</td>\n",
       "      <td>Y</td>\n",
       "      <td>1999-04-01</td>\n",
       "    </tr>\n",
       "  </tbody>\n",
       "</table>\n",
       "</div>"
      ],
      "text/plain": [
       "                            name1 name2   acct_id ck     prop     rv  \\\n",
       "684  BEIS CHINUCH LEBONOS LIMITED   NaN  60112482  3  4749202  33250   \n",
       "\n",
       "          vo_propdescrip empty_prop empty_from  \n",
       "684  SCHOOL AND PREMISES          Y 1999-04-01  "
      ]
     },
     "execution_count": 24,
     "metadata": {},
     "output_type": "execute_result"
    }
   ],
   "source": [
    "business_df[business_df['prop']=='4749202']"
   ]
  },
  {
   "cell_type": "code",
   "execution_count": 25,
   "metadata": {},
   "outputs": [
    {
     "data": {
      "text/html": [
       "<div>\n",
       "<style scoped>\n",
       "    .dataframe tbody tr th:only-of-type {\n",
       "        vertical-align: middle;\n",
       "    }\n",
       "\n",
       "    .dataframe tbody tr th {\n",
       "        vertical-align: top;\n",
       "    }\n",
       "\n",
       "    .dataframe thead th {\n",
       "        text-align: right;\n",
       "    }\n",
       "</style>\n",
       "<table border=\"1\" class=\"dataframe\">\n",
       "  <thead>\n",
       "    <tr style=\"text-align: right;\">\n",
       "      <th></th>\n",
       "      <th>UPRN</th>\n",
       "      <th>start_date</th>\n",
       "      <th>entry_date</th>\n",
       "      <th>last_update_date</th>\n",
       "      <th>end_date</th>\n",
       "      <th>postcode_master</th>\n",
       "      <th>nndr_prop_ref</th>\n",
       "      <th>llpg_usage</th>\n",
       "      <th>Ward</th>\n",
       "    </tr>\n",
       "  </thead>\n",
       "  <tbody>\n",
       "    <tr>\n",
       "      <th>8466</th>\n",
       "      <td>10008463072</td>\n",
       "      <td>20060424</td>\n",
       "      <td>20060424</td>\n",
       "      <td>20141117</td>\n",
       "      <td>0</td>\n",
       "      <td>E5 0EG</td>\n",
       "      <td>1943742</td>\n",
       "      <td>Commercial, Education, Primary, Junior, Infant...</td>\n",
       "      <td>KINGS PARK</td>\n",
       "    </tr>\n",
       "    <tr>\n",
       "      <th>8467</th>\n",
       "      <td>10008463073</td>\n",
       "      <td>20060424</td>\n",
       "      <td>20060424</td>\n",
       "      <td>20141117</td>\n",
       "      <td>0</td>\n",
       "      <td>E5 0EG</td>\n",
       "      <td>1943742</td>\n",
       "      <td>Commercial, Education, Primary, Junior, Infant...</td>\n",
       "      <td>KINGS PARK</td>\n",
       "    </tr>\n",
       "    <tr>\n",
       "      <th>8618</th>\n",
       "      <td>100021036411</td>\n",
       "      <td>20060214</td>\n",
       "      <td>20060214</td>\n",
       "      <td>20121017</td>\n",
       "      <td>0</td>\n",
       "      <td>E5 0EG</td>\n",
       "      <td>1943742</td>\n",
       "      <td>Commercial, Education, Primary, Junior, Infant...</td>\n",
       "      <td>KINGS PARK</td>\n",
       "    </tr>\n",
       "  </tbody>\n",
       "</table>\n",
       "</div>"
      ],
      "text/plain": [
       "              UPRN  start_date  entry_date  last_update_date  end_date  \\\n",
       "8466   10008463072    20060424    20060424          20141117         0   \n",
       "8467   10008463073    20060424    20060424          20141117         0   \n",
       "8618  100021036411    20060214    20060214          20121017         0   \n",
       "\n",
       "     postcode_master nndr_prop_ref  \\\n",
       "8466          E5 0EG       1943742   \n",
       "8467          E5 0EG       1943742   \n",
       "8618          E5 0EG       1943742   \n",
       "\n",
       "                                             llpg_usage        Ward  \n",
       "8466  Commercial, Education, Primary, Junior, Infant...  KINGS PARK  \n",
       "8467  Commercial, Education, Primary, Junior, Infant...  KINGS PARK  \n",
       "8618  Commercial, Education, Primary, Junior, Infant...  KINGS PARK  "
      ]
     },
     "execution_count": 25,
     "metadata": {},
     "output_type": "execute_result"
    }
   ],
   "source": [
    "address_df[address_df['nndr_prop_ref']=='1943742']       "
   ]
  },
  {
   "cell_type": "code",
   "execution_count": 26,
   "metadata": {},
   "outputs": [
    {
     "data": {
      "text/html": [
       "<div>\n",
       "<style scoped>\n",
       "    .dataframe tbody tr th:only-of-type {\n",
       "        vertical-align: middle;\n",
       "    }\n",
       "\n",
       "    .dataframe tbody tr th {\n",
       "        vertical-align: top;\n",
       "    }\n",
       "\n",
       "    .dataframe thead th {\n",
       "        text-align: right;\n",
       "    }\n",
       "</style>\n",
       "<table border=\"1\" class=\"dataframe\">\n",
       "  <thead>\n",
       "    <tr style=\"text-align: right;\">\n",
       "      <th></th>\n",
       "      <th>name1</th>\n",
       "      <th>name2</th>\n",
       "      <th>acct_id</th>\n",
       "      <th>ck</th>\n",
       "      <th>prop</th>\n",
       "      <th>rv</th>\n",
       "      <th>vo_propdescrip</th>\n",
       "      <th>empty_prop</th>\n",
       "      <th>empty_from</th>\n",
       "    </tr>\n",
       "  </thead>\n",
       "  <tbody>\n",
       "    <tr>\n",
       "      <th>9708</th>\n",
       "      <td>THE HEAD TEACHER</td>\n",
       "      <td>NaN</td>\n",
       "      <td>60087672</td>\n",
       "      <td>8</td>\n",
       "      <td>1943742</td>\n",
       "      <td>97000</td>\n",
       "      <td>SCHOOL AND PREMISES</td>\n",
       "      <td>NaN</td>\n",
       "      <td>NaT</td>\n",
       "    </tr>\n",
       "  </tbody>\n",
       "</table>\n",
       "</div>"
      ],
      "text/plain": [
       "                 name1 name2   acct_id ck     prop     rv  \\\n",
       "9708  THE HEAD TEACHER   NaN  60087672  8  1943742  97000   \n",
       "\n",
       "           vo_propdescrip empty_prop empty_from  \n",
       "9708  SCHOOL AND PREMISES        NaN        NaT  "
      ]
     },
     "execution_count": 26,
     "metadata": {},
     "output_type": "execute_result"
    }
   ],
   "source": [
    "business_df[business_df['prop']=='1943742']"
   ]
  },
  {
   "cell_type": "code",
   "execution_count": 27,
   "metadata": {},
   "outputs": [
    {
     "data": {
      "text/html": [
       "<div>\n",
       "<style scoped>\n",
       "    .dataframe tbody tr th:only-of-type {\n",
       "        vertical-align: middle;\n",
       "    }\n",
       "\n",
       "    .dataframe tbody tr th {\n",
       "        vertical-align: top;\n",
       "    }\n",
       "\n",
       "    .dataframe thead th {\n",
       "        text-align: right;\n",
       "    }\n",
       "</style>\n",
       "<table border=\"1\" class=\"dataframe\">\n",
       "  <thead>\n",
       "    <tr style=\"text-align: right;\">\n",
       "      <th></th>\n",
       "      <th>name1</th>\n",
       "      <th>name2</th>\n",
       "      <th>acct_id</th>\n",
       "      <th>ck</th>\n",
       "      <th>prop</th>\n",
       "      <th>rv</th>\n",
       "      <th>vo_propdescrip</th>\n",
       "      <th>empty_prop</th>\n",
       "      <th>empty_from</th>\n",
       "      <th>UPRN</th>\n",
       "      <th>start_date</th>\n",
       "      <th>entry_date</th>\n",
       "      <th>last_update_date</th>\n",
       "      <th>end_date</th>\n",
       "      <th>postcode_master</th>\n",
       "      <th>nndr_prop_ref</th>\n",
       "      <th>llpg_usage</th>\n",
       "      <th>Ward</th>\n",
       "    </tr>\n",
       "  </thead>\n",
       "  <tbody>\n",
       "    <tr>\n",
       "      <th>9738</th>\n",
       "      <td>THE HEAD TEACHER</td>\n",
       "      <td>NaN</td>\n",
       "      <td>60087672</td>\n",
       "      <td>8</td>\n",
       "      <td>1943742</td>\n",
       "      <td>97000</td>\n",
       "      <td>SCHOOL AND PREMISES</td>\n",
       "      <td>NaN</td>\n",
       "      <td>NaT</td>\n",
       "      <td>1.000846e+10</td>\n",
       "      <td>20060424.0</td>\n",
       "      <td>20060424.0</td>\n",
       "      <td>20141117.0</td>\n",
       "      <td>0.0</td>\n",
       "      <td>E5 0EG</td>\n",
       "      <td>1943742</td>\n",
       "      <td>Commercial, Education, Primary, Junior, Infant...</td>\n",
       "      <td>KINGS PARK</td>\n",
       "    </tr>\n",
       "    <tr>\n",
       "      <th>9739</th>\n",
       "      <td>THE HEAD TEACHER</td>\n",
       "      <td>NaN</td>\n",
       "      <td>60087672</td>\n",
       "      <td>8</td>\n",
       "      <td>1943742</td>\n",
       "      <td>97000</td>\n",
       "      <td>SCHOOL AND PREMISES</td>\n",
       "      <td>NaN</td>\n",
       "      <td>NaT</td>\n",
       "      <td>1.000846e+10</td>\n",
       "      <td>20060424.0</td>\n",
       "      <td>20060424.0</td>\n",
       "      <td>20141117.0</td>\n",
       "      <td>0.0</td>\n",
       "      <td>E5 0EG</td>\n",
       "      <td>1943742</td>\n",
       "      <td>Commercial, Education, Primary, Junior, Infant...</td>\n",
       "      <td>KINGS PARK</td>\n",
       "    </tr>\n",
       "    <tr>\n",
       "      <th>9740</th>\n",
       "      <td>THE HEAD TEACHER</td>\n",
       "      <td>NaN</td>\n",
       "      <td>60087672</td>\n",
       "      <td>8</td>\n",
       "      <td>1943742</td>\n",
       "      <td>97000</td>\n",
       "      <td>SCHOOL AND PREMISES</td>\n",
       "      <td>NaN</td>\n",
       "      <td>NaT</td>\n",
       "      <td>1.000210e+11</td>\n",
       "      <td>20060214.0</td>\n",
       "      <td>20060214.0</td>\n",
       "      <td>20121017.0</td>\n",
       "      <td>0.0</td>\n",
       "      <td>E5 0EG</td>\n",
       "      <td>1943742</td>\n",
       "      <td>Commercial, Education, Primary, Junior, Infant...</td>\n",
       "      <td>KINGS PARK</td>\n",
       "    </tr>\n",
       "  </tbody>\n",
       "</table>\n",
       "</div>"
      ],
      "text/plain": [
       "                 name1 name2   acct_id ck     prop     rv  \\\n",
       "9738  THE HEAD TEACHER   NaN  60087672  8  1943742  97000   \n",
       "9739  THE HEAD TEACHER   NaN  60087672  8  1943742  97000   \n",
       "9740  THE HEAD TEACHER   NaN  60087672  8  1943742  97000   \n",
       "\n",
       "           vo_propdescrip empty_prop empty_from          UPRN  start_date  \\\n",
       "9738  SCHOOL AND PREMISES        NaN        NaT  1.000846e+10  20060424.0   \n",
       "9739  SCHOOL AND PREMISES        NaN        NaT  1.000846e+10  20060424.0   \n",
       "9740  SCHOOL AND PREMISES        NaN        NaT  1.000210e+11  20060214.0   \n",
       "\n",
       "      entry_date  last_update_date  end_date postcode_master nndr_prop_ref  \\\n",
       "9738  20060424.0        20141117.0       0.0          E5 0EG       1943742   \n",
       "9739  20060424.0        20141117.0       0.0          E5 0EG       1943742   \n",
       "9740  20060214.0        20121017.0       0.0          E5 0EG       1943742   \n",
       "\n",
       "                                             llpg_usage        Ward  \n",
       "9738  Commercial, Education, Primary, Junior, Infant...  KINGS PARK  \n",
       "9739  Commercial, Education, Primary, Junior, Infant...  KINGS PARK  \n",
       "9740  Commercial, Education, Primary, Junior, Infant...  KINGS PARK  "
      ]
     },
     "execution_count": 27,
     "metadata": {},
     "output_type": "execute_result"
    }
   ],
   "source": [
    "combined_df[combined_df['nndr_prop_ref']=='1943742']"
   ]
  },
  {
   "cell_type": "code",
   "execution_count": 28,
   "metadata": {},
   "outputs": [
    {
     "data": {
      "text/plain": [
       "Index(['name1', 'name2', 'acct_id', 'ck', 'prop', 'rv', 'vo_propdescrip',\n",
       "       'empty_prop', 'empty_from', 'UPRN', 'start_date', 'entry_date',\n",
       "       'last_update_date', 'end_date', 'postcode_master', 'nndr_prop_ref',\n",
       "       'llpg_usage', 'Ward', 'propref', 'fin_year', 'status', 'account_id',\n",
       "       'check_digit', 'paymeth_code', 'trans_code', 'bill_no', 'bill_bal',\n",
       "       'last_payment', 'fullaccountref', 'account_bal'],\n",
       "      dtype='object')"
      ]
     },
     "execution_count": 28,
     "metadata": {},
     "output_type": "execute_result"
    }
   ],
   "source": [
    "combined_df2.keys()"
   ]
  },
  {
   "cell_type": "code",
   "execution_count": 29,
   "metadata": {},
   "outputs": [
    {
     "data": {
      "text/plain": [
       "201819.0    7695\n",
       "201718.0    1366\n",
       "201617.0     757\n",
       "201516.0     414\n",
       "201415.0     251\n",
       "201011.0     213\n",
       "201112.0     196\n",
       "201314.0     159\n",
       "201213.0     155\n",
       "200910.0      64\n",
       "200809.0      46\n",
       "200708.0      42\n",
       "200607.0      34\n",
       "200102.0      11\n",
       "199798.0      10\n",
       "199697.0       9\n",
       "199899.0       7\n",
       "200203.0       7\n",
       "199596.0       6\n",
       "200506.0       5\n",
       "200304.0       5\n",
       "200001.0       4\n",
       "199900.0       2\n",
       "200405.0       1\n",
       "Name: fin_year, dtype: int64"
      ]
     },
     "execution_count": 29,
     "metadata": {},
     "output_type": "execute_result"
    }
   ],
   "source": [
    "combined_df2.fin_year.value_counts()"
   ]
  },
  {
   "cell_type": "code",
   "execution_count": 30,
   "metadata": {},
   "outputs": [],
   "source": [
    "combined_df3=combined_df2[combined_df2['fin_year']==201718.0]"
   ]
  },
  {
   "cell_type": "code",
   "execution_count": 31,
   "metadata": {},
   "outputs": [
    {
     "data": {
      "text/plain": [
       "(1366, 30)"
      ]
     },
     "execution_count": 31,
     "metadata": {},
     "output_type": "execute_result"
    }
   ],
   "source": [
    "combined_df3.shape"
   ]
  },
  {
   "cell_type": "code",
   "execution_count": 32,
   "metadata": {},
   "outputs": [
    {
     "data": {
      "text/plain": [
       "Index(['name1', 'name2', 'acct_id', 'ck', 'prop', 'rv', 'vo_propdescrip',\n",
       "       'empty_prop', 'empty_from', 'UPRN', 'start_date', 'entry_date',\n",
       "       'last_update_date', 'end_date', 'postcode_master', 'nndr_prop_ref',\n",
       "       'llpg_usage', 'Ward', 'propref', 'fin_year', 'status', 'account_id',\n",
       "       'check_digit', 'paymeth_code', 'trans_code', 'bill_no', 'bill_bal',\n",
       "       'last_payment', 'fullaccountref', 'account_bal'],\n",
       "      dtype='object')"
      ]
     },
     "execution_count": 32,
     "metadata": {},
     "output_type": "execute_result"
    }
   ],
   "source": [
    "combined_df3.keys()"
   ]
  },
  {
   "cell_type": "code",
   "execution_count": 33,
   "metadata": {},
   "outputs": [],
   "source": [
    "combined_df3['vo_propdescrip'].str.upper();"
   ]
  },
  {
   "cell_type": "code",
   "execution_count": 34,
   "metadata": {},
   "outputs": [
    {
     "data": {
      "text/plain": [
       "HOXTON EAST AND SHOREDITCH    219\n",
       "LONDON FIELDS                 115\n",
       "DALSTON                        99\n",
       "HOXTON WEST                    84\n",
       "STOKE NEWINGTON                79\n",
       "HAGGERSTON                     76\n",
       "LEA BRIDGE                     70\n",
       "HOMERTON                       64\n",
       "HACKNEY WICK                   56\n",
       "HACKNEY CENTRAL                51\n",
       "CLISSOLD                       48\n",
       "SHACKLEWELL                    45\n",
       "SPRINGFIELD                    37\n",
       "DE BEAUVOIR                    34\n",
       "HACKNEY DOWNS                  28\n",
       "CAZENOVE                       22\n",
       "STAMFORD HILL WEST             22\n",
       "BROWNSWOOD                     20\n",
       "VICTORIA                       17\n",
       "WOODBERRY DOWN                 14\n",
       "KINGS PARK                      9\n",
       "Name: Ward, dtype: int64"
      ]
     },
     "execution_count": 34,
     "metadata": {},
     "output_type": "execute_result"
    }
   ],
   "source": [
    "combined_df3.Ward.value_counts()"
   ]
  },
  {
   "cell_type": "code",
   "execution_count": 35,
   "metadata": {},
   "outputs": [],
   "source": [
    "#'start_date', 'entry_date', 'last_update_date',"
   ]
  },
  {
   "cell_type": "code",
   "execution_count": 36,
   "metadata": {},
   "outputs": [],
   "source": [
    "# categorical: vo_propdescrip, empty_prop, 'llpg_usage', 'Ward','paymeth_code', \n",
    "# real-valued: .rv,  'bill_no',\n",
    "\n",
    "#  real-valued: RV = rates value in GBP, number of bill (ie how long renting)\n",
    "#  categorical: property description, whether its empty, how its used, ward its in, payment method \n",
    "\n",
    "combined_df4 = combined_df3[['rv','vo_propdescrip','empty_prop', \n",
    "                   'llpg_usage', 'Ward', 'paymeth_code','bill_no', 'account_bal', 'bill_bal']]"
   ]
  },
  {
   "cell_type": "code",
   "execution_count": 37,
   "metadata": {},
   "outputs": [
    {
     "data": {
      "text/plain": [
       "Index(['rv', 'vo_propdescrip', 'empty_prop', 'llpg_usage', 'Ward',\n",
       "       'paymeth_code', 'bill_no', 'account_bal', 'bill_bal'],\n",
       "      dtype='object')"
      ]
     },
     "execution_count": 37,
     "metadata": {},
     "output_type": "execute_result"
    }
   ],
   "source": [
    "combined_df4.keys()"
   ]
  },
  {
   "cell_type": "code",
   "execution_count": 38,
   "metadata": {},
   "outputs": [
    {
     "name": "stderr",
     "output_type": "stream",
     "text": [
      "C:\\Users\\jotaylor\\AppData\\Local\\Continuum\\anaconda3\\lib\\site-packages\\ipykernel_launcher.py:1: SettingWithCopyWarning: \n",
      "A value is trying to be set on a copy of a slice from a DataFrame.\n",
      "Try using .loc[row_indexer,col_indexer] = value instead\n",
      "\n",
      "See the caveats in the documentation: http://pandas.pydata.org/pandas-docs/stable/indexing.html#indexing-view-versus-copy\n",
      "  \"\"\"Entry point for launching an IPython kernel.\n",
      "C:\\Users\\jotaylor\\AppData\\Local\\Continuum\\anaconda3\\lib\\site-packages\\ipykernel_launcher.py:2: SettingWithCopyWarning: \n",
      "A value is trying to be set on a copy of a slice from a DataFrame.\n",
      "Try using .loc[row_indexer,col_indexer] = value instead\n",
      "\n",
      "See the caveats in the documentation: http://pandas.pydata.org/pandas-docs/stable/indexing.html#indexing-view-versus-copy\n",
      "  \n"
     ]
    },
    {
     "data": {
      "text/html": [
       "<div>\n",
       "<style scoped>\n",
       "    .dataframe tbody tr th:only-of-type {\n",
       "        vertical-align: middle;\n",
       "    }\n",
       "\n",
       "    .dataframe tbody tr th {\n",
       "        vertical-align: top;\n",
       "    }\n",
       "\n",
       "    .dataframe thead th {\n",
       "        text-align: right;\n",
       "    }\n",
       "</style>\n",
       "<table border=\"1\" class=\"dataframe\">\n",
       "  <thead>\n",
       "    <tr style=\"text-align: right;\">\n",
       "      <th></th>\n",
       "      <th>rv</th>\n",
       "      <th>vo_propdescrip</th>\n",
       "      <th>empty_prop</th>\n",
       "      <th>llpg_usage</th>\n",
       "      <th>Ward</th>\n",
       "      <th>paymeth_code</th>\n",
       "      <th>bill_no</th>\n",
       "      <th>account_bal</th>\n",
       "      <th>bill_bal</th>\n",
       "    </tr>\n",
       "  </thead>\n",
       "  <tbody>\n",
       "    <tr>\n",
       "      <th>10</th>\n",
       "      <td>11500</td>\n",
       "      <td>CLUB AND PREMISES</td>\n",
       "      <td>0</td>\n",
       "      <td>Commercial, Leisure, Licensed private members’...</td>\n",
       "      <td>HACKNEY WICK</td>\n",
       "      <td>CSM01</td>\n",
       "      <td>22.0</td>\n",
       "      <td>10111.20</td>\n",
       "      <td>1101.70</td>\n",
       "    </tr>\n",
       "    <tr>\n",
       "      <th>22</th>\n",
       "      <td>9400</td>\n",
       "      <td>SHOP AND PREMISES</td>\n",
       "      <td>1</td>\n",
       "      <td>Commercial, Retail, Fast food outlets / takeaw...</td>\n",
       "      <td>HOMERTON</td>\n",
       "      <td>CSM01</td>\n",
       "      <td>1.0</td>\n",
       "      <td>5514.28</td>\n",
       "      <td>1739.03</td>\n",
       "    </tr>\n",
       "    <tr>\n",
       "      <th>35</th>\n",
       "      <td>79500</td>\n",
       "      <td>OFFICES AND PREMISES</td>\n",
       "      <td>0</td>\n",
       "      <td>Commercial, Offices, Offices and work studios</td>\n",
       "      <td>HOXTON EAST AND SHOREDITCH</td>\n",
       "      <td>DDM01</td>\n",
       "      <td>1.0</td>\n",
       "      <td>33087.00</td>\n",
       "      <td>3303.00</td>\n",
       "    </tr>\n",
       "    <tr>\n",
       "      <th>76</th>\n",
       "      <td>5900</td>\n",
       "      <td>LAND USED FOR STORAGE, CAR SPACES AND PREMISES</td>\n",
       "      <td>0</td>\n",
       "      <td>Commercial, Transport, Railway assets</td>\n",
       "      <td>HAGGERSTON</td>\n",
       "      <td>CSM01</td>\n",
       "      <td>2.0</td>\n",
       "      <td>5171.23</td>\n",
       "      <td>1710.60</td>\n",
       "    </tr>\n",
       "    <tr>\n",
       "      <th>85</th>\n",
       "      <td>5400</td>\n",
       "      <td>OFFICES AND PREMISES</td>\n",
       "      <td>0</td>\n",
       "      <td>Commercial, Offices, Offices and work studios</td>\n",
       "      <td>CAZENOVE</td>\n",
       "      <td>CSM01</td>\n",
       "      <td>1.0</td>\n",
       "      <td>1634.50</td>\n",
       "      <td>797.50</td>\n",
       "    </tr>\n",
       "  </tbody>\n",
       "</table>\n",
       "</div>"
      ],
      "text/plain": [
       "       rv                                  vo_propdescrip  empty_prop  \\\n",
       "10  11500                               CLUB AND PREMISES           0   \n",
       "22   9400                               SHOP AND PREMISES           1   \n",
       "35  79500                            OFFICES AND PREMISES           0   \n",
       "76   5900  LAND USED FOR STORAGE, CAR SPACES AND PREMISES           0   \n",
       "85   5400                            OFFICES AND PREMISES           0   \n",
       "\n",
       "                                           llpg_usage  \\\n",
       "10  Commercial, Leisure, Licensed private members’...   \n",
       "22  Commercial, Retail, Fast food outlets / takeaw...   \n",
       "35      Commercial, Offices, Offices and work studios   \n",
       "76              Commercial, Transport, Railway assets   \n",
       "85      Commercial, Offices, Offices and work studios   \n",
       "\n",
       "                          Ward paymeth_code  bill_no  account_bal  bill_bal  \n",
       "10                HACKNEY WICK        CSM01     22.0     10111.20   1101.70  \n",
       "22                    HOMERTON        CSM01      1.0      5514.28   1739.03  \n",
       "35  HOXTON EAST AND SHOREDITCH        DDM01      1.0     33087.00   3303.00  \n",
       "76                  HAGGERSTON        CSM01      2.0      5171.23   1710.60  \n",
       "85                    CAZENOVE        CSM01      1.0      1634.50    797.50  "
      ]
     },
     "execution_count": 38,
     "metadata": {},
     "output_type": "execute_result"
    }
   ],
   "source": [
    "combined_df4['empty_prop']=combined_df4['empty_prop'].fillna(0)\n",
    "combined_df4['empty_prop']=combined_df4['empty_prop'].replace(['Y','V'],1)\n",
    "combined_df4.head()"
   ]
  },
  {
   "cell_type": "code",
   "execution_count": 39,
   "metadata": {},
   "outputs": [
    {
     "name": "stderr",
     "output_type": "stream",
     "text": [
      "C:\\Users\\jotaylor\\AppData\\Local\\Continuum\\anaconda3\\lib\\site-packages\\ipykernel_launcher.py:1: SettingWithCopyWarning: \n",
      "A value is trying to be set on a copy of a slice from a DataFrame.\n",
      "Try using .loc[row_indexer,col_indexer] = value instead\n",
      "\n",
      "See the caveats in the documentation: http://pandas.pydata.org/pandas-docs/stable/indexing.html#indexing-view-versus-copy\n",
      "  \"\"\"Entry point for launching an IPython kernel.\n"
     ]
    },
    {
     "data": {
      "text/plain": [
       "0    1057\n",
       "1     309\n",
       "Name: bin_label, dtype: int64"
      ]
     },
     "execution_count": 39,
     "metadata": {},
     "output_type": "execute_result"
    }
   ],
   "source": [
    "combined_df4['bin_label']=combined_df4['bill_bal'].apply(lambda x: 1 if float(x)<0 else 0)\n",
    "combined_df4['bin_label'].value_counts()"
   ]
  },
  {
   "cell_type": "markdown",
   "metadata": {},
   "source": [
    "#### Dealing with too many different values in categorical data: llpg_usage and vo_propdescrip"
   ]
  },
  {
   "cell_type": "code",
   "execution_count": 40,
   "metadata": {},
   "outputs": [],
   "source": [
    "combined_df5 = combined_df4.copy()\n",
    "threshold=20\n",
    "\n",
    "counts = combined_df5['llpg_usage'].value_counts()\n",
    "repl = counts[counts <= threshold].index\n",
    "# list of uncommon values to be created, taken by indexing the value_counts where count is sub-threshold\n",
    "combined_df5['llpg_usage']=combined_df5['llpg_usage'].replace(repl, 'Other')\n",
    "# combined_df5"
   ]
  },
  {
   "cell_type": "code",
   "execution_count": 41,
   "metadata": {},
   "outputs": [],
   "source": [
    "counts = combined_df5['vo_propdescrip'].value_counts()\n",
    "repl = counts[counts <= threshold].index\n",
    "combined_df5['vo_propdescrip']=combined_df5['vo_propdescrip'].replace(repl, 'Other')\n",
    "# combined_df5"
   ]
  },
  {
   "cell_type": "code",
   "execution_count": null,
   "metadata": {},
   "outputs": [],
   "source": []
  },
  {
   "cell_type": "code",
   "execution_count": 42,
   "metadata": {},
   "outputs": [
    {
     "data": {
      "text/html": [
       "<div>\n",
       "<style scoped>\n",
       "    .dataframe tbody tr th:only-of-type {\n",
       "        vertical-align: middle;\n",
       "    }\n",
       "\n",
       "    .dataframe tbody tr th {\n",
       "        vertical-align: top;\n",
       "    }\n",
       "\n",
       "    .dataframe thead th {\n",
       "        text-align: right;\n",
       "    }\n",
       "</style>\n",
       "<table border=\"1\" class=\"dataframe\">\n",
       "  <thead>\n",
       "    <tr style=\"text-align: right;\">\n",
       "      <th>bin_label</th>\n",
       "      <th>0</th>\n",
       "      <th>1</th>\n",
       "      <th>neg_pctg</th>\n",
       "    </tr>\n",
       "    <tr>\n",
       "      <th>Ward</th>\n",
       "      <th></th>\n",
       "      <th></th>\n",
       "      <th></th>\n",
       "    </tr>\n",
       "  </thead>\n",
       "  <tbody>\n",
       "    <tr>\n",
       "      <th>KINGS PARK</th>\n",
       "      <td>4</td>\n",
       "      <td>5</td>\n",
       "      <td>125.000000</td>\n",
       "    </tr>\n",
       "    <tr>\n",
       "      <th>HAGGERSTON</th>\n",
       "      <td>44</td>\n",
       "      <td>32</td>\n",
       "      <td>72.727273</td>\n",
       "    </tr>\n",
       "    <tr>\n",
       "      <th>BROWNSWOOD</th>\n",
       "      <td>12</td>\n",
       "      <td>8</td>\n",
       "      <td>66.666667</td>\n",
       "    </tr>\n",
       "    <tr>\n",
       "      <th>WOODBERRY DOWN</th>\n",
       "      <td>9</td>\n",
       "      <td>5</td>\n",
       "      <td>55.555556</td>\n",
       "    </tr>\n",
       "    <tr>\n",
       "      <th>VICTORIA</th>\n",
       "      <td>11</td>\n",
       "      <td>6</td>\n",
       "      <td>54.545455</td>\n",
       "    </tr>\n",
       "    <tr>\n",
       "      <th>HOXTON WEST</th>\n",
       "      <td>57</td>\n",
       "      <td>27</td>\n",
       "      <td>47.368421</td>\n",
       "    </tr>\n",
       "    <tr>\n",
       "      <th>HOXTON EAST AND SHOREDITCH</th>\n",
       "      <td>155</td>\n",
       "      <td>64</td>\n",
       "      <td>41.290323</td>\n",
       "    </tr>\n",
       "    <tr>\n",
       "      <th>CLISSOLD</th>\n",
       "      <td>34</td>\n",
       "      <td>14</td>\n",
       "      <td>41.176471</td>\n",
       "    </tr>\n",
       "    <tr>\n",
       "      <th>SHACKLEWELL</th>\n",
       "      <td>34</td>\n",
       "      <td>11</td>\n",
       "      <td>32.352941</td>\n",
       "    </tr>\n",
       "    <tr>\n",
       "      <th>DE BEAUVOIR</th>\n",
       "      <td>26</td>\n",
       "      <td>8</td>\n",
       "      <td>30.769231</td>\n",
       "    </tr>\n",
       "    <tr>\n",
       "      <th>HOMERTON</th>\n",
       "      <td>49</td>\n",
       "      <td>15</td>\n",
       "      <td>30.612245</td>\n",
       "    </tr>\n",
       "    <tr>\n",
       "      <th>CAZENOVE</th>\n",
       "      <td>17</td>\n",
       "      <td>5</td>\n",
       "      <td>29.411765</td>\n",
       "    </tr>\n",
       "    <tr>\n",
       "      <th>HACKNEY DOWNS</th>\n",
       "      <td>22</td>\n",
       "      <td>6</td>\n",
       "      <td>27.272727</td>\n",
       "    </tr>\n",
       "    <tr>\n",
       "      <th>LEA BRIDGE</th>\n",
       "      <td>56</td>\n",
       "      <td>14</td>\n",
       "      <td>25.000000</td>\n",
       "    </tr>\n",
       "    <tr>\n",
       "      <th>HACKNEY CENTRAL</th>\n",
       "      <td>41</td>\n",
       "      <td>10</td>\n",
       "      <td>24.390244</td>\n",
       "    </tr>\n",
       "    <tr>\n",
       "      <th>LONDON FIELDS</th>\n",
       "      <td>93</td>\n",
       "      <td>22</td>\n",
       "      <td>23.655914</td>\n",
       "    </tr>\n",
       "    <tr>\n",
       "      <th>STOKE NEWINGTON</th>\n",
       "      <td>64</td>\n",
       "      <td>15</td>\n",
       "      <td>23.437500</td>\n",
       "    </tr>\n",
       "    <tr>\n",
       "      <th>DALSTON</th>\n",
       "      <td>81</td>\n",
       "      <td>18</td>\n",
       "      <td>22.222222</td>\n",
       "    </tr>\n",
       "    <tr>\n",
       "      <th>STAMFORD HILL WEST</th>\n",
       "      <td>18</td>\n",
       "      <td>4</td>\n",
       "      <td>22.222222</td>\n",
       "    </tr>\n",
       "    <tr>\n",
       "      <th>HACKNEY WICK</th>\n",
       "      <td>46</td>\n",
       "      <td>10</td>\n",
       "      <td>21.739130</td>\n",
       "    </tr>\n",
       "    <tr>\n",
       "      <th>SPRINGFIELD</th>\n",
       "      <td>33</td>\n",
       "      <td>4</td>\n",
       "      <td>12.121212</td>\n",
       "    </tr>\n",
       "  </tbody>\n",
       "</table>\n",
       "</div>"
      ],
      "text/plain": [
       "bin_label                     0   1    neg_pctg\n",
       "Ward                                           \n",
       "KINGS PARK                    4   5  125.000000\n",
       "HAGGERSTON                   44  32   72.727273\n",
       "BROWNSWOOD                   12   8   66.666667\n",
       "WOODBERRY DOWN                9   5   55.555556\n",
       "VICTORIA                     11   6   54.545455\n",
       "HOXTON WEST                  57  27   47.368421\n",
       "HOXTON EAST AND SHOREDITCH  155  64   41.290323\n",
       "CLISSOLD                     34  14   41.176471\n",
       "SHACKLEWELL                  34  11   32.352941\n",
       "DE BEAUVOIR                  26   8   30.769231\n",
       "HOMERTON                     49  15   30.612245\n",
       "CAZENOVE                     17   5   29.411765\n",
       "HACKNEY DOWNS                22   6   27.272727\n",
       "LEA BRIDGE                   56  14   25.000000\n",
       "HACKNEY CENTRAL              41  10   24.390244\n",
       "LONDON FIELDS                93  22   23.655914\n",
       "STOKE NEWINGTON              64  15   23.437500\n",
       "DALSTON                      81  18   22.222222\n",
       "STAMFORD HILL WEST           18   4   22.222222\n",
       "HACKNEY WICK                 46  10   21.739130\n",
       "SPRINGFIELD                  33   4   12.121212"
      ]
     },
     "execution_count": 42,
     "metadata": {},
     "output_type": "execute_result"
    }
   ],
   "source": [
    "ward_crosstab = pd.crosstab(combined_df4['Ward'],combined_df4['bin_label'])\n",
    "ward_crosstab['neg_pctg']=ward_crosstab[1]/ward_crosstab[0]*100\n",
    "ward_crosstab[ward_crosstab[1]>3].sort_values('neg_pctg',ascending=False)"
   ]
  },
  {
   "cell_type": "code",
   "execution_count": 43,
   "metadata": {},
   "outputs": [
    {
     "data": {
      "text/html": [
       "<div>\n",
       "<style scoped>\n",
       "    .dataframe tbody tr th:only-of-type {\n",
       "        vertical-align: middle;\n",
       "    }\n",
       "\n",
       "    .dataframe tbody tr th {\n",
       "        vertical-align: top;\n",
       "    }\n",
       "\n",
       "    .dataframe thead th {\n",
       "        text-align: right;\n",
       "    }\n",
       "</style>\n",
       "<table border=\"1\" class=\"dataframe\">\n",
       "  <thead>\n",
       "    <tr style=\"text-align: right;\">\n",
       "      <th>bin_label</th>\n",
       "      <th>0</th>\n",
       "      <th>1</th>\n",
       "      <th>neg_pctg</th>\n",
       "    </tr>\n",
       "    <tr>\n",
       "      <th>llpg_usage</th>\n",
       "      <th></th>\n",
       "      <th></th>\n",
       "      <th></th>\n",
       "    </tr>\n",
       "  </thead>\n",
       "  <tbody>\n",
       "    <tr>\n",
       "      <th>Commercial, Transport, Car Parking / Park And Ride Site</th>\n",
       "      <td>21</td>\n",
       "      <td>16</td>\n",
       "      <td>76.190476</td>\n",
       "    </tr>\n",
       "    <tr>\n",
       "      <th>Other</th>\n",
       "      <td>113</td>\n",
       "      <td>55</td>\n",
       "      <td>48.672566</td>\n",
       "    </tr>\n",
       "    <tr>\n",
       "      <th>Commercial, Industrial, Warehouse / Store / Storage Depot</th>\n",
       "      <td>64</td>\n",
       "      <td>22</td>\n",
       "      <td>34.375000</td>\n",
       "    </tr>\n",
       "    <tr>\n",
       "      <th>Commercial, Offices, Offices and work studios</th>\n",
       "      <td>301</td>\n",
       "      <td>98</td>\n",
       "      <td>32.558140</td>\n",
       "    </tr>\n",
       "    <tr>\n",
       "      <th>Commercial, Retail, Shop / Showroom</th>\n",
       "      <td>244</td>\n",
       "      <td>74</td>\n",
       "      <td>30.327869</td>\n",
       "    </tr>\n",
       "    <tr>\n",
       "      <th>Commercial, Retail, Restaurant / Cafeteria</th>\n",
       "      <td>47</td>\n",
       "      <td>11</td>\n",
       "      <td>23.404255</td>\n",
       "    </tr>\n",
       "    <tr>\n",
       "      <th>Commercial, Industrial, Workshop / Light Industrial</th>\n",
       "      <td>116</td>\n",
       "      <td>27</td>\n",
       "      <td>23.275862</td>\n",
       "    </tr>\n",
       "  </tbody>\n",
       "</table>\n",
       "</div>"
      ],
      "text/plain": [
       "bin_label                                             0   1   neg_pctg\n",
       "llpg_usage                                                            \n",
       "Commercial, Transport, Car Parking / Park And R...   21  16  76.190476\n",
       "Other                                               113  55  48.672566\n",
       "Commercial, Industrial, Warehouse / Store / Sto...   64  22  34.375000\n",
       "Commercial, Offices, Offices and work studios       301  98  32.558140\n",
       "Commercial, Retail, Shop / Showroom                 244  74  30.327869\n",
       "Commercial, Retail, Restaurant / Cafeteria           47  11  23.404255\n",
       "Commercial, Industrial, Workshop / Light Indust...  116  27  23.275862"
      ]
     },
     "execution_count": 43,
     "metadata": {},
     "output_type": "execute_result"
    }
   ],
   "source": [
    "usage_ct = pd.crosstab(combined_df5['llpg_usage'],combined_df5['bin_label'])\n",
    "usage_ct['neg_pctg']=usage_ct[1]/usage_ct[0]*100\n",
    "usage_ct.sort_values('neg_pctg',ascending=False)"
   ]
  },
  {
   "cell_type": "code",
   "execution_count": 44,
   "metadata": {},
   "outputs": [
    {
     "data": {
      "text/html": [
       "<div>\n",
       "<style scoped>\n",
       "    .dataframe tbody tr th:only-of-type {\n",
       "        vertical-align: middle;\n",
       "    }\n",
       "\n",
       "    .dataframe tbody tr th {\n",
       "        vertical-align: top;\n",
       "    }\n",
       "\n",
       "    .dataframe thead th {\n",
       "        text-align: right;\n",
       "    }\n",
       "</style>\n",
       "<table border=\"1\" class=\"dataframe\">\n",
       "  <thead>\n",
       "    <tr style=\"text-align: right;\">\n",
       "      <th>bin_label</th>\n",
       "      <th>0</th>\n",
       "      <th>1</th>\n",
       "      <th>neg_pctg</th>\n",
       "    </tr>\n",
       "    <tr>\n",
       "      <th>vo_propdescrip</th>\n",
       "      <th></th>\n",
       "      <th></th>\n",
       "      <th></th>\n",
       "    </tr>\n",
       "  </thead>\n",
       "  <tbody>\n",
       "    <tr>\n",
       "      <th>Other</th>\n",
       "      <td>228</td>\n",
       "      <td>101</td>\n",
       "      <td>30.699088</td>\n",
       "    </tr>\n",
       "    <tr>\n",
       "      <th>OFFICES AND PREMISES</th>\n",
       "      <td>124</td>\n",
       "      <td>51</td>\n",
       "      <td>29.142857</td>\n",
       "    </tr>\n",
       "    <tr>\n",
       "      <th>WAREHOUSE AND PREMISES</th>\n",
       "      <td>18</td>\n",
       "      <td>7</td>\n",
       "      <td>28.000000</td>\n",
       "    </tr>\n",
       "    <tr>\n",
       "      <th>SHOP AND PREMISES</th>\n",
       "      <td>215</td>\n",
       "      <td>69</td>\n",
       "      <td>24.295775</td>\n",
       "    </tr>\n",
       "    <tr>\n",
       "      <th>STORE AND PREMISES</th>\n",
       "      <td>42</td>\n",
       "      <td>12</td>\n",
       "      <td>22.222222</td>\n",
       "    </tr>\n",
       "    <tr>\n",
       "      <th>WORKSHOP AND PREMISES</th>\n",
       "      <td>96</td>\n",
       "      <td>22</td>\n",
       "      <td>18.644068</td>\n",
       "    </tr>\n",
       "    <tr>\n",
       "      <th>RESTAURANT AND PREMISES</th>\n",
       "      <td>27</td>\n",
       "      <td>5</td>\n",
       "      <td>15.625000</td>\n",
       "    </tr>\n",
       "    <tr>\n",
       "      <th>Offices and Premises</th>\n",
       "      <td>156</td>\n",
       "      <td>25</td>\n",
       "      <td>13.812155</td>\n",
       "    </tr>\n",
       "    <tr>\n",
       "      <th>Shop and Premises</th>\n",
       "      <td>33</td>\n",
       "      <td>5</td>\n",
       "      <td>13.157895</td>\n",
       "    </tr>\n",
       "    <tr>\n",
       "      <th>Workshop and Premises</th>\n",
       "      <td>25</td>\n",
       "      <td>3</td>\n",
       "      <td>10.714286</td>\n",
       "    </tr>\n",
       "    <tr>\n",
       "      <th>BUSINESS UNIT AND PREMISES</th>\n",
       "      <td>71</td>\n",
       "      <td>8</td>\n",
       "      <td>10.126582</td>\n",
       "    </tr>\n",
       "    <tr>\n",
       "      <th>CAR PARKING SPACE AND PREMISES</th>\n",
       "      <td>22</td>\n",
       "      <td>1</td>\n",
       "      <td>4.347826</td>\n",
       "    </tr>\n",
       "  </tbody>\n",
       "</table>\n",
       "</div>"
      ],
      "text/plain": [
       "bin_label                         0    1   neg_pctg\n",
       "vo_propdescrip                                     \n",
       "Other                           228  101  30.699088\n",
       "OFFICES AND PREMISES            124   51  29.142857\n",
       "WAREHOUSE AND PREMISES           18    7  28.000000\n",
       "SHOP AND PREMISES               215   69  24.295775\n",
       "STORE AND PREMISES               42   12  22.222222\n",
       "WORKSHOP AND PREMISES            96   22  18.644068\n",
       "RESTAURANT AND PREMISES          27    5  15.625000\n",
       "Offices and Premises            156   25  13.812155\n",
       "Shop and Premises                33    5  13.157895\n",
       "Workshop and Premises            25    3  10.714286\n",
       "BUSINESS UNIT AND PREMISES       71    8  10.126582\n",
       "CAR PARKING SPACE AND PREMISES   22    1   4.347826"
      ]
     },
     "execution_count": 44,
     "metadata": {},
     "output_type": "execute_result"
    }
   ],
   "source": [
    "descrip_ct =  pd.crosstab(combined_df5['vo_propdescrip'],combined_df5['bin_label'])\n",
    "descrip_ct['neg_pctg']=descrip_ct[1]/(descrip_ct[0]+descrip_ct[1])*100\n",
    "descrip_ct.sort_values('neg_pctg',ascending=False)"
   ]
  },
  {
   "cell_type": "markdown",
   "metadata": {},
   "source": [
    "\n",
    "\n",
    "Let's see how many different features are required for each feature that we want to one-hot encode"
   ]
  },
  {
   "cell_type": "code",
   "execution_count": 45,
   "metadata": {},
   "outputs": [
    {
     "name": "stdout",
     "output_type": "stream",
     "text": [
      "vo_propdescrip (1366, 140)\n",
      "empty_prop (1366, 11)\n",
      "llpg_usage (1366, 50)\n",
      "Ward (1366, 30)\n",
      "paymeth_code (1366, 17)\n"
     ]
    }
   ],
   "source": [
    "for i in ['vo_propdescrip','empty_prop', \n",
    "                   'llpg_usage', 'Ward', 'paymeth_code']:\n",
    "    print(i,(pd.get_dummies(combined_df4, columns=[i])).shape)"
   ]
  },
  {
   "cell_type": "markdown",
   "metadata": {},
   "source": [
    "Too many dummy variables are required for prop description and usage - ie too many diff values. So don't use these"
   ]
  },
  {
   "cell_type": "code",
   "execution_count": 46,
   "metadata": {},
   "outputs": [],
   "source": [
    "dummies_df = pd.get_dummies(combined_df4, columns=['Ward', 'paymeth_code'])\n",
    "dummies_df = dummies_df.drop(['vo_propdescrip','llpg_usage'],axis=1)"
   ]
  },
  {
   "cell_type": "code",
   "execution_count": 47,
   "metadata": {},
   "outputs": [
    {
     "data": {
      "text/plain": [
       "Index(['rv', 'empty_prop', 'bill_no', 'account_bal', 'bill_bal', 'bin_label',\n",
       "       'Ward_BROWNSWOOD', 'Ward_CAZENOVE', 'Ward_CLISSOLD', 'Ward_DALSTON',\n",
       "       'Ward_DE BEAUVOIR', 'Ward_HACKNEY CENTRAL', 'Ward_HACKNEY DOWNS',\n",
       "       'Ward_HACKNEY WICK', 'Ward_HAGGERSTON', 'Ward_HOMERTON',\n",
       "       'Ward_HOXTON EAST AND SHOREDITCH', 'Ward_HOXTON WEST',\n",
       "       'Ward_KINGS PARK', 'Ward_LEA BRIDGE', 'Ward_LONDON FIELDS',\n",
       "       'Ward_SHACKLEWELL', 'Ward_SPRINGFIELD', 'Ward_STAMFORD HILL WEST',\n",
       "       'Ward_STOKE NEWINGTON', 'Ward_VICTORIA', 'Ward_WOODBERRY DOWN',\n",
       "       'paymeth_code_CSH12', 'paymeth_code_CSHY', 'paymeth_code_CSM01',\n",
       "       'paymeth_code_CSQ01', 'paymeth_code_DD12', 'paymeth_code_DD14',\n",
       "       'paymeth_code_DDD14', 'paymeth_code_DDM01'],\n",
       "      dtype='object')"
      ]
     },
     "execution_count": 47,
     "metadata": {},
     "output_type": "execute_result"
    }
   ],
   "source": [
    "(dummies_df.keys())"
   ]
  },
  {
   "cell_type": "markdown",
   "metadata": {},
   "source": [
    "Make a dictionary to store names of variables with their indices"
   ]
  },
  {
   "cell_type": "code",
   "execution_count": 48,
   "metadata": {},
   "outputs": [],
   "source": [
    "feats_dict = dict()\n",
    "for i, name in enumerate(dummies_df.keys()):\n",
    "    feats_dict[i] = name \n",
    "# feats_dict"
   ]
  },
  {
   "cell_type": "code",
   "execution_count": 49,
   "metadata": {},
   "outputs": [],
   "source": [
    "y = combined_df4[['bin_label']].copy()\n",
    "X = dummies_df.drop(['bin_label','account_bal','bill_bal'], axis=1)"
   ]
  },
  {
   "cell_type": "code",
   "execution_count": 50,
   "metadata": {},
   "outputs": [
    {
     "name": "stdout",
     "output_type": "stream",
     "text": [
      "Feature ranking:\n",
      "1. \t rv                              (0.508691)\n",
      "2. \t bill_no                         (0.255622)\n",
      "3. \t empty_prop                      (0.028827)\n",
      "4. \t paymeth_code_DD12               (0.022776)\n",
      "5. \t Ward_HACKNEY CENTRAL            (0.019434)\n",
      "6. \t Ward_HACKNEY WICK               (0.017492)\n",
      "7. \t Ward_WOODBERRY DOWN             (0.017376)\n",
      "8. \t Ward_HAGGERSTON                 (0.012091)\n",
      "9. \t Ward_HOXTON EAST AND SHOREDITCH  (0.009939)\n",
      "10. \t Ward_SHACKLEWELL                (0.009821)\n",
      "11. \t Ward_STOKE NEWINGTON            (0.007099)\n",
      "12. \t Ward_HOXTON WEST                (0.007042)\n",
      "13. \t Ward_HACKNEY DOWNS              (0.006822)\n",
      "14. \t bin_label                       (0.006564)\n",
      "15. \t Ward_SPRINGFIELD                (0.006005)\n",
      "16. \t Ward_DE BEAUVOIR                (0.005976)\n",
      "17. \t Ward_KINGS PARK                 (0.005502)\n",
      "18. \t Ward_BROWNSWOOD                 (0.005449)\n",
      "19. \t Ward_DALSTON                    (0.005413)\n",
      "20. \t Ward_CLISSOLD                   (0.005305)\n",
      "21. \t account_bal                     (0.005169)\n",
      "22. \t bill_bal                        (0.005074)\n",
      "23. \t Ward_HOMERTON                   (0.004936)\n",
      "24. \t Ward_LEA BRIDGE                 (0.004442)\n",
      "25. \t Ward_CAZENOVE                   (0.004202)\n",
      "26. \t Ward_STAMFORD HILL WEST         (0.003794)\n",
      "27. \t Ward_LONDON FIELDS              (0.003139)\n",
      "28. \t paymeth_code_CSHY               (0.002585)\n",
      "29. \t paymeth_code_CSH12              (0.001639)\n",
      "30. \t paymeth_code_CSQ01              (0.001083)\n",
      "31. \t paymeth_code_CSM01              (0.000601)\n",
      "32. \t Ward_VICTORIA                   (0.000089)\n"
     ]
    },
    {
     "data": {
      "image/png": "[encoded data removed]",
      "text/plain": [
       "<Figure size 432x288 with 1 Axes>"
      ]
     },
     "metadata": {},
     "output_type": "display_data"
    }
   ],
   "source": [
    "forest = ExtraTreesClassifier(n_estimators=250,\n",
    "                              random_state=0)\n",
    "forest.fit(X, y['bin_label'])\n",
    "importances = forest.feature_importances_\n",
    "std = np.std([tree.feature_importances_ for tree in forest.estimators_],\n",
    "             axis=0)\n",
    "indices = np.argsort(importances)[::-1]\n",
    "\n",
    "# Print the feature ranking\n",
    "print(\"Feature ranking:\")\n",
    "\n",
    "for f in range(X.shape[1]):\n",
    "    print(\"{}. \\t {} {} ({:3f})\".format(f + 1, feats_dict[indices[f]], ' '*(30-len(feats_dict[indices[f]])),  importances[indices[f]]))\n",
    "\n",
    "# Plot the feature importances of the forest\n",
    "plt.figure()\n",
    "plt.title(\"Feature importances\")\n",
    "plt.bar(range(X.shape[1]), importances[indices],\n",
    "       color=\"r\", yerr=std[indices], align=\"center\")\n",
    "plt.xticks(range(X.shape[1]), indices)\n",
    "plt.xlim([-1, X.shape[1]])\n",
    "plt.show()"
   ]
  },
  {
   "cell_type": "markdown",
   "metadata": {},
   "source": [
    "Looking at following features:\n",
    "- continuous/binary: rates value, bill number, whether the property is empty\n",
    "- categorical (one-hot encoded): ward, payment code\n",
    "\n",
    "The categorical features have so many diff values that they are less impactful compared to others.\n",
    "\n",
    "To deal with this: let's combine types of usage. \n"
   ]
  },
  {
   "cell_type": "code",
   "execution_count": 51,
   "metadata": {},
   "outputs": [
    {
     "name": "stderr",
     "output_type": "stream",
     "text": [
      "C:\\Users\\jotaylor\\AppData\\Local\\Continuum\\anaconda3\\lib\\site-packages\\ipykernel_launcher.py:2: SettingWithCopyWarning: \n",
      "A value is trying to be set on a copy of a slice from a DataFrame.\n",
      "Try using .loc[row_indexer,col_indexer] = value instead\n",
      "\n",
      "See the caveats in the documentation: http://pandas.pydata.org/pandas-docs/stable/indexing.html#indexing-view-versus-copy\n",
      "  \n",
      "C:\\Users\\jotaylor\\AppData\\Local\\Continuum\\anaconda3\\lib\\site-packages\\ipykernel_launcher.py:3: SettingWithCopyWarning: \n",
      "A value is trying to be set on a copy of a slice from a DataFrame.\n",
      "Try using .loc[row_indexer,col_indexer] = value instead\n",
      "\n",
      "See the caveats in the documentation: http://pandas.pydata.org/pandas-docs/stable/indexing.html#indexing-view-versus-copy\n",
      "  This is separate from the ipykernel package so we can avoid doing imports until\n"
     ]
    },
    {
     "data": {
      "text/html": [
       "<div>\n",
       "<style scoped>\n",
       "    .dataframe tbody tr th:only-of-type {\n",
       "        vertical-align: middle;\n",
       "    }\n",
       "\n",
       "    .dataframe tbody tr th {\n",
       "        vertical-align: top;\n",
       "    }\n",
       "\n",
       "    .dataframe thead th {\n",
       "        text-align: right;\n",
       "    }\n",
       "</style>\n",
       "<table border=\"1\" class=\"dataframe\">\n",
       "  <thead>\n",
       "    <tr style=\"text-align: right;\">\n",
       "      <th></th>\n",
       "      <th>rv</th>\n",
       "      <th>vo_propdescrip</th>\n",
       "      <th>empty_prop</th>\n",
       "      <th>llpg_usage</th>\n",
       "      <th>Ward</th>\n",
       "      <th>paymeth_code</th>\n",
       "      <th>bill_no</th>\n",
       "      <th>account_bal</th>\n",
       "      <th>bill_bal</th>\n",
       "      <th>bin_label</th>\n",
       "      <th>split_llpg1</th>\n",
       "      <th>split_llpg2</th>\n",
       "    </tr>\n",
       "  </thead>\n",
       "  <tbody>\n",
       "    <tr>\n",
       "      <th>10</th>\n",
       "      <td>11500</td>\n",
       "      <td>CLUB AND PREMISES</td>\n",
       "      <td>0</td>\n",
       "      <td>Commercial, Leisure, Licensed private members’...</td>\n",
       "      <td>HACKNEY WICK</td>\n",
       "      <td>CSM01</td>\n",
       "      <td>22.0</td>\n",
       "      <td>10111.20</td>\n",
       "      <td>1101.70</td>\n",
       "      <td>0</td>\n",
       "      <td>Leisure</td>\n",
       "      <td>Leisure- Licensed private members’ clubs</td>\n",
       "    </tr>\n",
       "    <tr>\n",
       "      <th>22</th>\n",
       "      <td>9400</td>\n",
       "      <td>SHOP AND PREMISES</td>\n",
       "      <td>1</td>\n",
       "      <td>Commercial, Retail, Fast food outlets / takeaw...</td>\n",
       "      <td>HOMERTON</td>\n",
       "      <td>CSM01</td>\n",
       "      <td>1.0</td>\n",
       "      <td>5514.28</td>\n",
       "      <td>1739.03</td>\n",
       "      <td>0</td>\n",
       "      <td>Retail</td>\n",
       "      <td>Retail- Fast food outlets / takeaways (hot an...</td>\n",
       "    </tr>\n",
       "    <tr>\n",
       "      <th>35</th>\n",
       "      <td>79500</td>\n",
       "      <td>OFFICES AND PREMISES</td>\n",
       "      <td>0</td>\n",
       "      <td>Commercial, Offices, Offices and work studios</td>\n",
       "      <td>HOXTON EAST AND SHOREDITCH</td>\n",
       "      <td>DDM01</td>\n",
       "      <td>1.0</td>\n",
       "      <td>33087.00</td>\n",
       "      <td>3303.00</td>\n",
       "      <td>0</td>\n",
       "      <td>Offices</td>\n",
       "      <td>Offices- Offices and work studios</td>\n",
       "    </tr>\n",
       "    <tr>\n",
       "      <th>76</th>\n",
       "      <td>5900</td>\n",
       "      <td>LAND USED FOR STORAGE, CAR SPACES AND PREMISES</td>\n",
       "      <td>0</td>\n",
       "      <td>Commercial, Transport, Railway assets</td>\n",
       "      <td>HAGGERSTON</td>\n",
       "      <td>CSM01</td>\n",
       "      <td>2.0</td>\n",
       "      <td>5171.23</td>\n",
       "      <td>1710.60</td>\n",
       "      <td>0</td>\n",
       "      <td>Transport</td>\n",
       "      <td>Transport- Railway assets</td>\n",
       "    </tr>\n",
       "    <tr>\n",
       "      <th>85</th>\n",
       "      <td>5400</td>\n",
       "      <td>OFFICES AND PREMISES</td>\n",
       "      <td>0</td>\n",
       "      <td>Commercial, Offices, Offices and work studios</td>\n",
       "      <td>CAZENOVE</td>\n",
       "      <td>CSM01</td>\n",
       "      <td>1.0</td>\n",
       "      <td>1634.50</td>\n",
       "      <td>797.50</td>\n",
       "      <td>0</td>\n",
       "      <td>Offices</td>\n",
       "      <td>Offices- Offices and work studios</td>\n",
       "    </tr>\n",
       "  </tbody>\n",
       "</table>\n",
       "</div>"
      ],
      "text/plain": [
       "       rv                                  vo_propdescrip  empty_prop  \\\n",
       "10  11500                               CLUB AND PREMISES           0   \n",
       "22   9400                               SHOP AND PREMISES           1   \n",
       "35  79500                            OFFICES AND PREMISES           0   \n",
       "76   5900  LAND USED FOR STORAGE, CAR SPACES AND PREMISES           0   \n",
       "85   5400                            OFFICES AND PREMISES           0   \n",
       "\n",
       "                                           llpg_usage  \\\n",
       "10  Commercial, Leisure, Licensed private members’...   \n",
       "22  Commercial, Retail, Fast food outlets / takeaw...   \n",
       "35      Commercial, Offices, Offices and work studios   \n",
       "76              Commercial, Transport, Railway assets   \n",
       "85      Commercial, Offices, Offices and work studios   \n",
       "\n",
       "                          Ward paymeth_code  bill_no  account_bal  bill_bal  \\\n",
       "10                HACKNEY WICK        CSM01     22.0     10111.20   1101.70   \n",
       "22                    HOMERTON        CSM01      1.0      5514.28   1739.03   \n",
       "35  HOXTON EAST AND SHOREDITCH        DDM01      1.0     33087.00   3303.00   \n",
       "76                  HAGGERSTON        CSM01      2.0      5171.23   1710.60   \n",
       "85                    CAZENOVE        CSM01      1.0      1634.50    797.50   \n",
       "\n",
       "    bin_label split_llpg1                                        split_llpg2  \n",
       "10          0     Leisure           Leisure- Licensed private members’ clubs  \n",
       "22          0      Retail   Retail- Fast food outlets / takeaways (hot an...  \n",
       "35          0     Offices                  Offices- Offices and work studios  \n",
       "76          0   Transport                          Transport- Railway assets  \n",
       "85          0     Offices                  Offices- Offices and work studios  "
      ]
     },
     "execution_count": 51,
     "metadata": {},
     "output_type": "execute_result"
    }
   ],
   "source": [
    "# combined_df5 merged all uncommon values into a single 'other' var; this is an alternative strategy\n",
    "combined_df4['split_llpg1']=combined_df4['llpg_usage'].apply(lambda x: '-'.join(str(x).split(',')[1:2]))\n",
    "combined_df4['split_llpg2']=combined_df4['llpg_usage'].apply(lambda x: '-'.join(str(x).split(',')[1:3]))\n",
    "combined_df4.head()"
   ]
  },
  {
   "cell_type": "markdown",
   "metadata": {},
   "source": [
    "Now we can do crosstab on the more general version of llpg (ie more limited number of options)"
   ]
  },
  {
   "cell_type": "code",
   "execution_count": 56,
   "metadata": {},
   "outputs": [
    {
     "name": "stdout",
     "output_type": "stream",
     "text": [
      "bin_label    0   1     neg_pc\n",
      "edited                       \n",
      "11.0        13   1  92.857143\n",
      "1.0        454  48  90.438247\n",
      "12.0         9   2  81.818182\n",
      "3.0        182  49  78.787879\n",
      "2.0        205  72  74.007220\n"
     ]
    },
    {
     "name": "stderr",
     "output_type": "stream",
     "text": [
      "C:\\Users\\jotaylor\\AppData\\Local\\Continuum\\anaconda3\\lib\\site-packages\\ipykernel_launcher.py:5: SettingWithCopyWarning: \n",
      "A value is trying to be set on a copy of a slice from a DataFrame.\n",
      "Try using .loc[row_indexer,col_indexer] = value instead\n",
      "\n",
      "See the caveats in the documentation: http://pandas.pydata.org/pandas-docs/stable/indexing.html#indexing-view-versus-copy\n",
      "  \"\"\"\n"
     ]
    },
    {
     "data": {
      "image/png": "[encoded data removed]",
      "text/plain": [
       "<Figure size 432x288 with 1 Axes>"
      ]
     },
     "metadata": {},
     "output_type": "display_data"
    }
   ],
   "source": [
    "def show_crosstab(feat,df=combined_df4,threshold=10):\n",
    "    counts = df[feat].value_counts()\n",
    "    repl = counts[counts <= threshold].index\n",
    "    # list of uncommon values to be created, taken by indexing the value_counts where count is sub-threshold\n",
    "    df['edited']=df[feat].replace(repl, 'Other')\n",
    "\n",
    "    ct = pd.crosstab(df['edited'], df['bin_label'])\n",
    "    ct['neg_pc']=ct[0]/(ct[0]+ct[1])*100\n",
    "    sorted_df = ct.sort_values('neg_pc',ascending=False)\n",
    "    print(sorted_df.head())  \n",
    "    \n",
    "    plt.bar(range(len(ct)),(sorted_df['neg_pc']))\n",
    "    plt.xticks(range(len(ct)),sorted_df.index,rotation=90)\n",
    "    plt.ylabel('% of businesses in debt')\n",
    "    plt.xlabel(feat)\n",
    "show_crosstab('bill_no')"
   ]
  },
  {
   "cell_type": "code",
   "execution_count": 58,
   "metadata": {},
   "outputs": [
    {
     "name": "stdout",
     "output_type": "stream",
     "text": [
      "bin_label      0   1     neg_pc\n",
      "edited                         \n",
      "             155   6  96.273292\n",
      " Leisure      17   3  85.000000\n",
      " Industrial  191  53  78.278689\n",
      " Retail      326  92  77.990431\n",
      " Offices     305  98  75.682382\n"
     ]
    },
    {
     "name": "stderr",
     "output_type": "stream",
     "text": [
      "C:\\Users\\jotaylor\\AppData\\Local\\Continuum\\anaconda3\\lib\\site-packages\\ipykernel_launcher.py:5: SettingWithCopyWarning: \n",
      "A value is trying to be set on a copy of a slice from a DataFrame.\n",
      "Try using .loc[row_indexer,col_indexer] = value instead\n",
      "\n",
      "See the caveats in the documentation: http://pandas.pydata.org/pandas-docs/stable/indexing.html#indexing-view-versus-copy\n",
      "  \"\"\"\n"
     ]
    },
    {
     "data": {
      "image/png": "[encoded data removed]",
      "text/plain": [
       "<Figure size 432x288 with 1 Axes>"
      ]
     },
     "metadata": {},
     "output_type": "display_data"
    }
   ],
   "source": [
    "show_crosstab('split_llpg1')"
   ]
  },
  {
   "cell_type": "code",
   "execution_count": 59,
   "metadata": {},
   "outputs": [
    {
     "name": "stderr",
     "output_type": "stream",
     "text": [
      "C:\\Users\\jotaylor\\AppData\\Local\\Continuum\\anaconda3\\lib\\site-packages\\ipykernel_launcher.py:5: SettingWithCopyWarning: \n",
      "A value is trying to be set on a copy of a slice from a DataFrame.\n",
      "Try using .loc[row_indexer,col_indexer] = value instead\n",
      "\n",
      "See the caveats in the documentation: http://pandas.pydata.org/pandas-docs/stable/indexing.html#indexing-view-versus-copy\n",
      "  \"\"\"\n"
     ]
    },
    {
     "name": "stdout",
     "output_type": "stream",
     "text": [
      "bin_label                                   0   1     neg_pc\n",
      "edited                                                      \n",
      "                                          155   6  96.273292\n",
      " Retail- Public House / Bar / Nightclub    11   2  84.615385\n",
      " Industrial- Workshop / Light Industrial  116  27  81.118881\n",
      " Retail- Restaurant / Cafeteria            47  11  81.034483\n",
      " Retail- Shop / Showroom                  244  74  76.729560\n"
     ]
    },
    {
     "data": {
      "image/png": "[encoded data removed]",
      "text/plain": [
       "<Figure size 432x288 with 1 Axes>"
      ]
     },
     "metadata": {},
     "output_type": "display_data"
    }
   ],
   "source": [
    "show_crosstab('split_llpg2')"
   ]
  },
  {
   "cell_type": "code",
   "execution_count": 60,
   "metadata": {},
   "outputs": [
    {
     "ename": "AttributeError",
     "evalue": "'NoneType' object has no attribute 'any'",
     "output_type": "error",
     "traceback": [
      "\u001b[1;31m---------------------------------------------------------------------------\u001b[0m",
      "\u001b[1;31mAttributeError\u001b[0m                            Traceback (most recent call last)",
      "\u001b[1;32m<ipython-input-60-8420f6cca475>\u001b[0m in \u001b[0;36m<module>\u001b[1;34m()\u001b[0m\n\u001b[1;32m----> 1\u001b[1;33m \u001b[0mshow_crosstab\u001b[0m\u001b[1;33m(\u001b[0m\u001b[1;34m'empty_prop'\u001b[0m\u001b[1;33m)\u001b[0m\u001b[1;33m\u001b[0m\u001b[0m\n\u001b[0m",
      "\u001b[1;32m<ipython-input-56-e331fd0e6787>\u001b[0m in \u001b[0;36mshow_crosstab\u001b[1;34m(feat, df, threshold)\u001b[0m\n\u001b[0;32m      3\u001b[0m     \u001b[0mrepl\u001b[0m \u001b[1;33m=\u001b[0m \u001b[0mcounts\u001b[0m\u001b[1;33m[\u001b[0m\u001b[0mcounts\u001b[0m \u001b[1;33m<=\u001b[0m \u001b[0mthreshold\u001b[0m\u001b[1;33m]\u001b[0m\u001b[1;33m.\u001b[0m\u001b[0mindex\u001b[0m\u001b[1;33m\u001b[0m\u001b[0m\n\u001b[0;32m      4\u001b[0m     \u001b[1;31m# list of uncommon values to be created, taken by indexing the value_counts where count is sub-threshold\u001b[0m\u001b[1;33m\u001b[0m\u001b[1;33m\u001b[0m\u001b[0m\n\u001b[1;32m----> 5\u001b[1;33m     \u001b[0mdf\u001b[0m\u001b[1;33m[\u001b[0m\u001b[1;34m'edited'\u001b[0m\u001b[1;33m]\u001b[0m\u001b[1;33m=\u001b[0m\u001b[0mdf\u001b[0m\u001b[1;33m[\u001b[0m\u001b[0mfeat\u001b[0m\u001b[1;33m]\u001b[0m\u001b[1;33m.\u001b[0m\u001b[0mreplace\u001b[0m\u001b[1;33m(\u001b[0m\u001b[0mrepl\u001b[0m\u001b[1;33m,\u001b[0m \u001b[1;34m'Other'\u001b[0m\u001b[1;33m)\u001b[0m\u001b[1;33m\u001b[0m\u001b[0m\n\u001b[0m\u001b[0;32m      6\u001b[0m \u001b[1;33m\u001b[0m\u001b[0m\n\u001b[0;32m      7\u001b[0m     \u001b[0mct\u001b[0m \u001b[1;33m=\u001b[0m \u001b[0mpd\u001b[0m\u001b[1;33m.\u001b[0m\u001b[0mcrosstab\u001b[0m\u001b[1;33m(\u001b[0m\u001b[0mdf\u001b[0m\u001b[1;33m[\u001b[0m\u001b[1;34m'edited'\u001b[0m\u001b[1;33m]\u001b[0m\u001b[1;33m,\u001b[0m \u001b[0mdf\u001b[0m\u001b[1;33m[\u001b[0m\u001b[1;34m'bin_label'\u001b[0m\u001b[1;33m]\u001b[0m\u001b[1;33m)\u001b[0m\u001b[1;33m\u001b[0m\u001b[0m\n",
      "\u001b[1;32m~\\AppData\\Local\\Continuum\\anaconda3\\lib\\site-packages\\pandas\\core\\series.py\u001b[0m in \u001b[0;36mreplace\u001b[1;34m(self, to_replace, value, inplace, limit, regex, method)\u001b[0m\n\u001b[0;32m   3427\u001b[0m         return super(Series, self).replace(to_replace=to_replace, value=value,\n\u001b[0;32m   3428\u001b[0m                                            \u001b[0minplace\u001b[0m\u001b[1;33m=\u001b[0m\u001b[0minplace\u001b[0m\u001b[1;33m,\u001b[0m \u001b[0mlimit\u001b[0m\u001b[1;33m=\u001b[0m\u001b[0mlimit\u001b[0m\u001b[1;33m,\u001b[0m\u001b[1;33m\u001b[0m\u001b[0m\n\u001b[1;32m-> 3429\u001b[1;33m                                            regex=regex, method=method)\n\u001b[0m\u001b[0;32m   3430\u001b[0m \u001b[1;33m\u001b[0m\u001b[0m\n\u001b[0;32m   3431\u001b[0m     \u001b[1;33m@\u001b[0m\u001b[0mAppender\u001b[0m\u001b[1;33m(\u001b[0m\u001b[0mgeneric\u001b[0m\u001b[1;33m.\u001b[0m\u001b[0m_shared_docs\u001b[0m\u001b[1;33m[\u001b[0m\u001b[1;34m'shift'\u001b[0m\u001b[1;33m]\u001b[0m \u001b[1;33m%\u001b[0m \u001b[0m_shared_doc_kwargs\u001b[0m\u001b[1;33m)\u001b[0m\u001b[1;33m\u001b[0m\u001b[0m\n",
      "\u001b[1;32m~\\AppData\\Local\\Continuum\\anaconda3\\lib\\site-packages\\pandas\\core\\generic.py\u001b[0m in \u001b[0;36mreplace\u001b[1;34m(self, to_replace, value, inplace, limit, regex, method)\u001b[0m\n\u001b[0;32m   5850\u001b[0m                     new_data = self._data.replace(to_replace=to_replace,\n\u001b[0;32m   5851\u001b[0m                                                   \u001b[0mvalue\u001b[0m\u001b[1;33m=\u001b[0m\u001b[0mvalue\u001b[0m\u001b[1;33m,\u001b[0m \u001b[0minplace\u001b[0m\u001b[1;33m=\u001b[0m\u001b[0minplace\u001b[0m\u001b[1;33m,\u001b[0m\u001b[1;33m\u001b[0m\u001b[0m\n\u001b[1;32m-> 5852\u001b[1;33m                                                   regex=regex)\n\u001b[0m\u001b[0;32m   5853\u001b[0m             \u001b[1;32melif\u001b[0m \u001b[0mto_replace\u001b[0m \u001b[1;32mis\u001b[0m \u001b[1;32mNone\u001b[0m\u001b[1;33m:\u001b[0m\u001b[1;33m\u001b[0m\u001b[0m\n\u001b[0;32m   5854\u001b[0m                 if not (is_re_compilable(regex) or\n",
      "\u001b[1;32m~\\AppData\\Local\\Continuum\\anaconda3\\lib\\site-packages\\pandas\\core\\internals.py\u001b[0m in \u001b[0;36mreplace\u001b[1;34m(self, **kwargs)\u001b[0m\n\u001b[0;32m   3718\u001b[0m \u001b[1;33m\u001b[0m\u001b[0m\n\u001b[0;32m   3719\u001b[0m     \u001b[1;32mdef\u001b[0m \u001b[0mreplace\u001b[0m\u001b[1;33m(\u001b[0m\u001b[0mself\u001b[0m\u001b[1;33m,\u001b[0m \u001b[1;33m**\u001b[0m\u001b[0mkwargs\u001b[0m\u001b[1;33m)\u001b[0m\u001b[1;33m:\u001b[0m\u001b[1;33m\u001b[0m\u001b[0m\n\u001b[1;32m-> 3720\u001b[1;33m         \u001b[1;32mreturn\u001b[0m \u001b[0mself\u001b[0m\u001b[1;33m.\u001b[0m\u001b[0mapply\u001b[0m\u001b[1;33m(\u001b[0m\u001b[1;34m'replace'\u001b[0m\u001b[1;33m,\u001b[0m \u001b[1;33m**\u001b[0m\u001b[0mkwargs\u001b[0m\u001b[1;33m)\u001b[0m\u001b[1;33m\u001b[0m\u001b[0m\n\u001b[0m\u001b[0;32m   3721\u001b[0m \u001b[1;33m\u001b[0m\u001b[0m\n\u001b[0;32m   3722\u001b[0m     def replace_list(self, src_list, dest_list, inplace=False, regex=False,\n",
      "\u001b[1;32m~\\AppData\\Local\\Continuum\\anaconda3\\lib\\site-packages\\pandas\\core\\internals.py\u001b[0m in \u001b[0;36mapply\u001b[1;34m(self, f, axes, filter, do_integrity_check, consolidate, **kwargs)\u001b[0m\n\u001b[0;32m   3579\u001b[0m \u001b[1;33m\u001b[0m\u001b[0m\n\u001b[0;32m   3580\u001b[0m             \u001b[0mkwargs\u001b[0m\u001b[1;33m[\u001b[0m\u001b[1;34m'mgr'\u001b[0m\u001b[1;33m]\u001b[0m \u001b[1;33m=\u001b[0m \u001b[0mself\u001b[0m\u001b[1;33m\u001b[0m\u001b[0m\n\u001b[1;32m-> 3581\u001b[1;33m             \u001b[0mapplied\u001b[0m \u001b[1;33m=\u001b[0m \u001b[0mgetattr\u001b[0m\u001b[1;33m(\u001b[0m\u001b[0mb\u001b[0m\u001b[1;33m,\u001b[0m \u001b[0mf\u001b[0m\u001b[1;33m)\u001b[0m\u001b[1;33m(\u001b[0m\u001b[1;33m**\u001b[0m\u001b[0mkwargs\u001b[0m\u001b[1;33m)\u001b[0m\u001b[1;33m\u001b[0m\u001b[0m\n\u001b[0m\u001b[0;32m   3582\u001b[0m             \u001b[0mresult_blocks\u001b[0m \u001b[1;33m=\u001b[0m \u001b[0m_extend_blocks\u001b[0m\u001b[1;33m(\u001b[0m\u001b[0mapplied\u001b[0m\u001b[1;33m,\u001b[0m \u001b[0mresult_blocks\u001b[0m\u001b[1;33m)\u001b[0m\u001b[1;33m\u001b[0m\u001b[0m\n\u001b[0;32m   3583\u001b[0m \u001b[1;33m\u001b[0m\u001b[0m\n",
      "\u001b[1;32m~\\AppData\\Local\\Continuum\\anaconda3\\lib\\site-packages\\pandas\\core\\internals.py\u001b[0m in \u001b[0;36mreplace\u001b[1;34m(self, to_replace, value, inplace, filter, regex, convert, mgr)\u001b[0m\n\u001b[0;32m    800\u001b[0m                 \u001b[0mmask\u001b[0m\u001b[1;33m[\u001b[0m\u001b[0mfiltered_out\u001b[0m\u001b[1;33m.\u001b[0m\u001b[0mnonzero\u001b[0m\u001b[1;33m(\u001b[0m\u001b[1;33m)\u001b[0m\u001b[1;33m[\u001b[0m\u001b[1;36m0\u001b[0m\u001b[1;33m]\u001b[0m\u001b[1;33m]\u001b[0m \u001b[1;33m=\u001b[0m \u001b[1;32mFalse\u001b[0m\u001b[1;33m\u001b[0m\u001b[0m\n\u001b[0;32m    801\u001b[0m \u001b[1;33m\u001b[0m\u001b[0m\n\u001b[1;32m--> 802\u001b[1;33m             \u001b[0mblocks\u001b[0m \u001b[1;33m=\u001b[0m \u001b[0mself\u001b[0m\u001b[1;33m.\u001b[0m\u001b[0mputmask\u001b[0m\u001b[1;33m(\u001b[0m\u001b[0mmask\u001b[0m\u001b[1;33m,\u001b[0m \u001b[0mvalue\u001b[0m\u001b[1;33m,\u001b[0m \u001b[0minplace\u001b[0m\u001b[1;33m=\u001b[0m\u001b[0minplace\u001b[0m\u001b[1;33m)\u001b[0m\u001b[1;33m\u001b[0m\u001b[0m\n\u001b[0m\u001b[0;32m    803\u001b[0m             \u001b[1;32mif\u001b[0m \u001b[0mconvert\u001b[0m\u001b[1;33m:\u001b[0m\u001b[1;33m\u001b[0m\u001b[0m\n\u001b[0;32m    804\u001b[0m                 blocks = [b.convert(by_item=True, numeric=False,\n",
      "\u001b[1;32m~\\AppData\\Local\\Continuum\\anaconda3\\lib\\site-packages\\pandas\\core\\internals.py\u001b[0m in \u001b[0;36mputmask\u001b[1;34m(self, mask, new, align, inplace, axis, transpose, mgr)\u001b[0m\n\u001b[0;32m   1010\u001b[0m \u001b[1;33m\u001b[0m\u001b[0m\n\u001b[0;32m   1011\u001b[0m         \u001b[1;31m# maybe upcast me\u001b[0m\u001b[1;33m\u001b[0m\u001b[1;33m\u001b[0m\u001b[0m\n\u001b[1;32m-> 1012\u001b[1;33m         \u001b[1;32melif\u001b[0m \u001b[0mmask\u001b[0m\u001b[1;33m.\u001b[0m\u001b[0many\u001b[0m\u001b[1;33m(\u001b[0m\u001b[1;33m)\u001b[0m\u001b[1;33m:\u001b[0m\u001b[1;33m\u001b[0m\u001b[0m\n\u001b[0m\u001b[0;32m   1013\u001b[0m             \u001b[1;32mif\u001b[0m \u001b[0mtranspose\u001b[0m\u001b[1;33m:\u001b[0m\u001b[1;33m\u001b[0m\u001b[0m\n\u001b[0;32m   1014\u001b[0m                 \u001b[0mmask\u001b[0m \u001b[1;33m=\u001b[0m \u001b[0mmask\u001b[0m\u001b[1;33m.\u001b[0m\u001b[0mT\u001b[0m\u001b[1;33m\u001b[0m\u001b[0m\n",
      "\u001b[1;31mAttributeError\u001b[0m: 'NoneType' object has no attribute 'any'"
     ]
    }
   ],
   "source": [
    "show_crosstab('empty_prop')"
   ]
  },
  {
   "cell_type": "code",
   "execution_count": 61,
   "metadata": {},
   "outputs": [
    {
     "name": "stderr",
     "output_type": "stream",
     "text": [
      "C:\\Users\\jotaylor\\AppData\\Local\\Continuum\\anaconda3\\lib\\site-packages\\ipykernel_launcher.py:5: SettingWithCopyWarning: \n",
      "A value is trying to be set on a copy of a slice from a DataFrame.\n",
      "Try using .loc[row_indexer,col_indexer] = value instead\n",
      "\n",
      "See the caveats in the documentation: http://pandas.pydata.org/pandas-docs/stable/indexing.html#indexing-view-versus-copy\n",
      "  \"\"\"\n"
     ]
    },
    {
     "name": "stdout",
     "output_type": "stream",
     "text": [
      "bin_label            0   1     neg_pc\n",
      "edited                               \n",
      "SPRINGFIELD         33   4  89.189189\n",
      "HACKNEY WICK        46  10  82.142857\n",
      "DALSTON             81  18  81.818182\n",
      "STAMFORD HILL WEST  18   4  81.818182\n",
      "STOKE NEWINGTON     64  15  81.012658\n"
     ]
    },
    {
     "data": {
      "image/png": "[encoded data removed]",
      "text/plain": [
       "<Figure size 432x288 with 1 Axes>"
      ]
     },
     "metadata": {},
     "output_type": "display_data"
    }
   ],
   "source": [
    "show_crosstab('Ward')"
   ]
  },
  {
   "cell_type": "code",
   "execution_count": 62,
   "metadata": {},
   "outputs": [
    {
     "name": "stdout",
     "output_type": "stream",
     "text": [
      "bin_label    0    1     neg_pc\n",
      "edited                        \n",
      "Other       12    2  85.714286\n",
      "CSM01      922  230  80.034722\n",
      "DD12         9    3  75.000000\n",
      "CSH12       57   22  72.151899\n",
      "DDM01       57   52  52.293578\n"
     ]
    },
    {
     "name": "stderr",
     "output_type": "stream",
     "text": [
      "C:\\Users\\jotaylor\\AppData\\Local\\Continuum\\anaconda3\\lib\\site-packages\\ipykernel_launcher.py:5: SettingWithCopyWarning: \n",
      "A value is trying to be set on a copy of a slice from a DataFrame.\n",
      "Try using .loc[row_indexer,col_indexer] = value instead\n",
      "\n",
      "See the caveats in the documentation: http://pandas.pydata.org/pandas-docs/stable/indexing.html#indexing-view-versus-copy\n",
      "  \"\"\"\n"
     ]
    },
    {
     "data": {
      "image/png": "[encoded data removed]",
      "text/plain": [
       "<Figure size 432x288 with 1 Axes>"
      ]
     },
     "metadata": {},
     "output_type": "display_data"
    }
   ],
   "source": [
    "show_crosstab('paymeth_code')"
   ]
  },
  {
   "cell_type": "code",
   "execution_count": 63,
   "metadata": {},
   "outputs": [
    {
     "name": "stderr",
     "output_type": "stream",
     "text": [
      "C:\\Users\\jotaylor\\AppData\\Local\\Continuum\\anaconda3\\lib\\site-packages\\ipykernel_launcher.py:1: SettingWithCopyWarning: \n",
      "A value is trying to be set on a copy of a slice from a DataFrame.\n",
      "Try using .loc[row_indexer,col_indexer] = value instead\n",
      "\n",
      "See the caveats in the documentation: http://pandas.pydata.org/pandas-docs/stable/indexing.html#indexing-view-versus-copy\n",
      "  \"\"\"Entry point for launching an IPython kernel.\n"
     ]
    },
    {
     "data": {
      "text/html": [
       "<div>\n",
       "<style scoped>\n",
       "    .dataframe tbody tr th:only-of-type {\n",
       "        vertical-align: middle;\n",
       "    }\n",
       "\n",
       "    .dataframe tbody tr th {\n",
       "        vertical-align: top;\n",
       "    }\n",
       "\n",
       "    .dataframe thead th {\n",
       "        text-align: right;\n",
       "    }\n",
       "</style>\n",
       "<table border=\"1\" class=\"dataframe\">\n",
       "  <thead>\n",
       "    <tr style=\"text-align: right;\">\n",
       "      <th></th>\n",
       "      <th>paymeth_code</th>\n",
       "      <th>general_paymeth</th>\n",
       "    </tr>\n",
       "  </thead>\n",
       "  <tbody>\n",
       "    <tr>\n",
       "      <th>10</th>\n",
       "      <td>CSM01</td>\n",
       "      <td>CSM</td>\n",
       "    </tr>\n",
       "    <tr>\n",
       "      <th>22</th>\n",
       "      <td>CSM01</td>\n",
       "      <td>CSM</td>\n",
       "    </tr>\n",
       "    <tr>\n",
       "      <th>35</th>\n",
       "      <td>DDM01</td>\n",
       "      <td>DD</td>\n",
       "    </tr>\n",
       "    <tr>\n",
       "      <th>76</th>\n",
       "      <td>CSM01</td>\n",
       "      <td>CSM</td>\n",
       "    </tr>\n",
       "    <tr>\n",
       "      <th>85</th>\n",
       "      <td>CSM01</td>\n",
       "      <td>CSM</td>\n",
       "    </tr>\n",
       "    <tr>\n",
       "      <th>93</th>\n",
       "      <td>CSM01</td>\n",
       "      <td>CSM</td>\n",
       "    </tr>\n",
       "    <tr>\n",
       "      <th>96</th>\n",
       "      <td>CSM01</td>\n",
       "      <td>CSM</td>\n",
       "    </tr>\n",
       "    <tr>\n",
       "      <th>105</th>\n",
       "      <td>DDM01</td>\n",
       "      <td>DD</td>\n",
       "    </tr>\n",
       "    <tr>\n",
       "      <th>118</th>\n",
       "      <td>CSM01</td>\n",
       "      <td>CSM</td>\n",
       "    </tr>\n",
       "    <tr>\n",
       "      <th>129</th>\n",
       "      <td>DD12</td>\n",
       "      <td>DD</td>\n",
       "    </tr>\n",
       "    <tr>\n",
       "      <th>130</th>\n",
       "      <td>DD12</td>\n",
       "      <td>DD</td>\n",
       "    </tr>\n",
       "    <tr>\n",
       "      <th>155</th>\n",
       "      <td>CSM01</td>\n",
       "      <td>CSM</td>\n",
       "    </tr>\n",
       "    <tr>\n",
       "      <th>157</th>\n",
       "      <td>CSM01</td>\n",
       "      <td>CSM</td>\n",
       "    </tr>\n",
       "    <tr>\n",
       "      <th>173</th>\n",
       "      <td>CSM01</td>\n",
       "      <td>CSM</td>\n",
       "    </tr>\n",
       "    <tr>\n",
       "      <th>193</th>\n",
       "      <td>CSM01</td>\n",
       "      <td>CSM</td>\n",
       "    </tr>\n",
       "    <tr>\n",
       "      <th>200</th>\n",
       "      <td>CSM01</td>\n",
       "      <td>CSM</td>\n",
       "    </tr>\n",
       "    <tr>\n",
       "      <th>217</th>\n",
       "      <td>DDM01</td>\n",
       "      <td>DD</td>\n",
       "    </tr>\n",
       "    <tr>\n",
       "      <th>222</th>\n",
       "      <td>CSM01</td>\n",
       "      <td>CSM</td>\n",
       "    </tr>\n",
       "    <tr>\n",
       "      <th>228</th>\n",
       "      <td>DDM01</td>\n",
       "      <td>DD</td>\n",
       "    </tr>\n",
       "    <tr>\n",
       "      <th>232</th>\n",
       "      <td>CSM01</td>\n",
       "      <td>CSM</td>\n",
       "    </tr>\n",
       "    <tr>\n",
       "      <th>246</th>\n",
       "      <td>CSH12</td>\n",
       "      <td>CSM</td>\n",
       "    </tr>\n",
       "    <tr>\n",
       "      <th>254</th>\n",
       "      <td>CSM01</td>\n",
       "      <td>CSM</td>\n",
       "    </tr>\n",
       "    <tr>\n",
       "      <th>261</th>\n",
       "      <td>CSM01</td>\n",
       "      <td>CSM</td>\n",
       "    </tr>\n",
       "    <tr>\n",
       "      <th>267</th>\n",
       "      <td>CSM01</td>\n",
       "      <td>CSM</td>\n",
       "    </tr>\n",
       "    <tr>\n",
       "      <th>273</th>\n",
       "      <td>CSM01</td>\n",
       "      <td>CSM</td>\n",
       "    </tr>\n",
       "    <tr>\n",
       "      <th>287</th>\n",
       "      <td>CSM01</td>\n",
       "      <td>CSM</td>\n",
       "    </tr>\n",
       "    <tr>\n",
       "      <th>289</th>\n",
       "      <td>CSM01</td>\n",
       "      <td>CSM</td>\n",
       "    </tr>\n",
       "    <tr>\n",
       "      <th>319</th>\n",
       "      <td>CSM01</td>\n",
       "      <td>CSM</td>\n",
       "    </tr>\n",
       "    <tr>\n",
       "      <th>323</th>\n",
       "      <td>CSM01</td>\n",
       "      <td>CSM</td>\n",
       "    </tr>\n",
       "    <tr>\n",
       "      <th>327</th>\n",
       "      <td>DD12</td>\n",
       "      <td>DD</td>\n",
       "    </tr>\n",
       "    <tr>\n",
       "      <th>...</th>\n",
       "      <td>...</td>\n",
       "      <td>...</td>\n",
       "    </tr>\n",
       "    <tr>\n",
       "      <th>14000</th>\n",
       "      <td>CSM01</td>\n",
       "      <td>CSM</td>\n",
       "    </tr>\n",
       "    <tr>\n",
       "      <th>14002</th>\n",
       "      <td>CSM01</td>\n",
       "      <td>CSM</td>\n",
       "    </tr>\n",
       "    <tr>\n",
       "      <th>14013</th>\n",
       "      <td>CSM01</td>\n",
       "      <td>CSM</td>\n",
       "    </tr>\n",
       "    <tr>\n",
       "      <th>14015</th>\n",
       "      <td>CSM01</td>\n",
       "      <td>CSM</td>\n",
       "    </tr>\n",
       "    <tr>\n",
       "      <th>14018</th>\n",
       "      <td>CSM01</td>\n",
       "      <td>CSM</td>\n",
       "    </tr>\n",
       "    <tr>\n",
       "      <th>14020</th>\n",
       "      <td>CSM01</td>\n",
       "      <td>CSM</td>\n",
       "    </tr>\n",
       "    <tr>\n",
       "      <th>14022</th>\n",
       "      <td>CSM01</td>\n",
       "      <td>CSM</td>\n",
       "    </tr>\n",
       "    <tr>\n",
       "      <th>14024</th>\n",
       "      <td>CSM01</td>\n",
       "      <td>CSM</td>\n",
       "    </tr>\n",
       "    <tr>\n",
       "      <th>14026</th>\n",
       "      <td>CSM01</td>\n",
       "      <td>CSM</td>\n",
       "    </tr>\n",
       "    <tr>\n",
       "      <th>14028</th>\n",
       "      <td>CSM01</td>\n",
       "      <td>CSM</td>\n",
       "    </tr>\n",
       "    <tr>\n",
       "      <th>14030</th>\n",
       "      <td>CSM01</td>\n",
       "      <td>CSM</td>\n",
       "    </tr>\n",
       "    <tr>\n",
       "      <th>14044</th>\n",
       "      <td>CSM01</td>\n",
       "      <td>CSM</td>\n",
       "    </tr>\n",
       "    <tr>\n",
       "      <th>14050</th>\n",
       "      <td>CSM01</td>\n",
       "      <td>CSM</td>\n",
       "    </tr>\n",
       "    <tr>\n",
       "      <th>14060</th>\n",
       "      <td>CSM01</td>\n",
       "      <td>CSM</td>\n",
       "    </tr>\n",
       "    <tr>\n",
       "      <th>14066</th>\n",
       "      <td>CSM01</td>\n",
       "      <td>CSM</td>\n",
       "    </tr>\n",
       "    <tr>\n",
       "      <th>14082</th>\n",
       "      <td>CSM01</td>\n",
       "      <td>CSM</td>\n",
       "    </tr>\n",
       "    <tr>\n",
       "      <th>14103</th>\n",
       "      <td>CSM01</td>\n",
       "      <td>CSM</td>\n",
       "    </tr>\n",
       "    <tr>\n",
       "      <th>14115</th>\n",
       "      <td>CSM01</td>\n",
       "      <td>CSM</td>\n",
       "    </tr>\n",
       "    <tr>\n",
       "      <th>14125</th>\n",
       "      <td>CSM01</td>\n",
       "      <td>CSM</td>\n",
       "    </tr>\n",
       "    <tr>\n",
       "      <th>14130</th>\n",
       "      <td>CSM01</td>\n",
       "      <td>CSM</td>\n",
       "    </tr>\n",
       "    <tr>\n",
       "      <th>14134</th>\n",
       "      <td>CSH12</td>\n",
       "      <td>CSM</td>\n",
       "    </tr>\n",
       "    <tr>\n",
       "      <th>14150</th>\n",
       "      <td>DDM01</td>\n",
       "      <td>DD</td>\n",
       "    </tr>\n",
       "    <tr>\n",
       "      <th>14153</th>\n",
       "      <td>CSM01</td>\n",
       "      <td>CSM</td>\n",
       "    </tr>\n",
       "    <tr>\n",
       "      <th>14156</th>\n",
       "      <td>CSM01</td>\n",
       "      <td>CSM</td>\n",
       "    </tr>\n",
       "    <tr>\n",
       "      <th>14159</th>\n",
       "      <td>CSM01</td>\n",
       "      <td>CSM</td>\n",
       "    </tr>\n",
       "    <tr>\n",
       "      <th>14162</th>\n",
       "      <td>CSM01</td>\n",
       "      <td>CSM</td>\n",
       "    </tr>\n",
       "    <tr>\n",
       "      <th>14165</th>\n",
       "      <td>CSM01</td>\n",
       "      <td>CSM</td>\n",
       "    </tr>\n",
       "    <tr>\n",
       "      <th>14168</th>\n",
       "      <td>CSM01</td>\n",
       "      <td>CSM</td>\n",
       "    </tr>\n",
       "    <tr>\n",
       "      <th>14174</th>\n",
       "      <td>CSM01</td>\n",
       "      <td>CSM</td>\n",
       "    </tr>\n",
       "    <tr>\n",
       "      <th>14177</th>\n",
       "      <td>CSM01</td>\n",
       "      <td>CSM</td>\n",
       "    </tr>\n",
       "  </tbody>\n",
       "</table>\n",
       "<p>1366 rows × 2 columns</p>\n",
       "</div>"
      ],
      "text/plain": [
       "      paymeth_code general_paymeth\n",
       "10           CSM01             CSM\n",
       "22           CSM01             CSM\n",
       "35           DDM01              DD\n",
       "76           CSM01             CSM\n",
       "85           CSM01             CSM\n",
       "93           CSM01             CSM\n",
       "96           CSM01             CSM\n",
       "105          DDM01              DD\n",
       "118          CSM01             CSM\n",
       "129           DD12              DD\n",
       "130           DD12              DD\n",
       "155          CSM01             CSM\n",
       "157          CSM01             CSM\n",
       "173          CSM01             CSM\n",
       "193          CSM01             CSM\n",
       "200          CSM01             CSM\n",
       "217          DDM01              DD\n",
       "222          CSM01             CSM\n",
       "228          DDM01              DD\n",
       "232          CSM01             CSM\n",
       "246          CSH12             CSM\n",
       "254          CSM01             CSM\n",
       "261          CSM01             CSM\n",
       "267          CSM01             CSM\n",
       "273          CSM01             CSM\n",
       "287          CSM01             CSM\n",
       "289          CSM01             CSM\n",
       "319          CSM01             CSM\n",
       "323          CSM01             CSM\n",
       "327           DD12              DD\n",
       "...            ...             ...\n",
       "14000        CSM01             CSM\n",
       "14002        CSM01             CSM\n",
       "14013        CSM01             CSM\n",
       "14015        CSM01             CSM\n",
       "14018        CSM01             CSM\n",
       "14020        CSM01             CSM\n",
       "14022        CSM01             CSM\n",
       "14024        CSM01             CSM\n",
       "14026        CSM01             CSM\n",
       "14028        CSM01             CSM\n",
       "14030        CSM01             CSM\n",
       "14044        CSM01             CSM\n",
       "14050        CSM01             CSM\n",
       "14060        CSM01             CSM\n",
       "14066        CSM01             CSM\n",
       "14082        CSM01             CSM\n",
       "14103        CSM01             CSM\n",
       "14115        CSM01             CSM\n",
       "14125        CSM01             CSM\n",
       "14130        CSM01             CSM\n",
       "14134        CSH12             CSM\n",
       "14150        DDM01              DD\n",
       "14153        CSM01             CSM\n",
       "14156        CSM01             CSM\n",
       "14159        CSM01             CSM\n",
       "14162        CSM01             CSM\n",
       "14165        CSM01             CSM\n",
       "14168        CSM01             CSM\n",
       "14174        CSM01             CSM\n",
       "14177        CSM01             CSM\n",
       "\n",
       "[1366 rows x 2 columns]"
      ]
     },
     "execution_count": 63,
     "metadata": {},
     "output_type": "execute_result"
    }
   ],
   "source": [
    "combined_df4['general_paymeth']=combined_df4['paymeth_code'].apply(lambda x: 'DD' if 'DD' in x else 'CSM')\n",
    "combined_df4[['paymeth_code','general_paymeth']]"
   ]
  },
  {
   "cell_type": "code",
   "execution_count": null,
   "metadata": {},
   "outputs": [],
   "source": [
    "show_crosstab('general_paymeth')"
   ]
  },
  {
   "cell_type": "markdown",
   "metadata": {},
   "source": [
    "Too many different values for RV (rates value) so need to discretise it"
   ]
  },
  {
   "cell_type": "code",
   "execution_count": null,
   "metadata": {},
   "outputs": [],
   "source": [
    "combined_df4['discrete_rv']=pd.cut(combined_df4['rv'],bins=range(0,2000000,10000),labels=False)\n",
    "combined_df4[['rv','discrete_rv']]\n",
    "# print(combined_df4['rv'].max())\n",
    "# print(combined_df4['rv'].min())\n",
    "# print(combined_df4['discrete_rv'].max())\n",
    "# print(combined_df4['discrete_rv'].min())\n",
    "combined_df4['discrete_rv'].index[combined_df4['rv'].apply(np.isnan)]\n",
    "# list_of_nans=list((pd.isnull(combined_df4).any(1).nonzero()[0]))\n",
    "list_of_nans=list((pd.isnull(combined_df4)))\n",
    "print(list_of_nans)\n",
    "combined_df4['discrete_rv'].hist(bins=100)\n",
    "# plt.hist(combined_df4['discrete_rv'])\n",
    "# print(combined_df4.loc[list_of_nans])#[['rv','discrete_rv']])"
   ]
  },
  {
   "cell_type": "code",
   "execution_count": null,
   "metadata": {},
   "outputs": [],
   "source": [
    "forest = ExtraTreesClassifier(n_estimators=250,\n",
    "                              random_state=0)\n",
    "forest.fit(X, y['bin_label'])\n",
    "importances = forest.feature_importances_\n",
    "std = np.std([tree.feature_importances_ for tree in forest.estimators_],\n",
    "             axis=0)\n",
    "indices = np.argsort(importances)[::-1]\n",
    "\n",
    "# Print the feature ranking\n",
    "print(\"Feature ranking:\")\n",
    "\n",
    "for f in range(X.shape[1]):\n",
    "    print(\"{}. \\t {} {} ({:3f})\".format(f + 1, feats_dict[indices[f]], ' '*(30-len(feats_dict[indices[f]])),  importances[indices[f]]))\n",
    "\n",
    "# Plot the feature importances of the forest\n",
    "plt.figure()\n",
    "plt.title(\"Feature importances\")\n",
    "plt.bar(range(X.shape[1]), importances[indices],\n",
    "       color=\"r\", yerr=std[indices], align=\"center\")\n",
    "plt.xticks(range(X.shape[1]), indices)\n",
    "plt.xlim([-1, X.shape[1]])\n",
    "plt.show()"
   ]
  },
  {
   "cell_type": "code",
   "execution_count": null,
   "metadata": {},
   "outputs": [],
   "source": []
  }
 ],
 "metadata": {
  "kernelspec": {
   "display_name": "Python 3",
   "language": "python",
   "name": "python3"
  },
  "language_info": {
   "codemirror_mode": {
    "name": "ipython",
    "version": 3
   },
   "file_extension": ".py",
   "mimetype": "text/x-python",
   "name": "python",
   "nbconvert_exporter": "python",
   "pygments_lexer": "ipython3",
   "version": "3.6.5"
  }
 },
 "nbformat": 4,
 "nbformat_minor": 2
}
